{
 "cells": [
  {
   "cell_type": "code",
   "execution_count": 2,
   "metadata": {
    "ExecuteTime": {
     "end_time": "2023-04-21T16:18:48.948574Z",
     "start_time": "2023-04-21T16:18:46.115459Z"
    },
    "pycharm": {
     "name": "#%% setup\n"
    }
   },
   "outputs": [],
   "source": [
    "import os\n",
    "import pandas as pd\n",
    "import numpy as np\n",
    "pd.options.plotting.backend = \"plotly\"\n",
    "import plotly.io as pio\n",
    "pio.renderers.default = \"jupyterlab\"\n",
    "from plotly.subplots import make_subplots\n",
    "import plotly.graph_objects as go\n",
    "\n",
    "import analysis.data_importing as imp  # Custom importing module\n",
    "import analysis.plotting as pl  # Custom plotting module\n",
    "import interfaces.postprocessing as pif  # post processing interface\n",
    "import scipy.signal\n",
    "import warnings\n",
    "\n",
    "warnings.simplefilter(action='ignore', category=FutureWarning)\n",
    "\n",
    "\n",
    "def cross_correlate(series1, series2):\n",
    "    sig1 = series1.dropna()\n",
    "    sig2 = series2.dropna()\n",
    "    corr = scipy.signal.correlate(sig1, sig2)\n",
    "    lags = scipy.signal.correlation_lags(len(sig1), len(sig2))\n",
    "\n",
    "    return corr / corr.max(), lags\n",
    "\n",
    "\n",
    "def plot_cross_corr(series1, series2, corr, lags, title=\"\", show=False, renderer = \"\"):\n",
    "    fig = make_subplots(rows=2, cols=1)\n",
    "    fig.update_layout(title=title)\n",
    "    fig.update_xaxes(title = \"Time [s]\", row=1, col=1)\n",
    "    fig.update_yaxes(title = \"VT\", row=1, col=1)\n",
    "    fig.update_xaxes(title = \"Lag [s]\", row=2, col=1)\n",
    "    fig.update_yaxes(title = \"Cross Correlation\", row=2, col=1)\n",
    "    fig = fig.add_trace(go.Scatter(\n",
    "        x=series1.index,\n",
    "        y=series1.values,\n",
    "        name=\"Series1\"\n",
    "    ), row=1, col=1)\n",
    "    fig = fig.add_trace(go.Scatter(\n",
    "        x=series2.index,\n",
    "        y=series2.values,\n",
    "        name=\"Series2\"\n",
    "    ), row=1, col=1)\n",
    "    fig.add_trace(go.Scatter(\n",
    "        x=lags,\n",
    "        y=corr,\n",
    "        name=\"Cross-Correlation\"\n",
    "    ), row=2, col=1)\n",
    "    if show:\n",
    "        fig.show()\n",
    "    return fig"
   ]
  },
  {
   "cell_type": "code",
   "execution_count": 13,
   "metadata": {
    "ExecuteTime": {
     "start_time": "2023-04-21T17:20:36.189909Z",
     "end_time": "2023-04-21T17:20:43.105442Z"
    },
    "pycharm": {
     "name": "#%% Get Data\n"
    }
   },
   "outputs": [
    {
     "name": "stdout",
     "output_type": "stream",
     "text": [
      "cleaned_data folder already exists at data/Arnar_Larusson_2023-04-12_easy_ride\\cleaned_data\n"
     ]
    }
   ],
   "source": [
    "# Get and clean data\n",
    "activity_data_dir = \"data/Arnar_Larusson_2023-04-12_easy_ride\"\n",
    "uncleaned_data_dir = os.path.join(activity_data_dir, \"uncleaned_data\")\n",
    "cleaned_data_dir = os.path.join(activity_data_dir, \"cleaned_data\")\n",
    "imp.clean_all_data(uncleaned_data_dir)\n",
    "clean_dfs = imp.load_cleaned_data(cleaned_data_dir)\n",
    "\n",
    "raw_slow_df = clean_dfs[\"raw_slow_df\"]\n",
    "aws_b3_df = clean_dfs[\"aws_b3_df\"]\n",
    "live_b3_df = clean_dfs[\"live_b3_df\"]\n",
    "raw_fast_df = clean_dfs[\"raw_fast_df\"]\n",
    "\n",
    "# Post Processing Data from BR_rVE_RTformat\n",
    "chest_raw, chest_5hz, chest_bs, chest_bs_smooth, time, X_bbyb_df = pif.BR_rVE_RTformat_wrapper(uncleaned_data_dir)\n"
   ]
  },
  {
   "cell_type": "code",
   "execution_count": 5,
   "metadata": {
    "ExecuteTime": {
     "end_time": "2023-04-21T16:19:01.048036Z",
     "start_time": "2023-04-21T16:19:01.000129Z"
    }
   },
   "outputs": [
    {
     "data": {
      "text/html": [
       "<div>\n",
       "<style scoped>\n",
       "    .dataframe tbody tr th:only-of-type {\n",
       "        vertical-align: middle;\n",
       "    }\n",
       "\n",
       "    .dataframe tbody tr th {\n",
       "        vertical-align: top;\n",
       "    }\n",
       "\n",
       "    .dataframe thead th {\n",
       "        text-align: right;\n",
       "    }\n",
       "</style>\n",
       "<table border=\"1\" class=\"dataframe\">\n",
       "  <thead>\n",
       "    <tr style=\"text-align: right;\">\n",
       "      <th></th>\n",
       "      <th>breath-by-breath Time</th>\n",
       "      <th>BR Inst</th>\n",
       "      <th>BR ORA</th>\n",
       "      <th>TV Inst</th>\n",
       "      <th>TV Smoothed</th>\n",
       "      <th>VE Inst</th>\n",
       "      <th>VE Smoothed</th>\n",
       "      <th>In/Ex Ratio Inst</th>\n",
       "      <th>In/Ex Ratio Smoothed</th>\n",
       "    </tr>\n",
       "  </thead>\n",
       "  <tbody>\n",
       "    <tr>\n",
       "      <th>0</th>\n",
       "      <td>5.118</td>\n",
       "      <td>NaN</td>\n",
       "      <td>NaN</td>\n",
       "      <td>NaN</td>\n",
       "      <td>NaN</td>\n",
       "      <td>NaN</td>\n",
       "      <td>NaN</td>\n",
       "      <td>NaN</td>\n",
       "      <td>NaN</td>\n",
       "    </tr>\n",
       "    <tr>\n",
       "      <th>1</th>\n",
       "      <td>9.558</td>\n",
       "      <td>13.51</td>\n",
       "      <td>NaN</td>\n",
       "      <td>36.5</td>\n",
       "      <td>141.5</td>\n",
       "      <td>4.9</td>\n",
       "      <td>27.3</td>\n",
       "      <td>0.500</td>\n",
       "      <td>2.041</td>\n",
       "    </tr>\n",
       "    <tr>\n",
       "      <th>2</th>\n",
       "      <td>13.398</td>\n",
       "      <td>15.62</td>\n",
       "      <td>NaN</td>\n",
       "      <td>50.4</td>\n",
       "      <td>142.7</td>\n",
       "      <td>7.9</td>\n",
       "      <td>27.0</td>\n",
       "      <td>4.176</td>\n",
       "      <td>1.949</td>\n",
       "    </tr>\n",
       "    <tr>\n",
       "      <th>3</th>\n",
       "      <td>16.920</td>\n",
       "      <td>17.05</td>\n",
       "      <td>NaN</td>\n",
       "      <td>622.9</td>\n",
       "      <td>143.9</td>\n",
       "      <td>106.2</td>\n",
       "      <td>26.7</td>\n",
       "      <td>2.769</td>\n",
       "      <td>1.856</td>\n",
       "    </tr>\n",
       "    <tr>\n",
       "      <th>4</th>\n",
       "      <td>18.882</td>\n",
       "      <td>30.61</td>\n",
       "      <td>NaN</td>\n",
       "      <td>155.5</td>\n",
       "      <td>145.1</td>\n",
       "      <td>47.6</td>\n",
       "      <td>26.3</td>\n",
       "      <td>0.272</td>\n",
       "      <td>1.764</td>\n",
       "    </tr>\n",
       "    <tr>\n",
       "      <th>...</th>\n",
       "      <td>...</td>\n",
       "      <td>...</td>\n",
       "      <td>...</td>\n",
       "      <td>...</td>\n",
       "      <td>...</td>\n",
       "      <td>...</td>\n",
       "      <td>...</td>\n",
       "      <td>...</td>\n",
       "      <td>...</td>\n",
       "    </tr>\n",
       "    <tr>\n",
       "      <th>823</th>\n",
       "      <td>2558.238</td>\n",
       "      <td>31.91</td>\n",
       "      <td>28.4</td>\n",
       "      <td>245.1</td>\n",
       "      <td>226.1</td>\n",
       "      <td>78.2</td>\n",
       "      <td>48.0</td>\n",
       "      <td>0.757</td>\n",
       "      <td>1.097</td>\n",
       "    </tr>\n",
       "    <tr>\n",
       "      <th>824</th>\n",
       "      <td>2560.842</td>\n",
       "      <td>23.08</td>\n",
       "      <td>28.4</td>\n",
       "      <td>228.6</td>\n",
       "      <td>234.4</td>\n",
       "      <td>52.7</td>\n",
       "      <td>49.5</td>\n",
       "      <td>0.969</td>\n",
       "      <td>1.098</td>\n",
       "    </tr>\n",
       "    <tr>\n",
       "      <th>825</th>\n",
       "      <td>2563.362</td>\n",
       "      <td>23.81</td>\n",
       "      <td>27.0</td>\n",
       "      <td>178.4</td>\n",
       "      <td>242.7</td>\n",
       "      <td>42.5</td>\n",
       "      <td>51.0</td>\n",
       "      <td>0.656</td>\n",
       "      <td>1.099</td>\n",
       "    </tr>\n",
       "    <tr>\n",
       "      <th>826</th>\n",
       "      <td>2565.480</td>\n",
       "      <td>28.30</td>\n",
       "      <td>26.5</td>\n",
       "      <td>130.1</td>\n",
       "      <td>251.0</td>\n",
       "      <td>36.8</td>\n",
       "      <td>52.4</td>\n",
       "      <td>2.852</td>\n",
       "      <td>1.099</td>\n",
       "    </tr>\n",
       "    <tr>\n",
       "      <th>827</th>\n",
       "      <td>2569.638</td>\n",
       "      <td>14.42</td>\n",
       "      <td>25.1</td>\n",
       "      <td>740.9</td>\n",
       "      <td>259.3</td>\n",
       "      <td>106.9</td>\n",
       "      <td>53.9</td>\n",
       "      <td>NaN</td>\n",
       "      <td>NaN</td>\n",
       "    </tr>\n",
       "  </tbody>\n",
       "</table>\n",
       "<p>828 rows × 9 columns</p>\n",
       "</div>"
      ],
      "text/plain": [
       "     breath-by-breath Time  BR Inst  BR ORA  TV Inst  TV Smoothed  VE Inst  \\\n",
       "0                    5.118      NaN     NaN      NaN          NaN      NaN   \n",
       "1                    9.558    13.51     NaN     36.5        141.5      4.9   \n",
       "2                   13.398    15.62     NaN     50.4        142.7      7.9   \n",
       "3                   16.920    17.05     NaN    622.9        143.9    106.2   \n",
       "4                   18.882    30.61     NaN    155.5        145.1     47.6   \n",
       "..                     ...      ...     ...      ...          ...      ...   \n",
       "823               2558.238    31.91    28.4    245.1        226.1     78.2   \n",
       "824               2560.842    23.08    28.4    228.6        234.4     52.7   \n",
       "825               2563.362    23.81    27.0    178.4        242.7     42.5   \n",
       "826               2565.480    28.30    26.5    130.1        251.0     36.8   \n",
       "827               2569.638    14.42    25.1    740.9        259.3    106.9   \n",
       "\n",
       "     VE Smoothed  In/Ex Ratio Inst  In/Ex Ratio Smoothed  \n",
       "0            NaN               NaN                   NaN  \n",
       "1           27.3             0.500                 2.041  \n",
       "2           27.0             4.176                 1.949  \n",
       "3           26.7             2.769                 1.856  \n",
       "4           26.3             0.272                 1.764  \n",
       "..           ...               ...                   ...  \n",
       "823         48.0             0.757                 1.097  \n",
       "824         49.5             0.969                 1.098  \n",
       "825         51.0             0.656                 1.099  \n",
       "826         52.4             2.852                 1.099  \n",
       "827         53.9               NaN                   NaN  \n",
       "\n",
       "[828 rows x 9 columns]"
      ]
     },
     "execution_count": 5,
     "metadata": {},
     "output_type": "execute_result"
    }
   ],
   "source": [
    "X_bbyb_df"
   ]
  },
  {
   "cell_type": "markdown",
   "metadata": {},
   "source": [
    "# Get and clean data\n",
    "VT_p :  post processing VT data\n",
    "VT_pi : post processing VT data converted to integer values\n",
    "VT_l : live VT data"
   ]
  },
  {
   "cell_type": "code",
   "execution_count": null,
   "metadata": {
    "ExecuteTime": {
     "end_time": "2023-04-21T11:34:46.624429Z",
     "start_time": "2023-04-21T11:34:46.624429Z"
    },
    "pycharm": {
     "name": "#%% Orignal VT Signals\n"
    }
   },
   "outputs": [],
   "source": [
    "VT_p = pd.DataFrame(aws_b3_df[\"VT\"].set_axis(aws_b3_df[\"breathTime\"]))\n",
    "VT_pi = pd.DataFrame(aws_b3_df[\"VT\"].set_axis(aws_b3_df[\"breathTime\"].astype(int)))\n",
    "VT_l = pd.DataFrame(live_b3_df[\"VT\"].set_axis(live_b3_df[\"breathTime\"].astype(int)))"
   ]
  },
  {
   "cell_type": "code",
   "execution_count": null,
   "metadata": {
    "ExecuteTime": {
     "end_time": "2023-04-21T11:34:46.693339Z",
     "start_time": "2023-04-21T11:34:46.624429Z"
    }
   },
   "outputs": [],
   "source": [
    "# View data as table\n",
    "VT_view = VT_p.join(VT_pi, how=\"outer\", lsuffix=\"_p\", rsuffix=\"_pi\").join(VT_l, how=\"outer\", rsuffix=\"_l\").rename(columns={\"VT\" : \"VT_l\"})\n",
    "VT_view"
   ]
  },
  {
   "cell_type": "markdown",
   "metadata": {},
   "source": [
    "# Plot Original VT Data\n",
    "The original VT data is plotted below. There is a negligible difference between the VT_p and VT_pi data."
   ]
  },
  {
   "cell_type": "code",
   "execution_count": null,
   "metadata": {
    "ExecuteTime": {
     "end_time": "2023-04-21T11:34:47.150617Z",
     "start_time": "2023-04-21T11:34:46.928887Z"
    },
    "pycharm": {
     "name": "#%% Plotting Original Signals\n"
    }
   },
   "outputs": [],
   "source": [
    "plot_dict1 = {\n",
    "    \"Post Processing (Original)\" : (VT_p, \"index\" ,\"VT\"),\n",
    "    \"Post Processing (Int)\" : (VT_pi, \"index\",\"VT\"),\n",
    "    \"Live\" : (VT_l, \"index\", \"VT\")\n",
    "}\n",
    "pl.plot_df_columns(plot_dict1, plottitle = \"Original Signals\", xtitle=\"Time [s]\", ytitle= \"VT\", show = False, renderer = \"jupyterlab\")\n"
   ]
  },
  {
   "cell_type": "markdown",
   "metadata": {},
   "source": [
    "# Cross Correlation\n",
    "Cross-correlation is used to find the best offset between the two signals.\n",
    "It is defined as:\n",
    "$$\n",
    "\\begin{align}\n",
    "C_{xy}[k] = \\sum_{n=0}^{N-1} x[n]y[n-k]\n",
    "\\end{align}\n",
    "$$\n",
    "where $x[\\cdot]$ and $y[\\cdot]$ are the two signals and $k$ is the offset.\n",
    "\n",
    "The offset is found by finding the lag $k$ that maximizes value of the cross-correlation.\n",
    "\n",
    "However, our data is non-uniformly sampled.  Each measurement corresponds to a breath-detection in their corresponding algorithm. First, we must interpolate the data to get each series on the same time-scale"
   ]
  },
  {
   "cell_type": "markdown",
   "metadata": {},
   "source": [
    "# Interpolate Data"
   ]
  },
  {
   "cell_type": "code",
   "execution_count": null,
   "metadata": {
    "ExecuteTime": {
     "end_time": "2023-04-21T11:34:51.460678Z",
     "start_time": "2023-04-21T11:34:51.398176Z"
    }
   },
   "outputs": [],
   "source": [
    "# Create new dataframe by joining the two dataframes\n",
    "VT_j = VT_pi.join(VT_l, how=\"outer\", lsuffix=\"_pi\", rsuffix=\"_l\")\n",
    "VT_j"
   ]
  },
  {
   "cell_type": "code",
   "execution_count": null,
   "metadata": {
    "ExecuteTime": {
     "end_time": "2023-04-21T11:34:56.970407Z",
     "start_time": "2023-04-21T11:34:56.923525Z"
    }
   },
   "outputs": [],
   "source": [
    "# Interpolate the data based on the index\n",
    "VT_j_int = VT_j.interpolate(method=\"index\").fillna(value = 0) #fillna needed due to mismatch in length of each VT series\n",
    "VT_j_int"
   ]
  },
  {
   "cell_type": "code",
   "execution_count": null,
   "metadata": {
    "ExecuteTime": {
     "end_time": "2023-04-21T11:34:57.952601Z",
     "start_time": "2023-04-21T11:34:57.843702Z"
    }
   },
   "outputs": [],
   "source": [
    "# Plot Cross Correlation of interpolated series\n",
    "corr, lags = cross_correlate(VT_j_int[\"VT_pi\"], VT_j_int[\"VT_l\"])\n",
    "plot_cross_corr(VT_j_int[\"VT_pi\"], VT_j_int[\"VT_l\"], corr, lags, title=\"Cross Correlation of Interpolated Data\", show=False)"
   ]
  },
  {
   "cell_type": "markdown",
   "metadata": {},
   "source": [
    "Note: The VT metrics in VT_j_int are interpolated across the union of the breath times between the (integer) breath times of the post processing algorithm and the breath times of the live algorithm.  This is done to ensure that the two series are on the same time scale.  The interpolated values are filled with 0 to ensure that the cross-correlation is not biased by the length of the series.\n",
    "\n",
    "## Resampling to second-by-second intervals from breath-by-breath intervals\n",
    "\n"
   ]
  },
  {
   "cell_type": "code",
   "execution_count": null,
   "metadata": {
    "ExecuteTime": {
     "end_time": "2023-04-21T11:34:59.940737Z",
     "start_time": "2023-04-21T11:34:59.888646Z"
    }
   },
   "outputs": [],
   "source": [
    "# Create time df with\n",
    "d = pd.DataFrame(np.arange(max(VT_j_int.index)), index = np.arange(max(VT_j_int.index)))\n",
    "VT_sec = VT_j_int.join(d, how=\"outer\")\n",
    "# VT_j_int_sec # Uncomment to view\n",
    "VT_sec_int = VT_sec.interpolate(method=\"index\").fillna(value = 0).drop(columns=[0])\n",
    "VT_sec_int\n"
   ]
  },
  {
   "cell_type": "code",
   "execution_count": null,
   "metadata": {
    "ExecuteTime": {
     "end_time": "2023-04-21T11:35:00.744884Z",
     "start_time": "2023-04-21T11:35:00.561594Z"
    }
   },
   "outputs": [],
   "source": [
    "# Plot Cross Correlation of interpolated series\n",
    "corr, lags = cross_correlate(VT_sec_int[\"VT_pi\"], VT_sec_int[\"VT_l\"])\n",
    "plot_cross_corr(VT_sec_int[\"VT_pi\"], VT_sec_int[\"VT_l\"], corr, lags, title=\"Cross Correlation of Interpolated Data\", show=False)"
   ]
  },
  {
   "cell_type": "markdown",
   "metadata": {},
   "source": [
    "Resampling to second-by-second intervals and interpolating actually gave us a new peak on the cross correlation.  Now we shift by this lag to align the two series.\n"
   ]
  },
  {
   "cell_type": "code",
   "execution_count": null,
   "metadata": {
    "ExecuteTime": {
     "end_time": "2023-04-21T11:35:03.376620Z",
     "start_time": "2023-04-21T11:35:03.345364Z"
    }
   },
   "outputs": [],
   "source": [
    "# Shift the data by the argmax_lag of the cross correlation data\n",
    "opt_lag = lags[np.argmax(corr)]\n",
    "VT_sec_int[\"VT_l_shift\"] = VT_sec_int[\"VT_l\"].shift(opt_lag)\n",
    "VT_sec_int"
   ]
  },
  {
   "cell_type": "code",
   "execution_count": null,
   "metadata": {
    "ExecuteTime": {
     "end_time": "2023-04-21T11:35:04.846423Z",
     "start_time": "2023-04-21T11:35:04.700691Z"
    }
   },
   "outputs": [],
   "source": [
    "# Plot Cross Correlation of shifted series\n",
    "corr, lags = cross_correlate(VT_sec_int[\"VT_pi\"], VT_sec_int[\"VT_l_shift\"])\n",
    "plot_cross_corr(VT_sec_int[\"VT_pi\"], VT_sec_int[\"VT_l_shift\"], corr, lags, title=\"Cross Correlation of Interpolated Data\", show=False)"
   ]
  },
  {
   "cell_type": "markdown",
   "metadata": {},
   "source": [
    "Now the peak of the cross correlation is at 0 lag.  This means that the two series have the best alignment based on shifting the entirety of the live data by a constant lag\n"
   ]
  },
  {
   "cell_type": "code",
   "execution_count": null,
   "metadata": {
    "ExecuteTime": {
     "end_time": "2023-04-21T11:35:07.778382Z",
     "start_time": "2023-04-21T11:35:07.715871Z"
    }
   },
   "outputs": [],
   "source": [
    "# Compute the error between the two VT series\n",
    "VT_sec_int[\"error\"] = VT_sec_int[\"VT_pi\"] - VT_sec_int[\"VT_l_shift\"]\n",
    "VT_sec_int"
   ]
  },
  {
   "cell_type": "code",
   "execution_count": null,
   "metadata": {
    "ExecuteTime": {
     "end_time": "2023-04-21T11:35:09.048254Z",
     "start_time": "2023-04-21T11:35:08.952494Z"
    }
   },
   "outputs": [],
   "source": [
    "# Plot the error\n",
    "plot_dict2 = {\n",
    "    \"VT_pi\": (VT_sec_int, \"index\", \"VT_pi\"),\n",
    "    \"VT_l_shift\": (VT_sec_int, \"index\", \"VT_l_shift\"),\n",
    "    \"Error\" : (VT_sec_int, \"index\", \"error\")\n",
    "}\n",
    "fig = pl.plot_df_columns(plot_dict2, plottitle = \"Error\", xtitle=\"Time [s]\", ytitle= \"Error\", show = False, renderer = \"jupyterlab\")\n",
    "max_error = max(VT_sec_int[\"error\"].max(), abs(VT_sec_int[\"error\"].min()))\n",
    "fig.update_yaxes(range=[-max_error*1.1, max_error*1.1])\n",
    "# Color the figs traces such that if the error is negative its blue and positive it is red\n"
   ]
  },
  {
   "cell_type": "code",
   "execution_count": null,
   "metadata": {
    "ExecuteTime": {
     "end_time": "2023-04-21T11:35:10.948132Z",
     "start_time": "2023-04-21T11:35:10.852194Z"
    }
   },
   "outputs": [],
   "source": [
    "# Sum the absolute value of the error as a function of time\n",
    "VT_sec_int[\"abs_error\"] = VT_sec_int[\"error\"].abs()\n",
    "# Perform a cumulative sum of the absolute error from time 0 to time t\n",
    "VT_sec_int[\"cum_abs_error\"] = VT_sec_int[\"abs_error\"].cumsum()\n",
    "VT_sec_int\n",
    "# Average the cumulative error over time\n",
    "VT_sec_int[\"avg_cum_abs_error\"] = VT_sec_int[\"cum_abs_error\"] / VT_sec_int.index\n",
    "VT_sec_int\n"
   ]
  },
  {
   "cell_type": "code",
   "execution_count": null,
   "metadata": {
    "ExecuteTime": {
     "end_time": "2023-04-21T11:35:11.874433Z",
     "start_time": "2023-04-21T11:35:11.807731Z"
    }
   },
   "outputs": [],
   "source": [
    "# Get a running average of the error\n",
    "VT_sec_int[\"running_avg_error\"] = VT_sec_int[\"error\"].rolling(window=60).mean()\n",
    "# Plot the running average of the error with the VT data\n",
    "plot_dict_ra = {\n",
    "    \"Running Average Error\" : (VT_sec_int, \"index\", \"running_avg_error\")}\n",
    "fig = pl.create_subplots([plot_dict2, plot_dict_ra], plottitle = \"Running Average Error\", xtitles=[\"Time [s]\",\"Time [s]\"], ytitles= [\"VT and Error\", \"Minute Averaged Error\"], show = False)\n",
    "#fig"
   ]
  },
  {
   "cell_type": "code",
   "execution_count": null,
   "metadata": {
    "ExecuteTime": {
     "end_time": "2023-04-21T11:35:13.615986Z",
     "start_time": "2023-04-21T11:35:13.559738Z"
    }
   },
   "outputs": [],
   "source": [
    "# Plot the time-averaged cumulative error with the VT data\n",
    "plot_dict3 = {\n",
    "    \"VT_pi\": (VT_sec_int, \"index\", \"VT_pi\"),\n",
    "    \"VT_l\": (VT_sec_int, \"index\", \"VT_l\"),\n",
    "    \"Average Cumulative Error\" : (VT_sec_int, \"index\", \"avg_cum_abs_error\")}\n",
    "fig = pl.plot_df_columns(plot_dict3, plottitle = \"Time-Averaged Cumulative Error\", xtitle=\"Time [s]\", ytitle= \"Error\", show = False, renderer = \"jupyterlab\")"
   ]
  },
  {
   "cell_type": "code",
   "execution_count": null,
   "metadata": {
    "ExecuteTime": {
     "end_time": "2023-04-21T11:35:14.582971Z",
     "start_time": "2023-04-21T11:35:14.457478Z"
    }
   },
   "outputs": [],
   "source": [
    "gyr = raw_fast_df[[\"gx\", \"gy\", \"gz\"]].set_index(raw_fast_df[\"time\"])\n",
    "plot_dict_gyr = {\n",
    "    \"gx\" : (gyr, \"index\", \"gx\"),\n",
    "    \"gy\" : (gyr, \"index\", \"gy\"),\n",
    "    \"gz\" : (gyr, \"index\", \"gz\")\n",
    "}\n",
    "fig = pl.plot_df_columns(plot_dict_gyr, plottitle = \"Gyroscope Data\", xtitle=\"Time [s]\", ytitle= \"Gyroscope [deg/s]\", show = False, renderer = \"jupyterlab\")\n",
    "# fig"
   ]
  },
  {
   "cell_type": "code",
   "execution_count": null,
   "metadata": {
    "ExecuteTime": {
     "end_time": "2023-04-21T11:35:16.116353Z",
     "start_time": "2023-04-21T11:35:15.940378Z"
    }
   },
   "outputs": [],
   "source": [
    "acc = raw_fast_df[[\"ax\", \"ay\", \"az\"]].set_index(raw_fast_df[\"time\"])\n",
    "plot_dict_acc = {\n",
    "    \"ax\" : (acc, \"index\", \"ax\"),\n",
    "    \"ay\" : (acc, \"index\", \"ay\"),\n",
    "    \"az\" : (acc, \"index\", \"az\")\n",
    "}\n",
    "fig = pl.plot_df_columns(plot_dict_acc, plottitle = \"Accelerometer Data\", xtitle=\"Time [s]\", ytitle= \"Accelerometer [g]\", show = False, renderer = \"jupyterlab\")\n",
    "#fig"
   ]
  },
  {
   "cell_type": "code",
   "execution_count": null,
   "metadata": {
    "ExecuteTime": {
     "end_time": "2023-04-21T11:35:17.224055Z",
     "start_time": "2023-04-21T11:35:17.171869Z"
    }
   },
   "outputs": [],
   "source": [
    "# Get motion artifact data\n",
    "raw_pl = pd.DataFrame(raw_fast_df[\"pl\"]).set_index(raw_fast_df[\"time\"])\n",
    "#raw_pl\n"
   ]
  },
  {
   "cell_type": "code",
   "execution_count": null,
   "metadata": {
    "ExecuteTime": {
     "end_time": "2023-04-21T11:35:18.012442Z",
     "start_time": "2023-04-21T11:35:17.965576Z"
    }
   },
   "outputs": [],
   "source": [
    "# Plot raw pl data with the previous plot data\n",
    "plot_dict_pl = {\n",
    "    \"Raw PL\" : (raw_pl, \"index\", \"pl\")\n",
    "}\n",
    "fig = pl.plot_df_columns(plot_dict_pl, plottitle = \"Raw PL Data\", xtitle=\"Time [s]\", ytitle= \"PL\", show = False, renderer = \"jupyterlab\")\n",
    "#fig"
   ]
  },
  {
   "cell_type": "code",
   "execution_count": null,
   "metadata": {
    "ExecuteTime": {
     "end_time": "2023-04-21T11:55:37.020343Z",
     "start_time": "2023-04-21T11:55:24.473975Z"
    }
   },
   "outputs": [],
   "source": [
    "import importlib\n",
    "import analysis.plotting as pl\n",
    "importlib.reload(pl)\n",
    "# Plot VT and Raw data in subplots\n",
    "raw_chest = pd.DataFrame(raw_slow_df[\"c\"]).set_index(raw_slow_df[\"time\"])\n",
    "plot_dict_chest = {\n",
    "    \"Raw Chest\" : (raw_chest, \"index\", \"c\")\n",
    "}\n",
    "\n",
    "df_dicts = [plot_dict_chest, plot_dict2,plot_dict_ra, plot_dict_gyr, plot_dict_acc, plot_dict_pl]\n",
    "fig = pl.create_subplots(df_dicts, plottitle = \"VT, Error, and Movement\", xtitles= [\"Time [s]\",\"Time [s]\", \"Time [s]\",\"Time [s]\",\"Time [s]\",\"Time [s]\",\"Time [s]\"], ytitles= [\"Chest\", \"VT\", \"Average Error\", \"Gyroscope\", \"Accelerometer\", \"PL\"], show = True)"
   ]
  },
  {
   "cell_type": "markdown",
   "metadata": {},
   "source": [
    "# Minute Volume Data"
   ]
  },
  {
   "cell_type": "code",
   "execution_count": null,
   "metadata": {
    "ExecuteTime": {
     "end_time": "2023-04-21T11:37:20.014016Z",
     "start_time": "2023-04-21T11:37:19.480281Z"
    }
   },
   "outputs": [],
   "source": [
    "VE_p = pd.DataFrame(aws_b3_df[\"VE\"]).set_axis(aws_b3_df[\"breathTime\"])\n",
    "VE_pi = pd.DataFrame(aws_b3_df[\"VE\"]).set_axis(aws_b3_df[\"breathTime\"].astype(int))\n",
    "VE_l = pd.DataFrame(live_b3_df[\"VE\"]).set_axis(live_b3_df[\"breathTime\"])\n",
    "# For viewing\n",
    "VE_view = VE_p.join(VE_pi, how=\"outer\", lsuffix=\"_p\", rsuffix=\"_pi\").join(VE_l, how=\"outer\", rsuffix=\"_l\")\n",
    "VE_view\n"
   ]
  },
  {
   "cell_type": "code",
   "execution_count": null,
   "metadata": {
    "ExecuteTime": {
     "end_time": "2023-04-21T11:37:30.096500Z",
     "start_time": "2023-04-21T11:37:29.908357Z"
    }
   },
   "outputs": [],
   "source": [
    "# Plot VE data\n",
    "plot_dict5 = {\n",
    "    \"VE_p\": (VE_p, \"index\", \"VE\"),\n",
    "    \"VE_pi\": (VE_pi, \"index\", \"VE\"),\n",
    "    \"VE_l\": (VE_l, \"index\", \"VE\")\n",
    "}\n",
    "pl.plot_df_columns(plot_dict5, plottitle = \"VE Data\", xtitle=\"Time [s]\", ytitle= \"VE\", show = False, renderer = \"jupyterlab\")"
   ]
  },
  {
   "cell_type": "code",
   "execution_count": null,
   "metadata": {
    "ExecuteTime": {
     "end_time": "2023-04-21T11:38:26.907100Z",
     "start_time": "2023-04-21T11:38:26.788687Z"
    }
   },
   "outputs": [],
   "source": [
    "# Perform same interpolation steps as done with VT\n",
    "VE_j = VE_pi.join(VE_l, how=\"outer\", rsuffix=\"_l\", lsuffix=\"_pi\")\n",
    "VE_j_int = VE_j.interpolate(method=\"index\")"
   ]
  },
  {
   "cell_type": "code",
   "execution_count": null,
   "metadata": {
    "ExecuteTime": {
     "end_time": "2023-04-21T11:38:33.056818Z",
     "start_time": "2023-04-21T11:38:32.908219Z"
    }
   },
   "outputs": [],
   "source": [
    "d = pd.DataFrame(np.arange(max(VE_j_int.index)), index = np.arange(max(VE_j_int.index)))\n",
    "VE_sec = VE_j_int.join(d, how=\"outer\")\n",
    "# VT_j_int_sec # Uncomment to view\n",
    "VE_sec_int = VE_sec.interpolate(method=\"index\").fillna(value = 0).drop(columns=[0])\n"
   ]
  },
  {
   "cell_type": "code",
   "execution_count": null,
   "metadata": {
    "ExecuteTime": {
     "end_time": "2023-04-21T11:38:38.442789Z",
     "start_time": "2023-04-21T11:38:38.206316Z"
    }
   },
   "outputs": [],
   "source": [
    "# Compute the cross correlation of the interpolated data\n",
    "corr, lags = cross_correlate(VE_sec_int[\"VE_pi\"], VE_sec_int[\"VE_l\"])\n",
    "plot_cross_corr(VE_sec_int[\"VE_pi\"], VE_sec_int[\"VE_l\"], corr, lags, title=\"Cross Correlation of Interpolated VE Data\", show=False)"
   ]
  },
  {
   "cell_type": "code",
   "execution_count": null,
   "metadata": {
    "ExecuteTime": {
     "end_time": "2023-04-21T11:38:42.577429Z",
     "start_time": "2023-04-21T11:38:42.427170Z"
    }
   },
   "outputs": [],
   "source": [
    "# Shift VE_l by the lag found in the cross correlation of VT\n",
    "VE_sec_int[\"VE_l_shift\"] = VE_sec_int[\"VE_l\"].shift(opt_lag)\n",
    "# Plot the shifted VE data with the interpolated VE data\n",
    "plot_dict6 = {\n",
    "    \"VE_pi\": (VE_sec_int, \"index\", \"VE_pi\"),\n",
    "    \"VE_l_shift\": (VE_sec_int, \"index\", \"VE_l_shift\")\n",
    "}\n",
    "pl.plot_df_columns(plot_dict6, plottitle = \"Shifted VE Data\", xtitle=\"Time [s]\", ytitle= \"VE\", show = False, renderer = \"jupyterlab\")"
   ]
  },
  {
   "cell_type": "markdown",
   "metadata": {},
   "source": [
    "# Breathing Rate"
   ]
  },
  {
   "cell_type": "code",
   "execution_count": null,
   "metadata": {
    "ExecuteTime": {
     "end_time": "2023-04-21T16:05:54.435072Z",
     "start_time": "2023-04-21T16:05:54.339073Z"
    }
   },
   "outputs": [],
   "source": [
    "RR_p = pd.DataFrame(aws_b3_df[\"RRAvg\"]).set_axis(aws_b3_df[\"breathTime\"])\n",
    "RR_pi = pd.DataFrame(aws_b3_df[\"RRAvg\"]).set_axis(aws_b3_df[\"breathTime\"].astype(int))\n",
    "RR_l = pd.DataFrame(live_b3_df[\"RRAvg\"]).set_axis(live_b3_df[\"breathTime\"])"
   ]
  },
  {
   "cell_type": "code",
   "execution_count": null,
   "metadata": {
    "ExecuteTime": {
     "end_time": "2023-04-21T16:05:44.248271Z",
     "start_time": "2023-04-21T16:05:43.999271Z"
    }
   },
   "outputs": [],
   "source": [
    "# Plot RR data\n",
    "plot_dict_RR = {\n",
    "    \"RR_p\": (RR_p, \"index\", \"RRAvg\"),\n",
    "    \"RR_pi\": (RR_pi, \"index\", \"RRAvg\"),\n",
    "    \"RR_l\": (RR_l, \"index\", \"RRAvg\")\n",
    "}\n",
    "pl.plot_df_columns(plot_dict_RR, plottitle = \"RR Data\", xtitle=\"Time [s]\", ytitle= \"RR\", show = False, renderer = \"jupyterlab\")"
   ]
  }
 ],
 "metadata": {
  "kernelspec": {
   "display_name": "PyCharm (AlgorithmAnalysis2)",
   "language": "python",
   "name": "pycharm-ca00221f"
  },
  "language_info": {
   "codemirror_mode": {
    "name": "ipython",
    "version": 3
   },
   "file_extension": ".py",
   "mimetype": "text/x-python",
   "name": "python",
   "nbconvert_exporter": "python",
   "pygments_lexer": "ipython3",
   "version": "3.8.16"
  }
 },
 "nbformat": 4,
 "nbformat_minor": 1
}
