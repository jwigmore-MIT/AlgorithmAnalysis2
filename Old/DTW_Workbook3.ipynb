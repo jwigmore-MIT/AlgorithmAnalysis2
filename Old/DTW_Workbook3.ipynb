{
 "cells": [
  {
   "cell_type": "code",
   "execution_count": 1,
   "metadata": {
    "collapsed": true,
    "ExecuteTime": {
     "start_time": "2023-05-17T16:56:44.981847Z",
     "end_time": "2023-05-17T16:56:47.210257Z"
    }
   },
   "outputs": [
    {
     "name": "stdout",
     "output_type": "stream",
     "text": [
      "Importing the dtw module. When using in academic works please cite:\n",
      "  T. Giorgino. Computing and Visualizing Dynamic Time Warping Alignments in R: The dtw Package.\n",
      "  J. Stat. Soft., doi:10.18637/jss.v031.i07.\n",
      "\n"
     ]
    }
   ],
   "source": [
    "from Error_Compare import *\n",
    "import analysis.dtw as dtw\n",
    "import numpy as np\n",
    "%load_ext autoreload\n",
    "%autoreload 2"
   ]
  },
  {
   "cell_type": "code",
   "execution_count": 2,
   "outputs": [],
   "source": [
    "def ptp_abs_error(live, pp):\n",
    "    # Live will be the warped data aligned to the x_times of pp\n",
    "    error = np.zeros([len(live),2])\n",
    "    for i in range(len(live)):\n",
    "        x = live[i,0]\n",
    "        # get pp_val at x\n",
    "        pp_val = pp[pp[:,0] == x,1]\n",
    "        error[i,:] = x,abs(live[i,1] - pp_val)\n",
    "    return error\n",
    "\n",
    "def ptp_percent_error(live, pp):\n",
    "    # Live will be the warped data aligned to the x_times of pp\n",
    "    error = np.zeros([len(live),2])\n",
    "    for i in range(len(live)):\n",
    "        x = live[i,0]\n",
    "        # get pp_val at x\n",
    "        pp_val = pp[pp[:,0] == x,1]\n",
    "        error[i,:] = x,abs(live[i,1] - pp_val)/min(pp_val, live[i,1])\n",
    "        # fill any nan values with last value\n",
    "        error[np.isnan(error)] = error[np.isnan(error).sum(axis = 1) > 0,-1]\n",
    "    return error\n",
    "\n",
    "def get_frac_in_error(error_signal, low, high = np.inf):\n",
    "    error_indices = error_signal[(error_signal[:,1] > low) & (error_signal[:,1] < high),0]\n",
    "    #error_values = error_signal[(error_signal[:,1] > low) & (error_signal[:,1] < high),1]\n",
    "    frac_in_error = len(error_indices)/len(error_signal)\n",
    "    return frac_in_error, error_indices #error_values\n",
    "\n",
    "def ptp_missed_peak_error(live, pp):\n",
    "    error = np.zeros([len(live),2])\n",
    "    for i in range(len(live)):\n",
    "        x = live[i,0]\n",
    "        # get pp_val at x\n",
    "        pp_val = pp[pp[:,0] == x,1]\n",
    "        error[i,:] = x, abs(live[i,1] - pp_val)/live[i,1]\n",
    "        # fill any nan values with last value\n",
    "        error[np.isnan(error)] = error[np.isnan(error).sum(axis = 1) > 0,-1]\n",
    "    return error\n",
    "\n"
   ],
   "metadata": {
    "collapsed": false,
    "ExecuteTime": {
     "start_time": "2023-05-17T16:56:47.210257Z",
     "end_time": "2023-05-17T16:56:47.335248Z"
    }
   }
  },
  {
   "cell_type": "code",
   "execution_count": 3,
   "outputs": [],
   "source": [
    "activity_dir = \"data/dataset/2b8f256d-7063-410c-b66d-3bdfb7d140c5\"\n",
    "# Timeframe to look at\n",
    "min_time = 120\n",
    "live_min_time = 130 # we want a slightly delayed start for the live data\n",
    "max_time = np.inf\n",
    "# DTW Settings\n",
    "window1 = [1,10]\n",
    "window2 = 3\n",
    "gamma = 2 # scaling of shifting deviation penalty\n",
    "beta = 0.2 # exponential averaging factor\n",
    "\n"
   ],
   "metadata": {
    "collapsed": false,
    "ExecuteTime": {
     "start_time": "2023-05-17T16:56:47.335248Z",
     "end_time": "2023-05-17T16:56:47.444641Z"
    }
   }
  },
  {
   "cell_type": "code",
   "execution_count": 4,
   "outputs": [
    {
     "name": "stdout",
     "output_type": "stream",
     "text": [
      "No pickled data found in activity data directory. Cleaning data...\n",
      "cleaned_data folder already exists at data/dataset\\cleaned_data\n"
     ]
    }
   ],
   "source": [
    "\n",
    "activity = os.path.split(activity_dir)[-1]\n",
    "clean_dfs = load_data(activity_dir, has_uncleaned = False)\n",
    "\n",
    "key_metrics = [\"breathTime\", \"VT\", \"VE\", \"instBR\", \"RRAvg\"]#, \"VT\", \"RRAvg\", \"instBR\"]\n",
    "\n",
    "\n",
    "# Load Data\n",
    "raw_chest = clean_dfs[\"raw_slow_df\"][[\"time\",\"c\",]]\n",
    "\n",
    "live_b3_df = clean_dfs[\"live_b3_df\"][key_metrics]\n",
    "pp_b3_df = clean_dfs[\"aws_b3_df\"][key_metrics]\n",
    "\n",
    "#c_df = pd.read_csv(\"data/dataset/2b8f256d-7063-410c-b66d-3bdfb7d140c5/C_data/C_Offline_2023-05-12_vt1_ride_Raw.csv\")\n",
    "\n",
    "\n",
    "\n",
    "# Only look at a subset of the data\n",
    "raw_chest = raw_chest[(raw_chest[\"time\"] > min_time) & (raw_chest[\"time\"] < max_time)]\n",
    "live_b3_df = live_b3_df[(live_b3_df[\"breathTime\"] > live_min_time) & (live_b3_df[\"breathTime\"] < max_time)]\n",
    "pp_b3_df = pp_b3_df[(pp_b3_df[\"breathTime\"] > min_time) & (pp_b3_df[\"breathTime\"] < max_time)]\n",
    "#c_df = c_df[(c_df[\"ValleyTS\"] > min_time) & (c_df[\"ValleyTS\"] < max_time)]\n",
    "# print(c_df)"
   ],
   "metadata": {
    "collapsed": false,
    "ExecuteTime": {
     "start_time": "2023-05-17T16:56:47.444641Z",
     "end_time": "2023-05-17T16:56:50.487837Z"
    }
   }
  },
  {
   "cell_type": "code",
   "execution_count": 5,
   "outputs": [
    {
     "name": "stdout",
     "output_type": "stream",
     "text": [
      "pp_b3_df contains nans:  True\n"
     ]
    }
   ],
   "source": [
    "# Check of pp_b3_df contains nans\n",
    "print(\"pp_b3_df contains nans: \", pp_b3_df.isnull().values.any())\n",
    "# Backfill nans\n",
    "pp_b3_df = pp_b3_df.fillna(method = \"bfill\")"
   ],
   "metadata": {
    "collapsed": false,
    "ExecuteTime": {
     "start_time": "2023-05-17T16:56:50.487837Z",
     "end_time": "2023-05-17T16:56:50.628452Z"
    }
   }
  },
  {
   "cell_type": "code",
   "execution_count": 6,
   "outputs": [],
   "source": [
    "# First convert to numpy arrays\n",
    "VT_live = live_b3_df[[\"breathTime\", \"VT\"]].to_numpy()\n",
    "VT_pp = pp_b3_df[[\"breathTime\", \"VT\"]].to_numpy()"
   ],
   "metadata": {
    "collapsed": false,
    "ExecuteTime": {
     "start_time": "2023-05-17T16:56:50.628452Z",
     "end_time": "2023-05-17T16:56:50.742574Z"
    }
   }
  },
  {
   "cell_type": "code",
   "execution_count": 7,
   "outputs": [
    {
     "ename": "IndexError",
     "evalue": "invalid index to scalar variable.",
     "output_type": "error",
     "traceback": [
      "\u001B[1;31m---------------------------------------------------------------------------\u001B[0m",
      "\u001B[1;31mIndexError\u001B[0m                                Traceback (most recent call last)",
      "Cell \u001B[1;32mIn[7], line 4\u001B[0m\n\u001B[0;32m      2\u001B[0m warped \u001B[38;5;241m=\u001B[39m dtw\u001B[38;5;241m.\u001B[39mremap_query(VT_live, VT_pp, VT_i_to_j)\n\u001B[0;32m      3\u001B[0m VT_i_to_j_fixed \u001B[38;5;241m=\u001B[39m dtw\u001B[38;5;241m.\u001B[39mfix_i_to_j(VT_i_to_j, warped)\n\u001B[1;32m----> 4\u001B[0m VT_DTW2, VT_i_to_j_2 \u001B[38;5;241m=\u001B[39m \u001B[43mdtw\u001B[49m\u001B[38;5;241;43m.\u001B[39;49m\u001B[43mdtw2\u001B[49m\u001B[43m(\u001B[49m\u001B[43mVT_i_to_j_fixed\u001B[49m\u001B[43m,\u001B[49m\u001B[43m \u001B[49m\u001B[43mVT_pp\u001B[49m\u001B[43m,\u001B[49m\u001B[43m \u001B[49m\u001B[43mwindow2\u001B[49m\u001B[43m)\u001B[49m\n",
      "File \u001B[1;32mC:\\GitHub\\AlgorithmAnalysis2\\analysis\\dtw.py:86\u001B[0m, in \u001B[0;36mdtw2\u001B[1;34m(qry, ref, window)\u001B[0m\n\u001B[0;32m     81\u001B[0m \u001B[38;5;66;03m# Loop through each element of the query\u001B[39;00m\n\u001B[0;32m     82\u001B[0m \u001B[38;5;28;01mfor\u001B[39;00m i, q \u001B[38;5;129;01min\u001B[39;00m \u001B[38;5;28mzip\u001B[39m(\u001B[38;5;28mrange\u001B[39m(n), qry):\n\u001B[0;32m     83\u001B[0m     \u001B[38;5;66;03m# i is the index of the query\u001B[39;00m\n\u001B[0;32m     84\u001B[0m     \u001B[38;5;66;03m# q is the element of the query\u001B[39;00m\n\u001B[0;32m     85\u001B[0m     \u001B[38;5;66;03m# Loop through each element of the reference\u001B[39;00m\n\u001B[1;32m---> 86\u001B[0m     min_r0 \u001B[38;5;241m=\u001B[39m \u001B[43mq\u001B[49m\u001B[43m[\u001B[49m\u001B[38;5;241;43m0\u001B[39;49m\u001B[43m]\u001B[49m \u001B[38;5;241m-\u001B[39m window\n\u001B[0;32m     87\u001B[0m     max_r0 \u001B[38;5;241m=\u001B[39m q[\u001B[38;5;241m0\u001B[39m] \u001B[38;5;241m+\u001B[39m window\n\u001B[0;32m     88\u001B[0m     min_cost \u001B[38;5;241m=\u001B[39m np\u001B[38;5;241m.\u001B[39minf\n",
      "\u001B[1;31mIndexError\u001B[0m: invalid index to scalar variable."
     ]
    }
   ],
   "source": [
    "VT_DTW, VT_i_to_j, _ = dtw.dtw_distance(VT_live, VT_pp, avg_shift= True, window = window1, gamma = gamma, beta = beta)\n",
    "warped = dtw.remap_query(VT_live, VT_pp, VT_i_to_j)\n",
    "VT_i_to_j_fixed = dtw.fix_i_to_j(VT_i_to_j, warped)\n",
    "VT_DTW2, VT_i_to_j_2 = dtw.dtw2(VT_i_to_j_fixed, VT_pp, window2)\n",
    "\n",
    "#rewarped = dtw.remap_query(VT_live, VT_pp, VT_i_to_j_fixed)"
   ],
   "metadata": {
    "collapsed": false,
    "ExecuteTime": {
     "start_time": "2023-05-17T16:41:45.344783Z",
     "end_time": "2023-05-17T16:41:45.485418Z"
    }
   }
  },
  {
   "cell_type": "code",
   "execution_count": 310,
   "outputs": [
    {
     "name": "stdout",
     "output_type": "stream",
     "text": [
      "VT_error2_frac:  0.04497354497354497\n",
      "VT_perror2_frac: 0.07936507936507936\n",
      "VT_perror_avg: 0.23548964289498361\n",
      "Missed Peak frac: 0.006613756613756613\n"
     ]
    }
   ],
   "source": [
    "VT_error1 = ptp_abs_error(warped, VT_pp)\n",
    "VT_error2 = ptp_abs_error(rewarped, VT_pp)\n",
    "\n",
    "VT_perror1 = ptp_percent_error(warped, VT_pp)\n",
    "VT_perror2 = ptp_percent_error(rewarped, VT_pp)\n",
    "\n",
    "VT_error1_frac, VT_error1_ind = get_frac_in_error(VT_error1, 100)\n",
    "VT_error2_frac, VT_error2_ind = get_frac_in_error(VT_error2, 100)\n",
    "\n",
    "VT_perror1_frac, VT_perror1_ind = get_frac_in_error(VT_perror1, .50)\n",
    "VT_perror2_frac, VT_perror2_ind = get_frac_in_error(VT_perror2, .50)\n",
    "\n",
    "\n",
    "VT_perror_avg = np.mean(VT_perror1[:,1])\n",
    "\n",
    "VT_missed_peak_error = ptp_missed_peak_error(rewarped, VT_pp)\n",
    "VT_missed_peak_error_frac, missed_peak_ind = get_frac_in_error(VT_missed_peak_error, 1.0)\n",
    "\n",
    "#print(\"VT_error1_frac: \", VT_error1_frac)\n",
    "print(\"VT_error2_frac: \", VT_error2_frac)\n",
    "\n",
    "#print(\"VT_perror1_frac:\", VT_perror1_frac)\n",
    "print(\"VT_perror2_frac:\", VT_perror2_frac)\n",
    "\n",
    "print(\"VT_perror_avg:\", VT_perror_avg)\n",
    "\n",
    "print(\"Missed Peak frac:\", VT_missed_peak_error_frac)\n",
    "\n",
    "\n"
   ],
   "metadata": {
    "collapsed": false,
    "ExecuteTime": {
     "start_time": "2023-05-17T16:41:45.485418Z",
     "end_time": "2023-05-17T16:41:45.704153Z"
    }
   }
  },
  {
   "cell_type": "code",
   "execution_count": 311,
   "outputs": [],
   "source": [
    "# plot the error\n",
    "fig = make_subplots(rows = 3, cols = 1, shared_xaxes = True, vertical_spacing = 0.05, subplot_titles = (\"VT\", \"Abs Error\"))\n",
    "# First plot the VT\n",
    "fig.add_trace(go.Scatter(x = VT_live[:,0], y = VT_live[:,1], marker = dict(color = \"blue\"),  name = \"Live\"), row = 1, col = 1)\n",
    "fig.add_trace(go.Scatter(x = VT_pp[:,0], y = VT_pp[:,1], marker = dict(color = \"red\"), name = \"PP\"), row = 1, col = 1)\n",
    "fig.add_trace(go.Scatter(x = warped[:,0], y = warped[:,1], line = dict(dash = \"dash\"),marker = dict(color = \"blue\"), name = \"Warped\"), row = 1, col = 1)\n",
    "fig.add_trace(go.Scatter(x = rewarped[:,0], y = rewarped[:,1], line = dict(dash = \"dot\"),marker = dict(color = \"blue\"), name = \"Rewarped\"), row = 1, col = 1)\n",
    "# fig.add_trace(go.Scatter(x = c_df[\"PeakTS\"], y = c_df[\"VT\"], marker = dict(color = \"green\"), name = \"C Detections\"), row = 1, col = 1)\n",
    "# Now plot the error\n",
    "fig.add_trace(go.Scatter(x = VT_error1[:,0], y = VT_error1[:,1], line = dict(dash = \"dash\"), marker = dict(color = \"green\"),  name = \"Warped Error\"), row = 2, col = 1)\n",
    "fig.add_trace(go.Scatter(x = VT_error2[:,0], y = VT_error2[:,1], line = dict(dash = \"dot\"), marker = dict(color = \"green\"), name = \"Rewarped Error\"), row=2, col = 1)\n",
    "\n",
    "fig.add_trace(go.Scatter(x = raw_chest[\"time\"], y = raw_chest[\"c\"], marker = dict(color = \"blue\"), name = \"Chest\"), row = 3, col = 1)\n",
    "fig.update_layout(title = \"Tidal Volume (VT) Absolute Error\")"
   ],
   "metadata": {
    "collapsed": false,
    "ExecuteTime": {
     "start_time": "2023-05-17T16:41:45.704153Z",
     "end_time": "2023-05-17T16:41:46.201080Z"
    }
   }
  },
  {
   "cell_type": "code",
   "execution_count": 312,
   "outputs": [],
   "source": [
    "# plot the error\n",
    "fig = make_subplots(rows = 2, cols = 1, shared_xaxes = True, vertical_spacing = 0.05, subplot_titles = (\"VT\", \"Percent Error\"))\n",
    "# First plot the VT\n",
    "fig.add_trace(go.Scatter(x = VT_live[:,0], y = VT_live[:,1], marker = dict(color = \"blue\"),  name = \"Live\"), row = 1, col = 1)\n",
    "fig.add_trace(go.Scatter(x = VT_pp[:,0], y = VT_pp[:,1], marker = dict(color = \"red\"), name = \"PP\"), row = 1, col = 1)\n",
    "# fig.add_trace(go.Scatter(x = warped[:,0], y = warped[:,1], line = dict(dash = \"dash\"),marker = dict(color = \"blue\"), name = \"Warped\"), row = 1, col = 1)\n",
    "fig.add_trace(go.Scatter(x = rewarped[:,0], y = rewarped[:,1], line = dict(dash = \"dot\"),marker = dict(color = \"blue\"), name = \"Rewarped\"), row = 1, col = 1)\n",
    "\n",
    "# Now plot the error\n",
    "# fig.add_trace(go.Scatter(x = VT_perror1[:,0], y = VT_perror1[:,1], line = dict(dash = \"dash\"), marker = dict(color = \"green\"),  name = \"Warped Error\"), row = 2, col = 1)\n",
    "fig.add_trace(go.Scatter(x = VT_perror2[:,0], y = VT_perror2[:,1], line = dict(dash = \"dot\"), marker = dict(color = \"green\"), name = \"Rewarped Error\"), row=2, col = 1)\n",
    "fig.add_trace(go.Scatter(x = VT_missed_peak_error[:,0], y = VT_missed_peak_error[:,1], line = dict(dash = \"dash\"), marker = dict(color = \"green\"), name = \"Missed Peak Error\"), row = 2, col = 1)\n",
    "fig.update_layout(title = \"Tidal Volume (VT) Percent Error\")"
   ],
   "metadata": {
    "collapsed": false,
    "ExecuteTime": {
     "start_time": "2023-05-17T16:41:46.209076Z",
     "end_time": "2023-05-17T16:41:46.730080Z"
    }
   }
  },
  {
   "cell_type": "code",
   "execution_count": 313,
   "outputs": [
    {
     "name": "stdout",
     "output_type": "stream",
     "text": [
      "instBR_error2_frac:  0.10846560846560846\n",
      "instBR_perror2_frac:  0.06349206349206349\n",
      "instBR_perror2_avg:  0.15117399851312097\n"
     ]
    }
   ],
   "source": [
    "# instBR DTW Settings\n",
    "window = [3,8]\n",
    "gamma = 2.5 # scaling of shifting deviation penalty\n",
    "beta = 0.4 # exponential averaging factor\n",
    "\n",
    "# Repeat for instBR\n",
    "instBR_live = live_b3_df[[\"breathTime\", \"instBR\"]].to_numpy()\n",
    "instBR_pp = pp_b3_df[[\"breathTime\", \"instBR\"]].to_numpy()\n",
    "\n",
    "instBR_DTW, instBR_i_to_j, _ = dtw.dtw_distance(instBR_live, instBR_pp, avg_shift= True, window = window, gamma = gamma, beta = beta)\n",
    "instBR_warped = dtw.remap_query(instBR_live, instBR_pp, instBR_i_to_j)\n",
    "instBR_i_to_j_fixed = dtw.fix_i_to_j(instBR_i_to_j, instBR_warped)\n",
    "instBR_rewarped = dtw.remap_query(instBR_live, instBR_pp, instBR_i_to_j_fixed)\n",
    "\n",
    "instBR_error1 = ptp_abs_error(instBR_warped, instBR_pp)\n",
    "instBR_error2 = ptp_abs_error(instBR_rewarped, instBR_pp)\n",
    "\n",
    "instBR_perror1 = ptp_percent_error(instBR_warped, instBR_pp)\n",
    "instBR_perror2 = ptp_percent_error(instBR_rewarped, instBR_pp)\n",
    "\n",
    "instBR_error1_frac, instBR_error1_ind = get_frac_in_error(instBR_error1, 5)\n",
    "instBR_error2_frac, instBR_error2_ind = get_frac_in_error(instBR_error2, 5)\n",
    "\n",
    "instBR_perror1_frac, instBR_perror1_ind = get_frac_in_error(instBR_perror1, .5)\n",
    "instBR_perror2_frac, instBR_perror2_ind = get_frac_in_error(instBR_perror2, .5)\n",
    "\n",
    "instBR_perror2_avg = np.mean(instBR_perror2[:,1])\n",
    "\n",
    "# print(\"instBR_error1_frac: \", instBR_error1_frac)\n",
    "print(\"instBR_error2_frac: \", instBR_error2_frac)\n",
    "\n",
    "# print(\"instBR_perror1_frac: \", instBR_perror1_frac)\n",
    "print(\"instBR_perror2_frac: \", instBR_perror2_frac)\n",
    "\n",
    "print(\"instBR_perror2_avg: \", instBR_perror2_avg)\n",
    "\n"
   ],
   "metadata": {
    "collapsed": false,
    "ExecuteTime": {
     "start_time": "2023-05-17T16:41:46.735080Z",
     "end_time": "2023-05-17T16:41:47.004081Z"
    }
   }
  },
  {
   "cell_type": "code",
   "execution_count": 314,
   "outputs": [],
   "source": [
    "# plot the results\n",
    "fig = make_subplots(rows = 2, cols = 1, shared_xaxes = True, vertical_spacing = 0.05, subplot_titles=(\"instBR\", \"Abs Error\"))\n",
    "# First plot the instBR\n",
    "fig.add_trace(go.Scatter(x = instBR_live[:,0], y = instBR_live[:,1], marker = dict(color = \"blue\"),  name = \"Live\"), row = 1, col = 1)\n",
    "fig.add_trace(go.Scatter(x = instBR_pp[:,0], y = instBR_pp[:,1], marker = dict(color = \"red\"), name = \"PP\"), row = 1, col = 1)\n",
    "fig.add_trace(go.Scatter(x = instBR_warped[:,0], y = instBR_warped[:,1], line = dict(dash = \"dash\"),marker = dict(color = \"blue\"), name = \"Warped\"), row = 1, col = 1)\n",
    "fig.add_trace(go.Scatter(x = instBR_rewarped[:,0], y = instBR_rewarped[:,1], line = dict(dash = \"dot\"),marker = dict(color = \"blue\"), name = \"Rewarped\"), row = 1, col = 1)\n",
    "# Now plot the error\n",
    "# fig.add_trace(go.Scatter(x = instBR_error1[:,0], y = instBR_error1[:,1], line = dict(dash = \"dash\"), marker = dict(color = \"green\"),  name = \"Warped Error\"), row = 2, col = 1)\n",
    "fig.add_trace(go.Scatter(x = instBR_error2[:,0], y = instBR_error2[:,1], line = dict(dash = \"dot\"), marker = dict(color = \"green\"), name = \"Rewarped Error\"), row=2, col = 1)\n",
    "fig.update_layout(title = \"Instantaneous Breathing Rate (instBR) Absolute Error\")\n"
   ],
   "metadata": {
    "collapsed": false,
    "ExecuteTime": {
     "start_time": "2023-05-17T16:41:47.011078Z",
     "end_time": "2023-05-17T16:41:47.728076Z"
    }
   }
  },
  {
   "cell_type": "code",
   "execution_count": 315,
   "outputs": [],
   "source": [
    "# plot the results\n",
    "fig = make_subplots(rows = 2, cols = 1, shared_xaxes = True, vertical_spacing = 0.05, subplot_titles=(\"instBR\", \"Percent Error\"))\n",
    "# First plot the instBR\n",
    "fig.add_trace(go.Scatter(x = instBR_live[:,0], y = instBR_live[:,1], marker = dict(color = \"blue\"),  name = \"Live\"), row = 1, col = 1)\n",
    "fig.add_trace(go.Scatter(x = instBR_pp[:,0], y = instBR_pp[:,1], marker = dict(color = \"red\"), name = \"PP\"), row = 1, col = 1)\n",
    "fig.add_trace(go.Scatter(x = instBR_warped[:,0], y = instBR_warped[:,1], line = dict(dash = \"dash\"),marker = dict(color = \"blue\"), name = \"Warped\"), row = 1, col = 1)\n",
    "fig.add_trace(go.Scatter(x = instBR_rewarped[:,0], y = instBR_rewarped[:,1], line = dict(dash = \"dot\"),marker = dict(color = \"blue\"), name = \"Rewarped\"), row = 1, col = 1)\n",
    "# Now plot the error\n",
    "# fig.add_trace(go.Scatter(x = instBR_error1[:,0], y = instBR_error1[:,1], line = dict(dash = \"dash\"), marker = dict(color = \"green\"),  name = \"Warped Error\"), row = 2, col = 1)\n",
    "fig.add_trace(go.Scatter(x = instBR_perror2[:,0], y = instBR_perror2[:,1], line = dict(dash = \"dot\"), marker = dict(color = \"green\"), name = \"Rewarped Error\"), row=2, col = 1)\n",
    "fig.update_layout(title = \"Instantaneous Breathing Rate (instBR) Percent Error\")"
   ],
   "metadata": {
    "collapsed": false,
    "ExecuteTime": {
     "start_time": "2023-05-17T16:41:47.726079Z",
     "end_time": "2023-05-17T16:41:48.495081Z"
    }
   }
  },
  {
   "cell_type": "code",
   "execution_count": 316,
   "outputs": [],
   "source": [
    "# RRAvg DTW Settings\n",
    "window = [3,8]\n",
    "gamma = 2.5 # scaling of shifting deviation penalty\n",
    "beta = 0.4 # exponential averaging factor\n",
    "perror_thresh = 0.2 # percent error threshold"
   ],
   "metadata": {
    "collapsed": false,
    "ExecuteTime": {
     "start_time": "2023-05-17T16:41:48.494078Z",
     "end_time": "2023-05-17T16:41:48.648086Z"
    }
   }
  },
  {
   "cell_type": "code",
   "execution_count": 317,
   "outputs": [
    {
     "name": "stdout",
     "output_type": "stream",
     "text": [
      "RRAvg_perror2_frac (>0.2):  0.06084656084656084\n",
      "RRAvg_perror2_avg:  0.06825030614758068\n"
     ]
    }
   ],
   "source": [
    "# Repeat for RRAvg\n",
    "RRAvg_live = live_b3_df[[\"breathTime\", \"RRAvg\"]].to_numpy()\n",
    "RRAvg_pp = pp_b3_df[[\"breathTime\", \"RRAvg\"]].to_numpy()\n",
    "\n",
    "RRAvg_DTW, RRAvg_i_to_j, _ = dtw.dtw_distance(RRAvg_live, RRAvg_pp, avg_shift= True, window = window, gamma = gamma, beta = beta)\n",
    "RRAvg_warped = dtw.remap_query(RRAvg_live, RRAvg_pp, RRAvg_i_to_j)\n",
    "RRAvg_i_to_j_fixed = dtw.fix_i_to_j(RRAvg_i_to_j, RRAvg_warped)\n",
    "RRAvg_rewarped = dtw.remap_query(RRAvg_live, RRAvg_pp, RRAvg_i_to_j_fixed)\n",
    "RRAvg_error1 = ptp_abs_error(RRAvg_warped, RRAvg_pp)\n",
    "RRAvg_error2 = ptp_abs_error(RRAvg_rewarped, RRAvg_pp)\n",
    "RRAvg_perror1 = ptp_percent_error(RRAvg_warped, RRAvg_pp)\n",
    "RRAvg_perror2 = ptp_percent_error(RRAvg_rewarped, RRAvg_pp)\n",
    "\n",
    "RRAvg_perror2_frac, RRAvg_perror2_ind = get_frac_in_error(RRAvg_perror2, perror_thresh)\n",
    "\n",
    "RRAvg_perror2_avg = np.mean(RRAvg_perror2[:,1])\n",
    "\n",
    "print(f\"RRAvg_perror2_frac (>{perror_thresh}): \", RRAvg_perror2_frac)\n",
    "print(\"RRAvg_perror2_avg: \", RRAvg_perror2_avg)\n",
    "\n"
   ],
   "metadata": {
    "collapsed": false,
    "ExecuteTime": {
     "start_time": "2023-05-17T16:41:48.657079Z",
     "end_time": "2023-05-17T16:41:48.918077Z"
    }
   }
  },
  {
   "cell_type": "code",
   "execution_count": 318,
   "outputs": [],
   "source": [
    "# plot the results\n",
    "fig = make_subplots(rows = 2, cols = 1, shared_xaxes = True, vertical_spacing = 0.05, subplot_titles=(\"RRAvg\", \"Error\"))\n",
    "# First plot the RRAvg\n",
    "fig.add_trace(go.Scatter(x = RRAvg_live[:,0], y = RRAvg_live[:,1], marker = dict(color = \"blue\"),  name = \"Live\"), row = 1, col = 1)\n",
    "fig.add_trace(go.Scatter(x = RRAvg_pp[:,0], y = RRAvg_pp[:,1], marker = dict(color = \"red\"), name = \"PP\"), row = 1, col = 1)\n",
    "# fig.add_trace(go.Scatter(x = RRAvg_warped[:,0], y = RRAvg_warped[:,1], line = dict(dash = \"dash\"),marker = dict(color = \"blue\"), name = \"Warped\"), row = 1, col = 1)\n",
    "fig.add_trace(go.Scatter(x = RRAvg_rewarped[:,0], y = RRAvg_rewarped[:,1], line = dict(dash = \"dot\"),marker = dict(color = \"blue\"), name = \"Rewarped\"), row = 1, col = 1)\n",
    "# Now plot the error\n",
    "# fig.add_trace(go.Scatter(x = RRAvg_error1[:,0], y = RRAvg_error1[:,1], line = dict(dash = \"dash\"), marker = dict(color = \"green\"),  name = \"Warped Error\"), row = 2, col = 1)\n",
    "fig.add_trace(go.Scatter(x = RRAvg_error2[:,0], y = RRAvg_error2[:,1], line = dict(dash = \"dot\"), marker = dict(color = \"green\"), name = \"Rewarped Error\"), row=2, col = 1)\n",
    "fig.update_layout(title = \"RRAvg\")\n"
   ],
   "metadata": {
    "collapsed": false,
    "ExecuteTime": {
     "start_time": "2023-05-17T16:41:48.928078Z",
     "end_time": "2023-05-17T16:41:49.558790Z"
    }
   }
  },
  {
   "cell_type": "code",
   "execution_count": 319,
   "outputs": [],
   "source": [
    "# RRAvg Percent error plots\n",
    "fig = make_subplots(rows = 2, cols = 1, shared_xaxes = True, vertical_spacing = 0.05, subplot_titles=(\"RRAvg\", \"Error\"))\n",
    "# First plot the RRAvg\n",
    "fig.add_trace(go.Scatter(x = RRAvg_live[:,0], y = RRAvg_live[:,1], marker = dict(color = \"blue\"),  name = \"Live\"), row = 1, col = 1)\n",
    "fig.add_trace(go.Scatter(x = RRAvg_pp[:,0], y = RRAvg_pp[:,1], marker = dict(color = \"red\"), name = \"PP\"), row = 1, col = 1)\n",
    "# fig.add_trace(go.Scatter(x = RRAvg_warped[:,0], y = RRAvg_warped[:,1], line = dict(dash = \"dash\"),marker = dict(color = \"blue\"), name = \"Warped\"), row = 1, col = 1)\n",
    "fig.add_trace(go.Scatter(x = RRAvg_rewarped[:,0], y = RRAvg_rewarped[:,1], line = dict(dash = \"dot\"),marker = dict(color = \"blue\"), name = \"Rewarped\"), row = 1, col = 1)\n",
    "# Now plot the error\n",
    "# fig.add_trace(go.Scatter(x = RRAvg_error1[:,0], y = RRAvg_error1[:,1], line = dict(dash = \"dash\"), marker = dict(color = \"green\"),  name = \"Warped Error\"), row = 2, col = 1)\n",
    "fig.add_trace(go.Scatter(x = RRAvg_perror2[:,0], y = RRAvg_perror2[:,1], line = dict(dash = \"dot\"), marker = dict(color = \"green\"), name = \"Rewarped Error\"), row=2, col = 1)\n",
    "fig.update_layout(title = \"RRAvg\")"
   ],
   "metadata": {
    "collapsed": false,
    "ExecuteTime": {
     "start_time": "2023-05-17T16:41:49.569787Z",
     "end_time": "2023-05-17T16:41:50.187795Z"
    }
   }
  },
  {
   "cell_type": "code",
   "execution_count": 320,
   "outputs": [
    {
     "name": "stdout",
     "output_type": "stream",
     "text": [
      "VE Percent Error Average:  0.13078394487268397\n"
     ]
    }
   ],
   "source": [
    "# VE DTW Settings\n",
    "window = [20,60]\n",
    "gamma = 2.5 # scaling of shifting deviation penalty\n",
    "beta = 0.4 # exponential averaging factor\n",
    "\n",
    "# Do the same with VE\n",
    "VE_live = live_b3_df[[\"breathTime\", \"VE\"]].to_numpy()\n",
    "VE_pp = pp_b3_df[[\"breathTime\", \"VE\"]].to_numpy()\n",
    "VE_live = VE_live[5:,:]\n",
    "VE_DTW, VE_i_to_j, _ = dtw.dtw_distance(VE_live, VE_pp, avg_shift= True, window = window, gamma = gamma, beta = beta)\n",
    "VE_warped = dtw.remap_query(VE_live, VE_pp, VE_i_to_j)\n",
    "VE_i_to_j_fixed = dtw.fix_i_to_j(VE_i_to_j, VE_warped)\n",
    "VE_rewarped = dtw.remap_query(VE_live, VE_pp, VE_i_to_j_fixed)\n",
    "VE_error1 = ptp_abs_error(VE_warped, VE_pp)\n",
    "VE_error2 = ptp_abs_error(VE_rewarped, VE_pp)\n",
    "\n",
    "# VE Percent error\n",
    "VE_perror2 = ptp_percent_error(VE_rewarped, VE_pp)\n",
    "# VE Percent error average\n",
    "VE_perror2_avg = np.mean(VE_perror2[:,1])\n",
    "\n",
    "print(\"VE Percent Error Average: \", VE_perror2_avg)\n",
    "#print(VE_perror2)\n"
   ],
   "metadata": {
    "collapsed": false,
    "ExecuteTime": {
     "start_time": "2023-05-17T16:41:50.203787Z",
     "end_time": "2023-05-17T16:41:50.470798Z"
    }
   }
  },
  {
   "cell_type": "code",
   "execution_count": 321,
   "outputs": [],
   "source": [
    "# plot the results\n",
    "fig = make_subplots(rows = 2, cols = 1, shared_xaxes = True, vertical_spacing = 0.05, subplot_titles=(\"VE\", \"VE Error\"))\n",
    "# First plot the VE\n",
    "fig.add_trace(go.Scatter(x = VE_live[:,0], y = VE_live[:,1], marker = dict(color = \"blue\"),  name = \"Live\"), row = 1, col = 1)\n",
    "fig.add_trace(go.Scatter(x = VE_pp[:,0], y = VE_pp[:,1], marker = dict(color = \"red\"), name = \"PP\"), row = 1, col = 1)\n",
    "# fig.add_trace(go.Scatter(x = VE_warped[:,0], y = VE_warped[:,1], line = dict(dash = \"dash\"),marker = dict(color = \"blue\"), name = \"Warped\"), row = 1, col = 1)\n",
    "fig.add_trace(go.Scatter(x = VE_rewarped[:,0], y = VE_rewarped[:,1], line = dict(dash = \"dot\"),marker = dict(color = \"blue\"), name = \"Rewarped\"), row = 1, col = 1)\n",
    "# Now plot the error\n",
    "# fig.add_trace(go.Scatter(x = VE_error1[:,0], y = VE_error1[:,1], line = dict(dash = \"dash\"), marker = dict(color = \"green\"),  name = \"Warped Error\"), row = 2, col = 1)\n",
    "fig.add_trace(go.Scatter(x = VE_error2[:,0], y = VE_error2[:,1], line = dict(dash = \"dot\"), marker = dict(color = \"green\"), name = \"Rewarped Error\"), row=2, col = 1)\n",
    "fig.update_layout(title = \"Minute Ventilation (VE)\")\n"
   ],
   "metadata": {
    "collapsed": false,
    "ExecuteTime": {
     "start_time": "2023-05-17T16:41:50.477791Z",
     "end_time": "2023-05-17T16:41:51.183792Z"
    }
   }
  },
  {
   "cell_type": "code",
   "execution_count": 322,
   "outputs": [],
   "source": [
    "# plot the results\n",
    "fig = make_subplots(rows=2, cols=1, shared_xaxes=True, vertical_spacing=0.05, subplot_titles=(\"VE\", \"VE Percent Error\"))\n",
    "# First plot the VE\n",
    "fig.add_trace(go.Scatter(x=VE_live[:, 0], y=VE_live[:, 1], marker=dict(color=\"blue\"), name=\"Live\"), row=1, col=1)\n",
    "fig.add_trace(go.Scatter(x=VE_pp[:, 0], y=VE_pp[:, 1], marker=dict(color=\"red\"), name=\"PP\"), row=1, col=1)\n",
    "# fig.add_trace(go.Scatter(x = VE_warped[:,0], y = VE_warped[:,1], line = dict(dash = \"dash\"),marker = dict(color = \"blue\"), name = \"Warped\"), row = 1, col = 1)\n",
    "fig.add_trace(go.Scatter(x=VE_rewarped[:, 0], y=VE_rewarped[:, 1], line=dict(dash=\"dot\"), marker=dict(color=\"blue\"),\n",
    "                         name=\"Rewarped\"), row=1, col=1)\n",
    "# Now plot the error\n",
    "# fig.add_trace(go.Scatter(x = VE_error1[:,0], y = VE_error1[:,1], line = dict(dash = \"dash\"), marker = dict(color = \"green\"),  name = \"Warped Error\"), row = 2, col = 1)\n",
    "fig.add_trace(go.Scatter(x=VE_perror2[:, 0], y=VE_perror2[:, 1], line=dict(dash=\"dot\"), marker=dict(color=\"green\"),\n",
    "                         name=\"Rewarped Error\"), row=2, col=1)\n",
    "fig.update_layout(title=\"Minute Ventilation (VE) Percent Error\")"
   ],
   "metadata": {
    "collapsed": false,
    "ExecuteTime": {
     "start_time": "2023-05-17T16:41:51.192787Z",
     "end_time": "2023-05-17T16:41:51.688789Z"
    }
   }
  }
 ],
 "metadata": {
  "kernelspec": {
   "display_name": "Python 3",
   "language": "python",
   "name": "python3"
  },
  "language_info": {
   "codemirror_mode": {
    "name": "ipython",
    "version": 2
   },
   "file_extension": ".py",
   "mimetype": "text/x-python",
   "name": "python",
   "nbconvert_exporter": "python",
   "pygments_lexer": "ipython2",
   "version": "2.7.6"
  }
 },
 "nbformat": 4,
 "nbformat_minor": 0
}
