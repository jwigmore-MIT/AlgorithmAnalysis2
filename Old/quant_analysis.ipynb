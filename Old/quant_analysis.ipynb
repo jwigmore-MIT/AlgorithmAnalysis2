{
 "cells": [
  {
   "cell_type": "markdown",
   "source": [
    "# Summary\n",
    "Inputs: Standard activity data directory (uncleaned -> cleaned) + C algorithm output\n",
    "Outputs: Plot of raw chest data with peaks and valleys from C algorithm and PP algorithm"
   ],
   "metadata": {
    "collapsed": false
   }
  },
  {
   "cell_type": "code",
   "execution_count": 1,
   "outputs": [],
   "source": [
    "# Imports\n",
    "import os\n",
    "import pandas as pd\n",
    "import numpy as np\n",
    "import plotly.io as pio\n",
    "pio.renderers.default = \"jupyterlab\"\n",
    "from plotly.subplots import make_subplots\n",
    "import plotly.graph_objects as go\n",
    "\n",
    "from interfaces.postprocessing import BR_rVE_RTformat_wrapper_peak_detection as pp_peak_detection\n",
    "import analysis.data_importing as imp  # Custom importing module\n",
    "import analysis.plotting as pl  # Custom plotting module\n",
    "import interfaces.postprocessing as pif  # post-processing interface\n",
    "import scipy.signal\n",
    "import warnings\n",
    "\n",
    "import external.custom_post.custom_post_copy as cpc\n",
    "\n",
    "warnings.simplefilter(action='ignore', category=FutureWarning)\n",
    "\n",
    "%load_ext autoreload\n",
    "%autoreload 2"
   ],
   "metadata": {
    "collapsed": false,
    "ExecuteTime": {
     "start_time": "2023-05-12T12:46:36.338092Z",
     "end_time": "2023-05-12T12:46:39.499905Z"
    }
   }
  },
  {
   "cell_type": "code",
   "execution_count": 2,
   "outputs": [
    {
     "name": "stdout",
     "output_type": "stream",
     "text": [
      "Pickled data found in activity data directory. Loading data...\n"
     ]
    }
   ],
   "source": [
    "# Data Cleaning Block\n",
    "activity_data_dir = \"data/c220e0e4-d30d-4ead-858a-1545b91bc362\"\n",
    "uncleaned_data_dir = os.path.join(activity_data_dir, \"uncleaned_data\")\n",
    "cleaned_data_dir =  activity_data_dir\n",
    "# check if the activity data directory contains pickled data:\n",
    "pkl_names = [\"aws_b3_df.pkl\", \"aws_time_df.pkl\", \"live_b3_df.pkl\", \"raw_slow_df.pkl\"]\n",
    "clean_dfs = {}\n",
    "for name in pkl_names:\n",
    "    if not os.path.exists(os.path.join(uncleaned_data_dir, name)):\n",
    "        print(\"No pickled data found in activity data directory. Cleaning data...\")\n",
    "        clean_dfs = imp.clean_all_data(uncleaned_data_dir, create_dir = True)\n",
    "        break\n",
    "    # if not, clean the data and save it\n",
    "if clean_dfs == {}:\n",
    "    print(\"Pickled data found in activity data directory. Loading data...\")\n",
    "    clean_dfs = imp.load_cleaned_data(uncleaned_data_dir)"
   ],
   "metadata": {
    "collapsed": false,
    "ExecuteTime": {
     "start_time": "2023-05-12T12:46:43.398795Z",
     "end_time": "2023-05-12T12:46:45.474837Z"
    }
   }
  },
  {
   "cell_type": "code",
   "execution_count": 4,
   "outputs": [],
   "source": [
    "# Get the data we actually need\n",
    "og_pp_df = clean_dfs[\"aws_b3_df\"]\n",
    "raw_df = clean_dfs[\"raw_slow_df\"]\n",
    "live_df = clean_dfs[\"live_b3_df\"]"
   ],
   "metadata": {
    "collapsed": false,
    "ExecuteTime": {
     "start_time": "2023-05-12T12:46:55.200472Z",
     "end_time": "2023-05-12T12:46:55.378729Z"
    }
   }
  },
  {
   "cell_type": "code",
   "execution_count": 5,
   "outputs": [],
   "source": [
    "# TODO: Add a check to make sure the live_df contains everything we need\n",
    "required_columns = [\"breathTime\", \"instBR\", \"RRAvg\", \"VT\", \"VE\"]\n",
    "key_metrics = [\"VT\", \"VE\", \"instBR\", \"RRAvg\"]\n",
    "for col in required_columns:\n",
    "    if col not in live_df.columns:\n",
    "        raise ValueError(\"live_df is missing required column: {}\".format(col))\n",
    "for col in required_columns:\n",
    "    if col not in og_pp_df.columns:\n",
    "        raise ValueError(\"pp_df is missing required column: {}\".format(col))"
   ],
   "metadata": {
    "collapsed": false,
    "ExecuteTime": {
     "start_time": "2023-05-12T12:46:56.337054Z",
     "end_time": "2023-05-12T12:46:56.464573Z"
    }
   }
  },
  {
   "cell_type": "code",
   "execution_count": 6,
   "outputs": [],
   "source": [
    "# Make all values in the pp_df integers\n",
    "pp_df = pd.DataFrame()\n",
    "for col in og_pp_df.columns:\n",
    "    pp_df[col] = og_pp_df[col].fillna(0).astype(int)\n"
   ],
   "metadata": {
    "collapsed": false,
    "ExecuteTime": {
     "start_time": "2023-05-12T12:46:57.380404Z",
     "end_time": "2023-05-12T12:46:57.612931Z"
    }
   }
  },
  {
   "cell_type": "code",
   "execution_count": 7,
   "outputs": [],
   "source": [
    "# Alignment of metrics based on cross-correlation\n",
    "def cross_correlate(series1, series2):\n",
    "    sig1 = series1.dropna()\n",
    "    sig2 = series2.dropna()\n",
    "    corr = scipy.signal.correlate(sig1, sig2)\n",
    "    lags = scipy.signal.correlation_lags(len(sig1), len(sig2))\n",
    "\n",
    "    return corr / corr.max(), lags\n",
    "\n",
    "\n",
    "def cross_corr_align(df1, df2, ycol1, ycol2, xcol1, xcol2, label1=\"_l\", label2=\"_r\"):\n",
    "    \"\"\"\n",
    "    This function takes in two dataframes and aligns them based on the cross-correlation\n",
    "    between two columns. The function returns the lag value and the aligned dataframe.\n",
    "    \"\"\"\n",
    "    from copy import deepcopy\n",
    "    # First we need to join and interpolate the two series\n",
    "    df1 = pd.DataFrame(df1[ycol1].set_axis(df1[xcol1]))\n",
    "    df2 = pd.DataFrame(df2[ycol2].set_axis(df2[xcol2]))\n",
    "    df = df1.join(df2, how=\"outer\", lsuffix= label1, rsuffix= label2)\n",
    "    df_interp = df.interpolate(method=\"index\")\n",
    "    sec_df = pd.DataFrame(np.arange(max(df_interp.index)), index=np.arange(max(df_interp.index)))\n",
    "    df_sec = df_interp.join(sec_df, how=\"outer\")\n",
    "    df_sec = df_sec.interpolate(method=\"index\").fillna(value =0).drop(columns=[0])\n",
    "\n",
    "    # Now we can compute the cross correlation\n",
    "    ycol_1 = ycol1 + label1\n",
    "    ycol_2 = ycol2 + label2\n",
    "    corr, lags = cross_correlate(df_sec[ycol_1], df_sec[ycol_2])\n",
    "    opt_lag = lags[np.argmax(corr)]\n",
    "\n",
    "    # Copy df sec\n",
    "    df_sec_shift = deepcopy(df_sec)\n",
    "    # Shift the second column by the optimal lag\n",
    "    df_sec_shift[df_sec.columns[1]] = df_sec_shift[df_sec.columns[1]].shift(opt_lag)\n",
    "\n",
    "    return df_sec_shift, opt_lag, df_sec"
   ],
   "metadata": {
    "collapsed": false,
    "ExecuteTime": {
     "start_time": "2023-05-12T12:46:58.216353Z",
     "end_time": "2023-05-12T12:46:58.947494Z"
    }
   }
  },
  {
   "cell_type": "code",
   "execution_count": 8,
   "outputs": [],
   "source": [
    "# PLOT_SETTINGS\n",
    "PLOT = True\n",
    "color_dict = {\n",
    "    \"raw\": \"#1f77b4\",\n",
    "    \"pp\": \"#d62728\",\n",
    "    \"live\": \"#2ca02c\",\n",
    "    \"err\": \"#ff7f0e\"\n",
    "\n",
    "}"
   ],
   "metadata": {
    "collapsed": false,
    "ExecuteTime": {
     "start_time": "2023-05-12T12:46:59.304909Z",
     "end_time": "2023-05-12T12:46:59.432889Z"
    }
   }
  },
  {
   "cell_type": "code",
   "execution_count": 9,
   "outputs": [],
   "source": [
    "# Create a dataframe with the aligned VT\n",
    "VT_sec_shift, VT_lag, VT_sec = cross_corr_align(pp_df, live_df, \"VT\", \"VT\", \"breathTime\", \"breathTime\", \"_pp\", \"_live\")"
   ],
   "metadata": {
    "collapsed": false,
    "ExecuteTime": {
     "start_time": "2023-05-12T12:47:00.955524Z",
     "end_time": "2023-05-12T12:47:01.238928Z"
    }
   }
  },
  {
   "cell_type": "code",
   "execution_count": 10,
   "outputs": [],
   "source": [
    "# Plot the Signals\n",
    "if PLOT:\n",
    "    fig = make_subplots(rows=2, cols=1, shared_xaxes=True,\n",
    "                        subplot_titles= [\"Aligned VT\", \"Orignal VT\"])\n",
    "    fig.add_trace(go.Scatter(x=VT_sec_shift.index,\n",
    "                             y=VT_sec_shift[\"VT_pp\"],\n",
    "                             name=\"VT_pp\",\n",
    "                             line = {\"color\": color_dict[\"pp\"]}), row=1, col=1)\n",
    "    fig.add_trace(go.Scatter(\n",
    "        x=VT_sec_shift.index,\n",
    "        y=VT_sec_shift[\"VT_live\"],\n",
    "        name=\"VT_live\",\n",
    "        line = {\"color\" : color_dict[\"live\"]}\n",
    "        ), row=1, col=1)\n",
    "\n",
    "    fig.add_trace(go.Scatter(\n",
    "        x = pp_df[\"breathTime\"],\n",
    "        y = pp_df[\"VT\"],\n",
    "        name = \"VT_pp\",\n",
    "        line = {\"color\" : color_dict[\"pp\"]}\n",
    "    ), row = 2, col = 1)\n",
    "\n",
    "    fig.add_trace(go.Scatter(\n",
    "        x = live_df[\"breathTime\"],\n",
    "        y = live_df[\"VT\"],\n",
    "        name = \"VT_live\",\n",
    "        line = {\"color\" : color_dict[\"live\"]}\n",
    "    ), row = 2, col = 1)\n",
    "\n",
    "    fig.update_layout(title_text=\"VT - Aligned is shifted by {} seconds\".format(VT_lag))\n",
    "\n",
    "    fig.show(renderer  = \"browser\")\n"
   ],
   "metadata": {
    "collapsed": false,
    "ExecuteTime": {
     "start_time": "2023-05-12T12:47:01.839090Z",
     "end_time": "2023-05-12T12:47:08.796639Z"
    }
   }
  },
  {
   "cell_type": "code",
   "execution_count": 11,
   "outputs": [
    {
     "data": {
      "text/plain": "15.195615059753797"
     },
     "execution_count": 11,
     "metadata": {},
     "output_type": "execute_result"
    }
   ],
   "source": [
    "# Compute the error\n",
    "VT_err = (VT_sec_shift[\"VT_live\"]-VT_sec_shift[\"VT_pp\"]).fillna(0)\n",
    "avg_err = VT_err.mean()\n",
    "avg_err"
   ],
   "metadata": {
    "collapsed": false,
    "ExecuteTime": {
     "start_time": "2023-05-12T12:47:49.784002Z",
     "end_time": "2023-05-12T12:47:49.949509Z"
    }
   }
  },
  {
   "cell_type": "code",
   "execution_count": 154,
   "outputs": [
    {
     "data": {
      "text/plain": "0.5283868695289462"
     },
     "execution_count": 154,
     "metadata": {},
     "output_type": "execute_result"
    }
   ],
   "source": [
    "# Compute the normalized error\n",
    "VT_norm_err = (VT_err / (VT_sec_shift[\"VT_pp\"])).replace([np.inf, -np.inf], np.nan).fillna(0).abs()\n",
    "avg_norm_err = VT_norm_err.mean()\n",
    "avg_norm_err"
   ],
   "metadata": {
    "collapsed": false,
    "ExecuteTime": {
     "start_time": "2023-05-06T17:40:17.778699Z",
     "end_time": "2023-05-06T17:40:17.958625Z"
    }
   }
  },
  {
   "cell_type": "code",
   "execution_count": 155,
   "outputs": [],
   "source": [
    "# Compute the root mean square error\n",
    "VT_rmse = np.sqrt(np.mean(VT_err**2))"
   ],
   "metadata": {
    "collapsed": false,
    "ExecuteTime": {
     "start_time": "2023-05-06T17:40:19.161601Z",
     "end_time": "2023-05-06T17:40:19.429537Z"
    }
   }
  },
  {
   "cell_type": "code",
   "execution_count": 156,
   "outputs": [],
   "source": [
    "# Compute the running RMSE over 10 second intervals\n",
    "VT_rmse_10 = VT_err.rolling(30).apply(lambda x: np.sqrt(np.mean(x**2)))\n"
   ],
   "metadata": {
    "collapsed": false,
    "ExecuteTime": {
     "start_time": "2023-05-06T17:40:22.086496Z",
     "end_time": "2023-05-06T17:40:27.585232Z"
    }
   }
  },
  {
   "cell_type": "code",
   "execution_count": 160,
   "outputs": [],
   "source": [
    "# Plot the error with the aligned VT\n",
    "if PLOT:\n",
    "    plots = [\"Chest\", \"VT\", \"RMSE\", \"VT_err\", \"Normalized Error\"]\n",
    "\n",
    "    fig = make_subplots(rows = len(plots), cols=1, shared_xaxes=True,\n",
    "                        subplot_titles= plots)\n",
    "    subplot_count = 0\n",
    "    if \"Chest\" in plots:\n",
    "        subplot_count += 1\n",
    "        fig.add_trace(go.Scatter(\n",
    "            x = raw_df[\"time\"],\n",
    "            y = raw_df[\"c\"],\n",
    "            name = \"Raw Chest\",\n",
    "            line = {\"color\" : color_dict[\"raw\"]}\n",
    "        ), row = subplot_count, col = 1)\n",
    "    if \"VT\" in plots:\n",
    "        subplot_count +=1\n",
    "        fig.add_trace(go.Scatter(x=VT_sec_shift.index,\n",
    "                                 y=VT_sec_shift[\"VT_pp\"],\n",
    "                                 name=\"VT_pp\",\n",
    "                                 line = {\"color\": color_dict[\"pp\"]}), row=2, col=1)\n",
    "        fig.add_trace(go.Scatter(\n",
    "            x=VT_sec_shift.index,\n",
    "            y=VT_sec_shift[\"VT_live\"],\n",
    "            name=\"VT_live\",\n",
    "            line = {\"color\" : color_dict[\"live\"]}\n",
    "            ), row=subplot_count, col=1)\n",
    "    if \"VT_err\" in plots:\n",
    "        subplot_count +=1\n",
    "        fig.add_trace(go.Scatter(\n",
    "            x = VT_err.index,\n",
    "            y = VT_err,\n",
    "            name = \"VT_err\",\n",
    "            line = {\"color\" : color_dict[\"err\"]}\n",
    "        ), row = subplot_count, col = 1)\n",
    "    if \"RMSE\" in plots:\n",
    "        subplot_count +=1\n",
    "        fig.add_trace(go.Scatter(\n",
    "            x = VT_rmse_10.index,\n",
    "            y = VT_rmse_10,\n",
    "            name = \"VT_rmse_30\",\n",
    "            line = {\"color\" : color_dict[\"err\"]}\n",
    "        ), row = subplot_count, col = 1)\n",
    "    if \"Normalized Error\" in plots:\n",
    "        subplot_count +=1\n",
    "        fig.add_trace(go.Scatter(\n",
    "            x = VT_norm_err.index,\n",
    "            y = VT_norm_err,\n",
    "            name = \"VT_norm_err\",\n",
    "            line = {\"color\" : color_dict[\"err\"]},\n",
    "            # show only y-axis less than 1\n",
    "        ), row = subplot_count, col = 1)\n",
    "    fig.update_layout(title_text=\"Error assessment of VT\")\n",
    "    # restrict y-axis to 0 to 1 on final plot\n",
    "    fig.update_yaxes(range=[0, 1], row=subplot_count, col=1)\n",
    "\n",
    "    fig.show(renderer  = \"browser\")\n",
    "\n"
   ],
   "metadata": {
    "collapsed": false,
    "ExecuteTime": {
     "start_time": "2023-05-06T17:45:07.820997Z",
     "end_time": "2023-05-06T17:45:12.065707Z"
    }
   }
  },
  {
   "cell_type": "markdown",
   "source": [
    "Normalized Error is very large, but this can also be due to time differences. Lets look at smoothed VT and see if the error is still large.\n",
    "Any simple \"error signal\" i.e. f(live- pp) is a poor measure of the performance between the two algorithms. Slight misalignments in time lead to large error signals\n",
    "Looking at VE might be the best way to compare the two algorithms. VE is the integral of VT, so it is less sensitive to time differences."
   ],
   "metadata": {
    "collapsed": false
   }
  },
  {
   "cell_type": "code",
   "execution_count": 161,
   "outputs": [],
   "source": [
    "if PLOT:\n",
    "    # Plot the VE signals from pp and live\n",
    "    fig = make_subplots(rows = 2, cols=1, shared_xaxes=True,\n",
    "                        subplot_titles= [\"Raw\", \"VE\"])\n",
    "    fig.add_trace(go.Scatter(\n",
    "        x = raw_df[\"time\"],\n",
    "        y = raw_df[\"c\"],\n",
    "        name = \"Raw Chest\",\n",
    "        line = {\"color\" : color_dict[\"raw\"]}\n",
    "    ), row = 1, col = 1)\n",
    "\n",
    "    fig.add_trace(go.Scatter(\n",
    "        x = pp_df[\"breathTime\"],\n",
    "        y = pp_df[\"VE\"],\n",
    "        name = \"VE_pp\",\n",
    "        line = {\"color\" : color_dict[\"pp\"]}\n",
    "    ), row = 2, col = 1)\n",
    "\n",
    "    fig.add_trace(go.Scatter(\n",
    "        x = live_df[\"breathTime\"],\n",
    "        y = live_df[\"VE\"],\n",
    "        name = \"VE_live\",\n",
    "        line = {\"color\" : color_dict[\"live\"]}\n",
    "    ), row = 2, col = 1)\n",
    "\n",
    "    fig.show(renderer  = \"browser\")"
   ],
   "metadata": {
    "collapsed": false,
    "ExecuteTime": {
     "start_time": "2023-05-06T17:55:26.285275Z",
     "end_time": "2023-05-06T17:55:29.224025Z"
    }
   }
  },
  {
   "cell_type": "markdown",
   "source": [
    "___\n",
    "From the plotting we can see that a raw percent error score might not be as useful as a counter for the number of times the error exceeds a certain threshold. For example, if we set the threshold to 10%, we can see that the error exceeds this threshold 3 times. This is a more useful metric than the average error, which is 0.02%.\n",
    "\n",
    "What should this threshold be?\n",
    "\n"
   ],
   "metadata": {
    "collapsed": false
   }
  },
  {
   "cell_type": "code",
   "execution_count": 128,
   "outputs": [],
   "source": [
    "def count_error_exceeds(series, threshold):\n",
    "    \"\"\"\n",
    "    Counts the number of times the error exceeds a threshold\n",
    "    \"\"\"\n",
    "    return series.apply(lambda x: 1 if x > threshold else 0).sum()"
   ],
   "metadata": {
    "collapsed": false,
    "ExecuteTime": {
     "start_time": "2023-05-04T18:12:08.189413Z",
     "end_time": "2023-05-04T18:12:08.326398Z"
    }
   }
  },
  {
   "cell_type": "code",
   "execution_count": 129,
   "outputs": [
    {
     "data": {
      "text/plain": "0.08095965495552161"
     },
     "execution_count": 129,
     "metadata": {},
     "output_type": "execute_result"
    }
   ],
   "source": [
    "# Count the number of times the error exceeds 10%\n",
    "threshold = 1\n",
    "percentage_error = count_error_exceeds(VT_norm_err, threshold)/len(VT_norm_err)\n",
    "percentage_error"
   ],
   "metadata": {
    "collapsed": false,
    "ExecuteTime": {
     "start_time": "2023-05-04T18:12:08.325398Z",
     "end_time": "2023-05-04T18:12:08.475393Z"
    }
   }
  },
  {
   "cell_type": "code",
   "execution_count": 137,
   "outputs": [],
   "source": [
    "# Find where the error exceeds the threshold\n",
    "threshold = 1\n",
    "error_tracker = VT_norm_err.apply(lambda x: 1 if x > threshold else 0)\n",
    "VT_sec_shift[\"error_tracker\"] = error_tracker\n",
    "# if error tracker is 1, make the VT_live value VT_pp\n",
    "VT_sec_shift[\"VT_live_adj\"] = VT_sec_shift.apply(lambda x: x[\"VT_pp\"] if x[\"error_tracker\"] == 1 else x[\"VT_live\"], axis = 1)\n",
    "\n",
    "\n"
   ],
   "metadata": {
    "collapsed": false,
    "ExecuteTime": {
     "start_time": "2023-05-04T18:17:18.483371Z",
     "end_time": "2023-05-04T18:17:18.717943Z"
    }
   }
  },
  {
   "cell_type": "code",
   "execution_count": null,
   "outputs": [],
   "source": [
    "# Plot the adjusted VT Live\n",
    "if PLOT:\n",
    "    fig = make_subplots(rows = 3, cols=1, shared_xaxes=True,\n",
    "                        subplot_titles= [\"VT_pp\", \"VT_live\", \"VT_live_adj\"])\n",
    "\n",
    "    fig.add_trace(go.Scatter(\n",
    "        x = VT_sec_shift.index,\n",
    "        y = VT_sec_shift[\"VT_pp\"],\n",
    "        name = \"VT_pp\",\n",
    "        line = {\"color\" : color_dict[\"pp\"]}\n",
    "    ), row = 1, col = 1)\n",
    "\n",
    "\n",
    "\n"
   ],
   "metadata": {
    "collapsed": false
   }
  },
  {
   "cell_type": "code",
   "execution_count": 112,
   "outputs": [],
   "source": [
    "# plot_breathing rates\n",
    "fig = make_subplots(rows = 4, cols=1, shared_xaxes=True,\n",
    "                    subplot_titles= [\"Chest\", \"instantaneous BR\", \"Average BR\"])\n",
    "\n",
    "fig.add_trace(go.Scatter(\n",
    "    x = raw_df[\"time\"],\n",
    "    y = raw_df[\"c\"],\n",
    "    name = \"Raw Chest\",\n",
    "    line = {\"color\" : color_dict[\"raw\"]}\n",
    "), row = 1, col = 1)\n",
    "\n",
    "fig.add_trace(go.Scatter(\n",
    "    x = pp_df[\"breathTime\"],\n",
    "    y = pp_df[\"instBR\"],\n",
    "    name = \"PP\",\n",
    "    line = {\"color\" : color_dict[\"pp\"]}\n",
    "), row = 2, col = 1)\n",
    "\n",
    "fig.add_trace(go.Scatter(\n",
    "    x = live_df[\"breathTime\"],\n",
    "    y = live_df[\"instBR\"],\n",
    "    name = \"Live\",\n",
    "    line = {\"color\" : color_dict[\"live\"]}\n",
    "), row = 2, col = 1)\n",
    "\n",
    "fig.add_trace(go.Scatter(\n",
    "    x = pp_df[\"breathTime\"],\n",
    "    y = pp_df[\"RRAvg\"],\n",
    "    name = \"PP\",\n",
    "    line = {\"color\" : color_dict[\"pp\"]}\n",
    "), row = 3, col = 1)\n",
    "\n",
    "fig.add_trace(go.Scatter(\n",
    "    x = live_df[\"breathTime\"],\n",
    "    y = live_df[\"RRAvg\"],\n",
    "    name = \"Live\",\n",
    "    line = {\"color\" : color_dict[\"live\"]}\n",
    "), row = 3, col = 1)\n",
    "\n",
    "fig.add_trace(go.Scatter(\n",
    "    x = VT_sec_shift.index,\n",
    "    y = VT_sec_shift[\"VT_pp\"],\n",
    "    name = \"VT_pp\",\n",
    "    line = {\"color\" : color_dict[\"pp\"]}\n",
    "), row = 4, col = 1)\n",
    "\n",
    "fig.add_trace(go.Scatter(\n",
    "    x = VT_sec_shift.index,\n",
    "    y = VT_sec_shift[\"VT_live\"],\n",
    "    name = \"VT_live_adj\",\n",
    "    line = {\"color\" : color_dict[\"live\"]}\n",
    "), row = 4, col = 1)\n",
    "\n",
    "fig.show(renderer  = \"browser\")"
   ],
   "metadata": {
    "collapsed": false,
    "ExecuteTime": {
     "start_time": "2023-05-04T18:04:23.814928Z",
     "end_time": "2023-05-04T18:04:25.371218Z"
    }
   }
  },
  {
   "cell_type": "code",
   "execution_count": 114,
   "outputs": [],
   "source": [
    "# Get raw chest data\n",
    "raw_chest = pd.DataFrame(raw_slow_df[\"c\"]).set_index(raw_slow_df[\"time\"])"
   ],
   "metadata": {
    "collapsed": false,
    "ExecuteTime": {
     "start_time": "2023-05-04T14:17:16.207360Z",
     "end_time": "2023-05-04T14:17:16.332359Z"
    }
   }
  },
  {
   "cell_type": "code",
   "execution_count": 115,
   "outputs": [],
   "source": [
    "# Get value of raw chest at timestamp of c_df[\"ValleyTS\"]\n",
    "c_df[\"ValleyVal\"] = raw_chest.loc[c_df[\"ValleyTS\"]][\"c\"].values\n",
    "# Get value of raw chest at timestamp of c_df[\"PeakTS\"]\n",
    "c_df[\"PeakVal\"] = raw_chest.loc[c_df[\"PeakTS\"]][\"c\"].values"
   ],
   "metadata": {
    "collapsed": false,
    "ExecuteTime": {
     "start_time": "2023-05-04T14:17:16.332359Z",
     "end_time": "2023-05-04T14:17:16.457358Z"
    }
   }
  },
  {
   "cell_type": "code",
   "execution_count": 116,
   "outputs": [],
   "source": [
    "# For plotting purposes, create a dictionary of colors for each algorithm\n",
    "color_dict = {\n",
    "    \"raw\": \"#1f77b4\",\n",
    "    \"pp\": \"#d62728\",\n",
    "    \"c\": \"#2ca02c\",\n",
    "    \"err\": \"#ff7f0e\"\n",
    "\n",
    "}"
   ],
   "metadata": {
    "collapsed": false,
    "ExecuteTime": {
     "start_time": "2023-05-04T14:17:16.457358Z",
     "end_time": "2023-05-04T14:17:16.582350Z"
    }
   }
  },
  {
   "cell_type": "code",
   "execution_count": 117,
   "outputs": [],
   "source": [
    "# Create raw chest trace\n",
    "raw_chest_trace = go.Scatter(\n",
    "    x = raw_chest.index,\n",
    "    y = raw_chest[\"c\"],\n",
    "    mode = \"lines\",\n",
    "    name = \"Raw Chest\",\n",
    "    legendgroup= 1,\n",
    "    line = {\"color\" : color_dict[\"raw\"]}\n",
    ")"
   ],
   "metadata": {
    "collapsed": false,
    "ExecuteTime": {
     "start_time": "2023-05-04T14:17:16.582350Z",
     "end_time": "2023-05-04T14:17:16.711043Z"
    }
   }
  },
  {
   "cell_type": "code",
   "execution_count": 118,
   "outputs": [],
   "source": [
    "# Create peak traces (markers - no lines) from C algorithm\n",
    "peak_val_c_trace = go.Scatter(\n",
    "    x = c_df[\"PeakTS\"],\n",
    "    y = c_df[\"PeakVal\"],\n",
    "    mode = \"markers\",\n",
    "    marker_symbol = \"triangle-up\",\n",
    "    marker_size = 15,\n",
    "    marker_color = color_dict[\"c\"],\n",
    "    marker_line_width = 2,\n",
    "    marker_line_color = \"black\",\n",
    "    legendgroup= 1,\n",
    "    name = \"Peak Val (C)\",\n",
    "    customdata= c_df.index,\n",
    "    hovertemplate = \"Peak Val (C): %{y} <br> Peak Time: %{x} <br> Index: %{customdata}\"\n",
    ")\n",
    "# add the index of the peak to hover info\n",
    "\n",
    "# fig2 = go.Figure()\n",
    "# fig2.add_trace(raw_chest_trace)\n",
    "# fig2.add_trace(peak_val_c_trace)\n",
    "# fig2.show(renderer = \"browser\")"
   ],
   "metadata": {
    "collapsed": false,
    "ExecuteTime": {
     "start_time": "2023-05-04T14:17:16.711043Z",
     "end_time": "2023-05-04T14:17:16.820459Z"
    }
   }
  },
  {
   "cell_type": "code",
   "execution_count": 119,
   "outputs": [],
   "source": [
    "# Create valley traces (markers - no lines) from C algorithm\n",
    "valley_val_c_trace = go.Scatter(\n",
    "    x = c_df[\"ValleyTS\"],\n",
    "    y = c_df[\"ValleyVal\"],\n",
    "    mode = \"markers\",\n",
    "    marker_symbol = \"triangle-down\",\n",
    "    marker_size = 15,\n",
    "    marker_color = color_dict[\"c\"],\n",
    "    marker_line_width = 2,\n",
    "    marker_line_color = \"black\",\n",
    "    legendgroup= 1,\n",
    "    name = \"Valley Val (C)\",\n",
    "    customdata= c_df.index,\n",
    "    hovertemplate = \"Valley Val (C): %{y} <br> Valley Time: %{x} <br> Index: %{customdata}\"\n",
    ")\n"
   ],
   "metadata": {
    "collapsed": false,
    "ExecuteTime": {
     "start_time": "2023-05-04T14:17:16.820459Z",
     "end_time": "2023-05-04T14:17:16.946546Z"
    }
   }
  },
  {
   "cell_type": "code",
   "execution_count": 120,
   "outputs": [],
   "source": [
    "## Run post processing peak detection algorithm on raw chest data\n",
    "pp_pd_df = pp_peak_detection(uncleaned_data_dir) # pp_peak_detection is a wrapper function that calls actual functions within pp algorithm"
   ],
   "metadata": {
    "collapsed": false,
    "ExecuteTime": {
     "start_time": "2023-05-04T14:17:16.946546Z",
     "end_time": "2023-05-04T14:17:18.540747Z"
    }
   }
  },
  {
   "cell_type": "code",
   "execution_count": 121,
   "outputs": [],
   "source": [
    "# Get peak and valley values from raw\n",
    "pp_pd_df[\"PeakVal\"] = raw_chest.loc[pp_pd_df[\"PeakTS\"]][\"c\"].values\n",
    "pp_pd_df[\"ValleyVal\"] = raw_chest.loc[pp_pd_df[\"ValleyTS\"]][\"c\"].values"
   ],
   "metadata": {
    "collapsed": false,
    "ExecuteTime": {
     "start_time": "2023-05-04T14:17:18.540747Z",
     "end_time": "2023-05-04T14:17:18.665718Z"
    }
   }
  },
  {
   "cell_type": "code",
   "execution_count": 122,
   "outputs": [],
   "source": [
    "# Create peak traces (markers - no lines) from PP algorithm\n",
    "peak_val_pp_trace = go.Scatter(\n",
    "    x = pp_pd_df[\"PeakTS\"],\n",
    "    y = pp_pd_df[\"PeakVal\"],\n",
    "    mode = \"markers\",\n",
    "    marker_symbol = \"triangle-up\",\n",
    "    marker_size = 15,\n",
    "    marker_color = color_dict[\"pp\"],\n",
    "    marker_line_width = 2,\n",
    "    marker_line_color = \"black\",\n",
    "    name = \"Peak Val (PP)\",\n",
    "    legendgroup= 1,\n",
    "    customdata= pp_pd_df.index,\n",
    "    hovertemplate = \"Peak Val (PP): %{y} <br> Peak Time: %{x} <br> Index: %{customdata}\"\n",
    ")"
   ],
   "metadata": {
    "collapsed": false,
    "ExecuteTime": {
     "start_time": "2023-05-04T14:17:18.665718Z",
     "end_time": "2023-05-04T14:17:18.788675Z"
    }
   }
  },
  {
   "cell_type": "code",
   "execution_count": 123,
   "outputs": [],
   "source": [
    "# Create valley traces (markers - no lines) from PP algorithm\n",
    "valley_val_pp_trace = go.Scatter(\n",
    "    x = pp_pd_df[\"ValleyTS\"],\n",
    "    y = pp_pd_df[\"ValleyVal\"],\n",
    "    mode = \"markers\",\n",
    "    marker_symbol = \"triangle-down\",\n",
    "    marker_size = 15,\n",
    "    marker_color = color_dict[\"pp\"],\n",
    "    marker_line_width = 2,\n",
    "    marker_line_color = \"black\",\n",
    "    legendgroup= 1,\n",
    "    name = \"Valley Val (PP)\",\n",
    "    customdata= pp_pd_df.index,\n",
    "    hovertemplate = \"Valley Val (PP): %{y} <br> Valley Time: %{x} <br> Index: %{customdata}\"\n",
    ")\n"
   ],
   "metadata": {
    "collapsed": false,
    "ExecuteTime": {
     "start_time": "2023-05-04T14:17:18.788675Z",
     "end_time": "2023-05-04T14:17:18.892581Z"
    }
   }
  },
  {
   "cell_type": "code",
   "execution_count": 124,
   "outputs": [],
   "source": [
    "# Create the post-processing VT trace\n",
    "VT_pp_trace = go.Scatter(\n",
    "    x = pp_df[\"breathTime\"],\n",
    "    y = pp_df[\"VT\"],\n",
    "    mode = \"lines\",\n",
    "    name = \"VT (PP)\",\n",
    "    line = {\"color\" : color_dict[\"pp\"]},\n",
    "    legendgroup = 2\n",
    ")\n",
    "# Create the C VT trace\n",
    "VT_c_trace = go.Scatter(\n",
    "    x = c_df[\"PeakTS\"],\n",
    "    y = c_df[\"VT\"],\n",
    "    mode = \"lines\",\n",
    "    name = \"VT (C)\",\n",
    "    line = {\"color\" : color_dict[\"c\"]},\n",
    "    legendgroup = 2\n",
    ")\n",
    "# Plot VT traces\n",
    "# fig2 = go.Figure()\n",
    "# fig2.add_trace(VT_pp_trace)\n",
    "# fig2.add_trace(VT_c_trace)\n",
    "# fig2.show(renderer = \"browser\")"
   ],
   "metadata": {
    "collapsed": false,
    "ExecuteTime": {
     "start_time": "2023-05-04T14:17:18.892581Z",
     "end_time": "2023-05-04T14:17:19.003116Z"
    }
   }
  },
  {
   "cell_type": "code",
   "execution_count": 125,
   "outputs": [],
   "source": [
    "# Make the Peak detection plot collection\n",
    "# make subplots\n",
    "fig3 = make_subplots(rows=2, cols=1, shared_xaxes=True, vertical_spacing=0.02)\n",
    "# Add title\n",
    "fig3.update_layout(title_text=\"Peak Detection (Top) and VT (Bottom)\")\n",
    "fig3.add_trace(raw_chest_trace, row=1, col=1, )\n",
    "fig3.add_trace(peak_val_c_trace, row=1, col=1)\n",
    "fig3.add_trace(valley_val_c_trace, row=1, col=1)\n",
    "fig3.add_trace(peak_val_pp_trace, row=1, col=1)\n",
    "fig3.add_trace(valley_val_pp_trace, row=1, col=1)\n",
    "# add subplot title\n",
    "fig3.update_yaxes(title_text=\"Raw Chest Magnitude\", row=1, col=1)\n",
    "\n",
    "fig3.add_trace(VT_c_trace, row=2, col=1)\n",
    "fig3.add_trace(VT_pp_trace, row=2, col=1)\n",
    "fig3.update_yaxes(title_text=\"VT\", row=2, col=1)\n",
    "fig3.update_xaxes(title_text=\"Time[s]\", row=2, col=1)\n",
    "\n",
    "fig3.update_layout(height=500*2,\n",
    "                    legend_tracegroupgap=450,\n",
    "                    )\n",
    "\n",
    "\n",
    "fig3.show(renderer = \"browser\")\n",
    "pl.figures_to_html([fig3], \"PeakDetection_VT.html\", show = False)"
   ],
   "metadata": {
    "collapsed": false,
    "ExecuteTime": {
     "start_time": "2023-05-04T14:17:19.003116Z",
     "end_time": "2023-05-04T14:17:20.231938Z"
    }
   }
  },
  {
   "cell_type": "markdown",
   "source": [
    "## Identifying Error Regions\n",
    "There are differences in the detected peaks between the two algorithms, but what is the impact on the Minute Volume calculuation\n"
   ],
   "metadata": {
    "collapsed": false
   }
  },
  {
   "cell_type": "code",
   "execution_count": 126,
   "outputs": [],
   "source": [
    "# Plot VE from both algorithms\n",
    "\n",
    "## C VE\n",
    "VE_c_trace = go.Scatter(\n",
    "    x = c_df[\"PeakTS\"],\n",
    "    y = c_df[\"VE\"],\n",
    "    mode = \"lines\",\n",
    "    name = \"VE (C)\",\n",
    "    line = {\"color\" : color_dict[\"c\"]},\n",
    ")\n",
    "## PP VE\n",
    "VE_pp_trace = go.Scatter(\n",
    "    x = pp_df[\"breathTime\"],\n",
    "    y = pp_df[\"VE\"],\n",
    "    mode = \"lines\",\n",
    "    name = \"VE (PP)\",\n",
    "    line = {\"color\" : color_dict[\"pp\"]},\n",
    ")\n",
    "# Plot VE traces\n",
    "# fig4 = go.Figure()\n",
    "# fig4.add_trace(VE_c_trace)\n",
    "# fig4.add_trace(VE_pp_trace)\n",
    "# fig4.show(renderer = \"browser\")\n"
   ],
   "metadata": {
    "collapsed": false,
    "ExecuteTime": {
     "start_time": "2023-05-04T14:17:20.079933Z",
     "end_time": "2023-05-04T14:17:20.232933Z"
    }
   }
  },
  {
   "cell_type": "markdown",
   "source": [
    "## Get error signal between VE's"
   ],
   "metadata": {
    "collapsed": false
   }
  },
  {
   "cell_type": "code",
   "execution_count": 127,
   "outputs": [],
   "source": [
    "## First interpolate each time-series to the same time base\n",
    "VE_pp = pd.DataFrame(pp_df[\"VE\"]).set_axis(pp_df[\"breathTime\"])\n",
    "VE_c = pd.DataFrame(c_df[\"VE\"]).set_axis(c_df[\"PeakTS\"])\n",
    "VE = VE_pp.join(VE_c, how=\"outer\", rsuffix=\"_c\", lsuffix=\"_pp\")\n",
    "VE_interp = VE.interpolate(method=\"index\")\n",
    "d = pd.DataFrame(np.arange(max(VE_interp.index)), index=np.arange(max(VE_interp.index)))\n",
    "VE_sec = VE_interp.join(d, how=\"outer\")\n",
    "# VT_j_int_sec # Uncomment to view\n",
    "VE_sec_int = VE_sec.interpolate(method=\"index\").fillna(value=0).drop(columns=[0])\n",
    "\n",
    "VE_c_sec_trace = go.Scatter(\n",
    "    x = VE_sec_int.index,\n",
    "    y = VE_sec_int[\"VE_c\"],\n",
    "    mode = \"lines\",\n",
    "    name = \"VE (C)\",\n",
    "    line = {\"color\" : color_dict[\"c\"]},\n",
    ")\n",
    "\n",
    "VE_pp_sec_trace = go.Scatter(\n",
    "    x = VE_sec_int.index,\n",
    "    y = VE_sec_int[\"VE_pp\"],\n",
    "    mode = \"lines\",\n",
    "    name = \"VE (PP)\",\n",
    "    line = {\"color\" : color_dict[\"pp\"]},\n",
    ")\n",
    "\n",
    "# Plot VE and VE_sec traces\n",
    "# fig5 = go.Figure()\n",
    "# fig5.add_trace(VE_c_trace)\n",
    "# fig5.add_trace(VE_pp_trace)\n",
    "# fig5.add_trace(VE_c_sec_trace)\n",
    "# fig5.add_trace(VE_pp_sec_trace)\n",
    "# fig5.show(renderer = \"browser\")"
   ],
   "metadata": {
    "collapsed": false,
    "ExecuteTime": {
     "start_time": "2023-05-04T14:17:20.216929Z",
     "end_time": "2023-05-04T14:17:20.449930Z"
    }
   }
  },
  {
   "cell_type": "code",
   "execution_count": 128,
   "outputs": [],
   "source": [
    "## Compute error in the VE Sec signals\n",
    "VE_sec_int[\"VE_err\"] = (VE_sec_int[\"VE_c\"] - VE_sec_int[\"VE_pp\"])/VE_sec_int[\"VE_pp\"]\n",
    "VE_err_trace = go.Scatter(\n",
    "    x = VE_sec_int.index,\n",
    "    y = VE_sec_int[\"VE_err\"],\n",
    "    mode = \"lines\",\n",
    "    name = \"VE Error\",\n",
    "    line = {\"color\" : color_dict[\"err\"]},\n",
    ")\n"
   ],
   "metadata": {
    "collapsed": false,
    "ExecuteTime": {
     "start_time": "2023-05-04T14:17:20.437930Z",
     "end_time": "2023-05-04T14:17:20.571929Z"
    }
   }
  },
  {
   "cell_type": "code",
   "execution_count": 129,
   "outputs": [],
   "source": [
    "# Create plot collection of VE and Errors\n",
    "fig6 = make_subplots(rows=2, cols=1, shared_xaxes=True, vertical_spacing=0.02,\n",
    "                     subplot_titles=(\"VE (Top) and VE Error (Bottom)\"))\n",
    "# Add title\n",
    "fig6.update_layout(title_text=\"VE (Top) and VE Error (Bottom)\")\n",
    "fig6.add_trace(VE_c_sec_trace, row=1, col=1, )\n",
    "fig6.add_trace(VE_pp_sec_trace, row=1, col=1)\n",
    "fig6.add_trace(VE_err_trace, row=2, col=1)\n",
    "# add subplot title\n",
    "fig6.update_yaxes(title_text=\"VE\", row=1, col=1)\n",
    "fig6.update_yaxes(title_text=\"VE Error\", row=2, col=1)\n",
    "fig6.update_xaxes(title_text=\"Time[s]\", row=2, col=1)\n",
    "# space the legends\n",
    "fig6.update_layout(height=500*2,\n",
    "                    legend_tracegroupgap=450,\n",
    "                    )\n",
    "\n",
    "# show fig6\n",
    "fig6.show(renderer = \"browser\")"
   ],
   "metadata": {
    "collapsed": false,
    "ExecuteTime": {
     "start_time": "2023-05-04T14:17:20.575930Z",
     "end_time": "2023-05-04T14:17:21.299936Z"
    }
   }
  },
  {
   "cell_type": "code",
   "execution_count": 130,
   "outputs": [],
   "source": [
    "## Shade the back of the VE plot according to the error\n",
    "# Create a new trace for the error region\n",
    "VE_err_region_trace = go.Scatter(\n",
    "    x = VE_sec_int.index,\n",
    "    y = VE_sec_int[\"VE_c\"],\n",
    "    mode = \"lines\",\n",
    "    name = \"VE (C)\",\n",
    "    line = {\"color\" : color_dict[\"c\"]},\n",
    "    fill = \"tonexty\",\n",
    "    fillcolor = color_dict[\"err\"],\n",
    ")\n",
    "# Create a new trace for the error region\n",
    "VE_err_region_trace2 = go.Scatter(\n",
    "    x = VE_sec_int.index,\n",
    "    y = VE_sec_int[\"VE_pp\"],\n",
    "    mode = \"lines\",\n",
    "    name = \"VE (PP)\",\n",
    "    line = {\"color\" : color_dict[\"pp\"]},\n",
    "    fill = \"tonexty\",\n",
    "    fillcolor = color_dict[\"err\"],\n",
    ")"
   ],
   "metadata": {
    "collapsed": false,
    "ExecuteTime": {
     "start_time": "2023-05-04T14:17:21.302931Z",
     "end_time": "2023-05-04T14:17:21.447936Z"
    }
   }
  },
  {
   "cell_type": "code",
   "execution_count": 131,
   "outputs": [],
   "source": [
    "if False:\n",
    "    # Create plot collection of VE andErrors\n",
    "    fig7 = make_subplots(rows=2, cols=1, shared_xaxes=True, vertical_spacing=0.02)\n",
    "    # Add title\n",
    "    fig7.update_layout(title_text=\"VE (Top) and VE Error (Bottom)\")\n",
    "    fig7.add_trace(VE_c_sec_trace, row=1, col=1, )\n",
    "    fig7.add_trace(VE_pp_sec_trace, row=1, col=1)\n",
    "    fig7.add_trace(VE_err_trace, row=2, col=1)\n",
    "    fig7.add_trace(VE_err_region_trace, row=1, col=1)\n",
    "    fig7.add_trace(VE_err_region_trace2, row=1, col=1)\n",
    "    # add subplot title\n",
    "    fig7.update_yaxes(title_text=\"VE\", row=1, col=1)\n",
    "    fig7.update_yaxes(title_text=\"VE Error\", row=2, col=1)\n",
    "    fig7.update_xaxes(title_text=\"Time[s]\", row=2, col=1)\n",
    "    # space the legends\n",
    "    fig7.update_layout(height=500*2,\n",
    "                        legend_tracegroupgap=450,\n",
    "                        )\n",
    "\n",
    "    # show fig7\n",
    "    fig7.show(renderer = \"browser\")\n"
   ],
   "metadata": {
    "collapsed": false,
    "ExecuteTime": {
     "start_time": "2023-05-04T14:17:21.452935Z",
     "end_time": "2023-05-04T14:17:21.584930Z"
    }
   }
  },
  {
   "cell_type": "markdown",
   "source": [
    "# Peak Detection and VE Error"
   ],
   "metadata": {
    "collapsed": false
   }
  },
  {
   "cell_type": "code",
   "execution_count": 132,
   "outputs": [],
   "source": [
    "# Make the Peak detection plot collection\n",
    "# make subplots\n",
    "fig8 = make_subplots(rows=2, cols=1, shared_xaxes=True, vertical_spacing=0.02,\n",
    "                     subplot_titles=[\"Raw chest with peak detection\", \"VE Error\"])\n",
    "# Add title\n",
    "fig8.update_layout(title_text=\"Peak Detection vs VE Error\")\n",
    "fig8.add_trace(raw_chest_trace, row=1, col=1, )\n",
    "fig8.add_trace(peak_val_c_trace, row=1, col=1)\n",
    "fig8.add_trace(valley_val_c_trace, row=1, col=1)\n",
    "fig8.add_trace(peak_val_pp_trace, row=1, col=1)\n",
    "fig8.add_trace(valley_val_pp_trace, row=1, col=1)\n",
    "# add subplot title\n",
    "fig8.update_yaxes(title_text=\"Raw Chest Magnitude\", row=1, col=1)\n",
    "\n",
    "fig8.add_trace(VE_err_trace, row=2, col=1)\n",
    "fig8.update_yaxes(title_text=\"VE Error\", row=2, col=1)\n",
    "fig8.update_xaxes(title_text=\"Time[s]\", row=2, col=1)\n",
    "\n",
    "fig8.update_layout(height=500*2,\n",
    "                    legend_tracegroupgap=450,\n",
    "                    )\n",
    "\n",
    "\n",
    "fig8.show(renderer = \"browser\")\n"
   ],
   "metadata": {
    "collapsed": false,
    "ExecuteTime": {
     "start_time": "2023-05-04T14:17:21.586931Z",
     "end_time": "2023-05-04T14:17:22.408128Z"
    }
   }
  },
  {
   "cell_type": "markdown",
   "source": [
    "# Breathing Rate Comparison"
   ],
   "metadata": {
    "collapsed": false
   }
  },
  {
   "cell_type": "code",
   "execution_count": 133,
   "outputs": [],
   "source": [
    "# Plot instant breathing rate and average breathing rate\n",
    "\n",
    "instBR_c_trace = go.Scatter(\n",
    "    x = c_df[\"PeakTS\"],\n",
    "    y = c_df[\"InstBR\"],\n",
    "    mode = \"lines\",\n",
    "    name = \"Instant BR (C)\",\n",
    "    line = {\"color\" : color_dict[\"c\"]},\n",
    ")\n",
    "AvgBr_c_trace = go.Scatter(\n",
    "    x = c_df[\"PeakTS\"],\n",
    "    y = c_df[\"AvgBR\"],\n",
    "    mode = \"lines\",\n",
    "    name = \"Avg BR (C)\",\n",
    "    line = {\"color\" : color_dict[\"c\"]},\n",
    ")\n",
    "\n",
    "instBR_pp_trace = go.Scatter(\n",
    "    x = pp_df[\"breathTime\"],\n",
    "    y = pp_df[\"instBR\"],\n",
    "    mode = \"lines\",\n",
    "    name = \"Instant BR (PP)\",\n",
    "    line = {\"color\" : color_dict[\"pp\"]},\n",
    ")\n",
    "\n",
    "RRAvg_pp_trace = go.Scatter(\n",
    "    x = pp_df[\"breathTime\"],\n",
    "    y = pp_df[\"RRAvg\"],\n",
    "    mode = \"lines\",\n",
    "    name = \"RR Avg (PP)\",\n",
    "    line = {\"color\" : color_dict[\"pp\"]},\n",
    ")\n",
    "\n",
    "# plot traces\n",
    "fig9 = make_subplots(rows=2, cols=1, shared_xaxes=True, vertical_spacing=0.02, subplot_titles=(\"Instant BR\", \"Avg BR\"))\n",
    "# Add title\n",
    "fig9.update_layout(title_text=\"Breathing Rate Comparison\")\n",
    "fig9.add_trace(instBR_c_trace, row=1, col=1, )\n",
    "fig9.add_trace(instBR_pp_trace, row=1, col=1)\n",
    "fig9.add_trace(AvgBr_c_trace, row=2, col=1)\n",
    "fig9.add_trace(RRAvg_pp_trace, row=2, col=1)\n",
    "\n",
    "# add subplot title\n",
    "fig9.update_yaxes(title_text=\"Instant BR\", row=1, col=1)\n",
    "fig9.update_yaxes(title_text=\"Avg BR\", row=2, col=1)\n",
    "\n",
    "fig9.update_xaxes(title_text=\"Time[s]\", row=2, col=1)\n",
    "\n",
    "fig9.update_layout(height=500*2,\n",
    "                    legend_tracegroupgap=450,\n",
    "                    )\n",
    "\n",
    "fig9.show(renderer = \"browser\")\n"
   ],
   "metadata": {
    "collapsed": false,
    "ExecuteTime": {
     "start_time": "2023-05-04T14:17:22.408128Z",
     "end_time": "2023-05-04T14:17:22.859132Z"
    }
   }
  },
  {
   "cell_type": "code",
   "execution_count": 134,
   "outputs": [],
   "source": [
    "# Plot the intant and average breathing rate together\n",
    "fig10 = make_subplots(rows = 2, cols=1, shared_xaxes=True, vertical_spacing=0.02,\n",
    "                      subplot_titles=(\"C Algorithm\", \"PP Algorithm\"))\n",
    "fig10.update_layout(title_text=\"Instant vs Average Breathing Rate\")\n",
    "\n",
    "AvgBr_c_trace_dash = go.Scatter(\n",
    "    x = c_df[\"PeakTS\"],\n",
    "    y = c_df[\"AvgBR\"],\n",
    "    mode = \"lines\",\n",
    "    name = \"Avg BR (C)\",\n",
    "    line = {\"color\" : color_dict[\"c\"], \"dash\" : \"dash\"},\n",
    ")\n",
    "RRAvg_pp_trace_dash = go.Scatter(\n",
    "    x = pp_df[\"breathTime\"],\n",
    "    y = pp_df[\"RRAvg\"],\n",
    "    mode = \"lines\",\n",
    "    name = \"RR Avg (PP)\",\n",
    "    line = {\"color\" : color_dict[\"pp\"], \"dash\" : \"dash\"},\n",
    ")\n",
    "fig10.add_trace(instBR_c_trace, row=1, col=1)\n",
    "fig10.add_trace(AvgBr_c_trace_dash, row=1, col=1)\n",
    "fig10.add_trace(instBR_pp_trace, row=2, col=1)\n",
    "fig10.add_trace(RRAvg_pp_trace_dash, row=2, col=1)\n",
    "\n",
    "fig10.update_yaxes(title_text=\"C BR\", row=1, col=1)\n",
    "fig10.update_yaxes(title_text=\"PP BR\", row=2, col=1)\n",
    "\n",
    "fig10.update_xaxes(title_text=\"Time[s]\", row=2, col=1)\n",
    "\n",
    "fig10.show(renderer = \"browser\")\n"
   ],
   "metadata": {
    "collapsed": false,
    "ExecuteTime": {
     "start_time": "2023-05-04T14:17:22.868127Z",
     "end_time": "2023-05-04T14:17:23.626133Z"
    }
   }
  },
  {
   "cell_type": "code",
   "execution_count": 135,
   "outputs": [],
   "source": [
    "# Alignment of metrics based on cross-correlation\n",
    "def cross_correlate(series1, series2):\n",
    "    sig1 = series1.dropna()\n",
    "    sig2 = series2.dropna()\n",
    "    corr = scipy.signal.correlate(sig1, sig2)\n",
    "    lags = scipy.signal.correlation_lags(len(sig1), len(sig2))\n",
    "\n",
    "    return corr / corr.max(), lags\n",
    "\n",
    "\n",
    "def cross_corr_align(df1, df2, ycol1, ycol2, xcol1, xcol2):\n",
    "    \"\"\"\n",
    "    This function takes in two dataframes and aligns them based on the cross-correlation\n",
    "    between two columns. The function returns the lag value and the aligned dataframe.\n",
    "    \"\"\"\n",
    "    from copy import deepcopy\n",
    "    # First we need to join and interpolate the two series\n",
    "    df1 = pd.DataFrame(df1[ycol1].set_axis(df1[xcol1]))\n",
    "    df2 = pd.DataFrame(df2[ycol2].set_axis(df2[xcol2]))\n",
    "    df = df1.join(df2, how=\"outer\", rsuffix=\"_1\", lsuffix=\"_2\")\n",
    "    df_interp = df.interpolate(method=\"index\")\n",
    "    sec_df = pd.DataFrame(np.arange(max(df_interp.index)), index=np.arange(max(df_interp.index)))\n",
    "    df_sec = df_interp.join(sec_df, how=\"outer\")\n",
    "    df_sec = df_sec.interpolate(method=\"index\").fillna(value =0).drop(columns=[0])\n",
    "\n",
    "    # Now we can compute the cross correlation\n",
    "    ycol_1 = ycol1 + \"_1\"\n",
    "    ycol_2 = ycol2 + \"_2\"\n",
    "    corr, lags = cross_correlate(df_sec[ycol_1], df_sec[ycol_2])\n",
    "    opt_lag = lags[np.argmax(corr)]\n",
    "\n",
    "    # Copy df sec\n",
    "    df_sec_shift = deepcopy(df_sec)\n",
    "    # Shift the second column by the optimal lag\n",
    "    df_sec_shift[df_sec.columns[0]] = df_sec_shift[df_sec.columns[0]].shift(opt_lag)\n",
    "\n",
    "    return df_sec_shift, opt_lag, df_sec\n"
   ],
   "metadata": {
    "collapsed": false,
    "ExecuteTime": {
     "start_time": "2023-05-04T14:17:23.646129Z",
     "end_time": "2023-05-04T14:17:23.839131Z"
    }
   }
  },
  {
   "cell_type": "code",
   "execution_count": 136,
   "outputs": [],
   "source": [
    "if False:\n",
    "    # Test cross_corr_align function\n",
    "    df_sec_shift, opt_lag, df_sec = cross_corr_align(c_df, pp_df, \"VT\", \"VT\", \"PeakTS\", \"breathTime\")\n",
    "\n",
    "    color_map = {df_sec.columns[0]: \"lightseagreen\", df_sec.columns[1]: \"darkorange\"}\n",
    "\n",
    "    # plot df_sec_shift and df_sec\n",
    "    fig11 = make_subplots(rows=2, cols=1, shared_xaxes=True, vertical_spacing=0.02)\n",
    "    # Add title\n",
    "    fig11.update_layout(title_text=f\"Shifted - {opt_lag}  (Top), Unshifted (Bottom)\")\n",
    "    fig11.add_trace(go.Scatter(\n",
    "        x = df_sec_shift.index,\n",
    "        y = df_sec_shift[df_sec_shift.columns[0]],\n",
    "        mode = \"lines\",\n",
    "        name = df_sec_shift.columns[0],\n",
    "        line={\"color\": color_map[df_sec_shift.columns[0]]},\n",
    "    ), row=1, col=1)\n",
    "\n",
    "    fig11.add_trace(go.Scatter(\n",
    "        x = df_sec_shift.index,\n",
    "        y = df_sec_shift[df_sec_shift.columns[1]],\n",
    "        mode = \"lines\",\n",
    "        name = df_sec_shift.columns[1],\n",
    "        line={\"color\": color_map[df_sec_shift.columns[1]]},\n",
    "    ), row=1, col=1)\n",
    "\n",
    "    fig11.add_trace(go.Scatter(\n",
    "        x = df_sec.index,\n",
    "        y = df_sec[df_sec.columns[0]],\n",
    "        mode = \"lines\",\n",
    "        name = df_sec.columns[0],\n",
    "        line={\"color\": color_map[df_sec.columns[0]]},\n",
    "    ), row=2, col=1)\n",
    "\n",
    "    fig11.add_trace(go.Scatter(\n",
    "        x = df_sec.index,\n",
    "        y = df_sec[df_sec.columns[1]],\n",
    "        mode = \"lines\",\n",
    "        name = df_sec.columns[1],\n",
    "        line={\"color\": color_map[df_sec.columns[1]]},\n",
    "    ), row=2, col=1)\n",
    "\n",
    "    fig11.show(renderer = \"browser\")\n"
   ],
   "metadata": {
    "collapsed": false,
    "ExecuteTime": {
     "start_time": "2023-05-04T14:17:23.859131Z",
     "end_time": "2023-05-04T14:17:24.029135Z"
    }
   }
  },
  {
   "cell_type": "code",
   "execution_count": 136,
   "outputs": [],
   "source": [],
   "metadata": {
    "collapsed": false,
    "ExecuteTime": {
     "start_time": "2023-05-04T14:17:24.036133Z",
     "end_time": "2023-05-04T14:17:24.042131Z"
    }
   }
  }
 ],
 "metadata": {
  "kernelspec": {
   "display_name": "Python 3",
   "language": "python",
   "name": "python3"
  },
  "language_info": {
   "codemirror_mode": {
    "name": "ipython",
    "version": 2
   },
   "file_extension": ".py",
   "mimetype": "text/x-python",
   "name": "python",
   "nbconvert_exporter": "python",
   "pygments_lexer": "ipython2",
   "version": "2.7.6"
  }
 },
 "nbformat": 4,
 "nbformat_minor": 0
}
