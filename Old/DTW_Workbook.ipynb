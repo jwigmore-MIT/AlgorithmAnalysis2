{
 "cells": [
  {
   "cell_type": "code",
   "execution_count": 15,
   "metadata": {
    "collapsed": true,
    "ExecuteTime": {
     "start_time": "2023-05-16T17:35:19.884249Z",
     "end_time": "2023-05-16T17:35:20.056524Z"
    }
   },
   "outputs": [
    {
     "name": "stdout",
     "output_type": "stream",
     "text": [
      "The autoreload extension is already loaded. To reload it, use:\n",
      "  %reload_ext autoreload\n"
     ]
    }
   ],
   "source": [
    "from Error_Compare import *\n",
    "import numpy as no\n",
    "from dtw import *\n",
    "%load_ext autoreload\n",
    "%autoreload 2"
   ]
  },
  {
   "cell_type": "code",
   "execution_count": 209,
   "outputs": [
    {
     "name": "stdout",
     "output_type": "stream",
     "text": [
      "No pickled data found in activity data directory. Cleaning data...\n",
      "cleaned_data folder already exists at data/dataset\\cleaned_data\n"
     ]
    }
   ],
   "source": [
    "activity_dir = \"data/dataset/effad897-2991-4c2c-9a6a-f85a111d0e3d\"\n",
    "min_time = 655\n",
    "live_min_time = 660\n",
    "max_time = 1800\n",
    "# Settings\n",
    "error_type = \"Percent\"\n",
    "lower_threshold = 0.25\n",
    "upper_threshold = np.inf\n",
    "# error_type = \"Absolute\" #\n",
    "# lower_threshold = 20\n",
    "# upper_threshold = np.inf\n",
    "live_shift = \"cross_correlation\"\n",
    "#live_shift = 30\n",
    "\n",
    "activity = os.path.split(activity_dir)[-1]\n",
    "clean_dfs = load_data(activity_dir, has_uncleaned = False)\n",
    "\n",
    "key_metrics = [\"breathTime\", \"VT\"]#, \"VT\", \"RRAvg\", \"instBR\"]\n",
    "\n",
    "\n",
    "# Load Data\n",
    "raw_chest = clean_dfs[\"raw_slow_df\"][[\"time\",\"c\",]]\n",
    "\n",
    "live_b3_df = clean_dfs[\"live_b3_df\"][key_metrics]\n",
    "pp_b3_df = clean_dfs[\"aws_b3_df\"][key_metrics]\n",
    "\n",
    "\n",
    "# Only look at a subset of the data\n",
    "raw_chest = raw_chest[(raw_chest[\"time\"] > min_time) & (raw_chest[\"time\"] < max_time)]\n",
    "live_b3_df = live_b3_df[(live_b3_df[\"breathTime\"] > live_min_time) & (live_b3_df[\"breathTime\"] < max_time)]\n",
    "pp_b3_df = pp_b3_df[(pp_b3_df[\"breathTime\"] > min_time) & (pp_b3_df[\"breathTime\"] < max_time)]\n",
    "\n",
    "# Clean Data\n",
    "pp_df, pp_cleaning_demo = run_cleaning_process(pp_b3_df[key_metrics], demo = True)\n",
    "live_df = run_cleaning_process(live_b3_df[key_metrics], demo = False)\n",
    "\n"
   ],
   "metadata": {
    "collapsed": false,
    "ExecuteTime": {
     "start_time": "2023-05-17T10:13:44.617230Z",
     "end_time": "2023-05-17T10:13:47.373620Z"
    }
   }
  },
  {
   "cell_type": "code",
   "execution_count": 106,
   "outputs": [],
   "source": [
    "# Visualize Error\n",
    "fig = plot_metrics_compare(raw_chest, live_df, pp_df, show = False)\n",
    "fig.show()"
   ],
   "metadata": {
    "collapsed": false,
    "ExecuteTime": {
     "start_time": "2023-05-17T08:43:28.516974Z",
     "end_time": "2023-05-17T08:43:29.970882Z"
    }
   }
  },
  {
   "cell_type": "code",
   "execution_count": 53,
   "outputs": [],
   "source": [],
   "metadata": {
    "collapsed": false,
    "ExecuteTime": {
     "start_time": "2023-05-16T18:33:07.351813Z",
     "end_time": "2023-05-16T18:33:07.774568Z"
    }
   }
  },
  {
   "cell_type": "code",
   "execution_count": 55,
   "outputs": [
    {
     "name": "stdout",
     "output_type": "stream",
     "text": [
      "Max live index:  197\n",
      "Max pp index:  196\n",
      "Min live index:  106\n",
      "Min pp index:  100\n"
     ]
    }
   ],
   "source": [
    "# Get max index of each time-series\n",
    "max_live_index = live_df.index.max()\n",
    "max_pp_index = pp_df.index.max()\n",
    "print(\"Max live index: \", max_live_index)\n",
    "print(\"Max pp index: \", max_pp_index)\n",
    "# Get min index of each time-series\n",
    "min_live_index = live_df.index.min()\n",
    "min_pp_index = pp_df.index.min()\n",
    "print(\"Min live index: \", min_live_index)\n",
    "print(\"Min pp index: \", min_pp_index)"
   ],
   "metadata": {
    "collapsed": false,
    "ExecuteTime": {
     "start_time": "2023-05-16T18:41:37.233461Z",
     "end_time": "2023-05-16T18:41:37.368288Z"
    }
   }
  },
  {
   "cell_type": "code",
   "execution_count": 56,
   "outputs": [],
   "source": [
    "reference = pp_b3_df\n",
    "query = live_b3_df\n"
   ],
   "metadata": {
    "collapsed": false,
    "ExecuteTime": {
     "start_time": "2023-05-16T18:43:03.765489Z",
     "end_time": "2023-05-16T18:43:03.876648Z"
    }
   }
  },
  {
   "cell_type": "code",
   "execution_count": 58,
   "outputs": [],
   "source": [
    "# Visualize Reference and query\n",
    "fig = go.Figure()\n",
    "fig.add_trace(go.Scatter(x = pp_b3_df[\"breathTime\"], y = pp_b3_df[\"VT\"], name = \"Reference\", mode = \"markers\", marker=dict(color=\"blue\")))\n",
    "fig.add_trace(go.Scatter(x = live_b3_df[\"breathTime\"], y = live_b3_df[\"VT\"], name = \"Query\", mode = \"markers\",marker=dict(color=\"red\")))\n",
    "fig.show()"
   ],
   "metadata": {
    "collapsed": false,
    "ExecuteTime": {
     "start_time": "2023-05-16T18:43:56.012066Z",
     "end_time": "2023-05-16T18:43:56.614861Z"
    }
   }
  },
  {
   "cell_type": "code",
   "execution_count": 166,
   "outputs": [],
   "source": [
    "def distance(r: tuple,q: tuple):\n",
    "    return abs(r[1]-q[1])\n",
    "\n",
    "def shift_error(r: tuple,q: tuple, avg_shift = 0):\n",
    "    return abs(r[0] - q[0] - avg_shift)**2\n",
    "\n",
    "def dtw_distance(qry, ref, window, avg_shift = False):\n",
    "    '''\n",
    "    Rules:\n",
    "        1. each element of query can only be matched to a preceding element of reference\n",
    "        2. each element is only matched to one query\n",
    "        3. each element of query can only be matched to an element of reference that is within the window\n",
    "        4. if there does not exist an element of reference within the window, then the element of query is matched to the first element outside of the window\n",
    "    :param ref: (x,y) pairs of the reference signal\n",
    "    :param qry: (x,y) pairs of the query signal\n",
    "    :param window: the maximum x distance between the reference and query signal\n",
    "    :return:\n",
    "    '''\n",
    "    # Initialize\n",
    "    n = len(qry)\n",
    "    m = len(ref)\n",
    "    DTW = np.zeros((n,m))\n",
    "    DTW[0,0] = 0\n",
    "    i_to_j = np.zeros(n, dtype=int)# a map from each element in the query to an element in the reference\n",
    "    shift_avg = window/2\n",
    "    shift_record = []\n",
    "    # Loop through each element of the query\n",
    "    for i,q in zip(range(n),qry):\n",
    "        # i is the index of the query\n",
    "        # q is the element of the query\n",
    "        # Loop through each element of the reference\n",
    "        min_r0 = q[0] - window # Minimum x value of reference that can be matched to query\n",
    "        max_r0 = q[0]\n",
    "        min_cost = np.inf\n",
    "        # get all elements of reference that can be matched to query\n",
    "        ref_window = ref[(ref[:,0] >= min_r0) & (ref[:,0] <= max_r0)]\n",
    "        # get index of each element in ref_window\n",
    "        ref_window_index = np.where((ref[:,0] >= min_r0) & (ref[:,0] <= max_r0))[0]\n",
    "        #print(f\"q: {q}, i, :{i},  ref_window: {ref_window}, valid_j's: {ref_window_index}\")\n",
    "        for j,r in zip(ref_window_index,ref_window):\n",
    "            if avg_shift:\n",
    "                cost = distance(r,q) + shift_error(r,q,shift_avg)\n",
    "            else:\n",
    "                cost = distance(r,q)\n",
    "            if cost <= min_cost:\n",
    "                min_cost = cost\n",
    "                i_to_j[i] = j\n",
    "\n",
    "            DTW[i,j] = cost + min(DTW[i-1,j-1],DTW[i-1,j],DTW[i,j-1])\n",
    "        if avg_shift:\n",
    "            # get exponential average of the shift\n",
    "            if i == 0:\n",
    "                shift_avg = shift_avg\n",
    "            else:\n",
    "                shift_avg = 0.6*shift_avg + 0.4*(q[0] - ref[i_to_j[i]][0])\n",
    "            shift_record.append((q[0] - ref[i_to_j[i]][0],shift_avg))\n",
    "    if avg_shift:\n",
    "        return DTW, i_to_j, shift_record\n",
    "    else:\n",
    "        return DTW, i_to_j\n",
    "\n",
    "def get_warp_path(qry, ref, DTW):\n",
    "    '''\n",
    "    Warp the query signal to the reference signal by finding the minimum cost path through the DTW matrix\n",
    "\n",
    "    :param qry:\n",
    "    :param ref:\n",
    "    :param DTW:\n",
    "    :return:\n",
    "    '''\n",
    "    # Initialize\n",
    "    n = len(qry)\n",
    "    m = len(ref)\n",
    "    path = []\n",
    "    i = n\n",
    "    j = m\n",
    "    while i >= 0 and j >= 0:\n",
    "        path.append((i,j))\n",
    "        if i == 0:\n",
    "            j = j-1\n",
    "        elif j == 0:\n",
    "            i = i-1\n",
    "        else:\n",
    "            if DTW[i-1,j] == min(DTW[i-1,j-1],DTW[i-1,j],DTW[i,j-1]):\n",
    "                i = i-1\n",
    "            elif DTW[i,j-1] == min(DTW[i-1,j-1],DTW[i-1,j],DTW[i,j-1]):\n",
    "                j = j-1\n",
    "            else:\n",
    "                i = i-1\n",
    "                j = j-1\n",
    "    path.append((0,0))\n",
    "    return path\n",
    "\n",
    "def remap_query(qry, ref, i_to_j):\n",
    "    '''\n",
    "    Remap the query signal to the reference signal by using the i_to_j map\n",
    "    :param qry:\n",
    "    :param ref:\n",
    "    :param i_to_j:\n",
    "    :return:\n",
    "    '''\n",
    "    # Initialize\n",
    "    n = len(qry)\n",
    "    m = len(ref)\n",
    "    remapped_qry = np.zeros((n,2))\n",
    "    for i in range(n):\n",
    "        remapped_qry[i,0] = ref[int(i_to_j[i]),0]\n",
    "        remapped_qry[i,1] = qry[i,1]\n",
    "\n",
    "    return remapped_qry\n"
   ],
   "metadata": {
    "collapsed": false,
    "ExecuteTime": {
     "start_time": "2023-05-17T09:41:19.835815Z",
     "end_time": "2023-05-17T09:41:19.977180Z"
    }
   }
  },
  {
   "cell_type": "code",
   "execution_count": 167,
   "outputs": [],
   "source": [
    "\n",
    "\n",
    "qry = np.array([[1,2],[2,4],[4,6],[6,2],[7,3]])\n",
    "ref = np.array([[1,1],[2,3],[3,4],[5,3],[6,3]])\n",
    "window = 2\n",
    "DTW, i_to_j = dtw_distance(qry, ref, window)\n",
    "#path = get_warp_path(qry, ref, DTW)\n",
    "warped = remap_query(qry, ref, i_to_j)"
   ],
   "metadata": {
    "collapsed": false,
    "ExecuteTime": {
     "start_time": "2023-05-17T09:41:24.656436Z",
     "end_time": "2023-05-17T09:41:24.780890Z"
    }
   }
  },
  {
   "cell_type": "code",
   "execution_count": 91,
   "outputs": [
    {
     "name": "stdout",
     "output_type": "stream",
     "text": [
      "[[1. 0. 0. 0. 0.]\n",
      " [3. 1. 0. 0. 0.]\n",
      " [0. 3. 2. 0. 0.]\n",
      " [0. 0. 0. 1. 1.]\n",
      " [0. 0. 0. 0. 0.]]\n"
     ]
    }
   ],
   "source": [
    "print(DTW)"
   ],
   "metadata": {
    "collapsed": false,
    "ExecuteTime": {
     "start_time": "2023-05-17T08:33:32.598014Z",
     "end_time": "2023-05-17T08:33:33.090523Z"
    }
   }
  },
  {
   "cell_type": "code",
   "execution_count": 98,
   "outputs": [
    {
     "name": "stdout",
     "output_type": "stream",
     "text": [
      "[0. 1. 2. 4. 4.]\n",
      "[[1. 1.]\n",
      " [2. 3.]\n",
      " [3. 4.]\n",
      " [6. 3.]\n",
      " [6. 3.]]\n"
     ]
    }
   ],
   "source": [
    "print(i_to_j)\n",
    "print(warped)"
   ],
   "metadata": {
    "collapsed": false,
    "ExecuteTime": {
     "start_time": "2023-05-17T08:38:29.453958Z",
     "end_time": "2023-05-17T08:38:29.746120Z"
    }
   }
  },
  {
   "cell_type": "code",
   "execution_count": 104,
   "outputs": [],
   "source": [
    "# Visualize the reference,query, and warped signals\n",
    "fig = go.Figure()\n",
    "fig.add_trace(go.Scatter(x = qry[:,0], y = qry[:,1], name = \"Query\", marker=dict(color=\"blue\")))\n",
    "fig.add_trace(go.Scatter(x = ref[:,0], y = ref[:,1], name = \"Reference\",marker=dict(color=\"red\")))\n",
    "fig.add_trace(go.Scatter(x = warped[:,0], y = warped[:,1], name = \"Warped\",marker=dict(color=\"green\")))\n",
    "fig.show()"
   ],
   "metadata": {
    "collapsed": false,
    "ExecuteTime": {
     "start_time": "2023-05-17T08:41:52.523621Z",
     "end_time": "2023-05-17T08:41:53.622013Z"
    }
   }
  },
  {
   "cell_type": "code",
   "execution_count": 210,
   "outputs": [],
   "source": [
    "# Now try DTW remapping on the live and pp signals\n",
    "qry = live_b3_df[[\"breathTime\",\"VT\"]].to_numpy()\n",
    "ref = pp_b3_df[[\"breathTime\",\"VT\"]].to_numpy()\n",
    "# visualize the signals\n",
    "fig = go.Figure()\n",
    "fig.add_trace(go.Scatter(x = qry[:,0], y = qry[:,1], name = \"Query\", marker=dict(color=\"blue\")))\n",
    "fig.add_trace(go.Scatter(x = ref[:,0], y = ref[:,1], name = \"Reference\",marker=dict(color=\"red\")))\n",
    "fig.show()"
   ],
   "metadata": {
    "collapsed": false,
    "ExecuteTime": {
     "start_time": "2023-05-17T10:13:55.937542Z",
     "end_time": "2023-05-17T10:13:56.455307Z"
    }
   }
  },
  {
   "cell_type": "code",
   "execution_count": 211,
   "outputs": [],
   "source": [
    "window = 8\n",
    "DTW, i_to_j, _ = dtw_distance(qry, ref, window, avg_shift = True)\n",
    "#path = get_warp_path(qry, ref, DTW)\n",
    "warped = remap_query(qry, ref, i_to_j)"
   ],
   "metadata": {
    "collapsed": false,
    "ExecuteTime": {
     "start_time": "2023-05-17T10:14:00.980241Z",
     "end_time": "2023-05-17T10:14:01.112917Z"
    }
   }
  },
  {
   "cell_type": "code",
   "execution_count": 212,
   "outputs": [],
   "source": [
    "def fix_i_to_j(i_to_j_og):\n",
    "    # in reverse order of i_to_j, if\n",
    "    i_to_j = deepcopy(i_to_j_og)\n",
    "    for i in range(len(i_to_j)-1,1,-1):\n",
    "        if i_to_j[i] == i_to_j[i-1]:\n",
    "            i_to_j[i-1] -= 1\n",
    "    return i_to_j"
   ],
   "metadata": {
    "collapsed": false,
    "ExecuteTime": {
     "start_time": "2023-05-17T10:14:02.705627Z",
     "end_time": "2023-05-17T10:14:02.824521Z"
    }
   }
  },
  {
   "cell_type": "code",
   "execution_count": 213,
   "outputs": [],
   "source": [
    "i_to_j_fixed = fix_i_to_j(i_to_j)\n",
    "rewarped = remap_query(qry, ref, i_to_j_fixed)\n"
   ],
   "metadata": {
    "collapsed": false,
    "ExecuteTime": {
     "start_time": "2023-05-17T10:14:05.259909Z",
     "end_time": "2023-05-17T10:14:05.373817Z"
    }
   }
  },
  {
   "cell_type": "code",
   "execution_count": 179,
   "outputs": [
    {
     "name": "stdout",
     "output_type": "stream",
     "text": [
      "i: 0, j: 0| qry[i]: [ 59 184], ref[j]: [ 56.6 121.6]\n",
      "i: 1, j: 0| qry[i]: [ 62 136], ref[j]: [ 56.6 121.6]\n",
      "i: 2, j: 2| qry[i]: [ 66 136], ref[j]: [ 63.92 136.7 ]\n",
      "i: 3, j: 2| qry[i]: [ 70 147], ref[j]: [ 63.92 136.7 ]\n",
      "i: 4, j: 3| qry[i]: [ 73 146], ref[j]: [ 67.48 135.1 ]\n",
      "i: 5, j: 4| qry[i]: [77 58], ref[j]: [71.16 68.6 ]\n",
      "i: 6, j: 5| qry[i]: [ 80 168], ref[j]: [ 74.28 161.7 ]\n",
      "i: 7, j: 6| qry[i]: [ 83 170], ref[j]: [ 77.84 158.1 ]\n",
      "i: 8, j: 7| qry[i]: [ 86 154], ref[j]: [ 80.84 145.9 ]\n",
      "i: 9, j: 8| qry[i]: [ 90 133], ref[j]: [ 84.44 121.9 ]\n",
      "i: 10, j: 9| qry[i]: [ 95 214], ref[j]: [ 89.2 201.8]\n",
      "i: 11, j: 10| qry[i]: [100 321], ref[j]: [ 94.72 293.4 ]\n",
      "i: 12, j: 12| qry[i]: [106  93], ref[j]: [103.8 103.4]\n",
      "i: 13, j: 12| qry[i]: [109 115], ref[j]: [103.8 103.4]\n",
      "i: 14, j: 13| qry[i]: [114 198], ref[j]: [107.72 180.1 ]\n",
      "i: 15, j: 14| qry[i]: [117 171], ref[j]: [111.76 157.1 ]\n"
     ]
    }
   ],
   "source": [
    "#print i_to_j\n",
    "for n in range(len(i_to_j)):\n",
    "    print(f\"i: {n}, j: {i_to_j[n]}| qry[i]: {qry[n]}, ref[j]: {ref[i_to_j[n]]}\" )\n"
   ],
   "metadata": {
    "collapsed": false,
    "ExecuteTime": {
     "start_time": "2023-05-17T09:49:27.043674Z",
     "end_time": "2023-05-17T09:49:27.163979Z"
    }
   }
  },
  {
   "cell_type": "code",
   "execution_count": 214,
   "outputs": [],
   "source": [
    "# Visualize the reference,query, and warped signals\n",
    "fig = go.Figure()\n",
    "fig.add_trace(go.Scatter(x = qry[:,0], y = qry[:,1], name = \"Query\", marker=dict(color=\"blue\")))\n",
    "fig.add_trace(go.Scatter(x = ref[:,0], y = ref[:,1], name = \"Reference\",marker=dict(color=\"red\")))\n",
    "fig.add_trace(go.Scatter(x = warped[:,0], y = warped[:,1], name = \"Warped\",marker=dict(color=\"green\")))\n",
    "fig.add_trace(go.Scatter(x = rewarped[:,0], y = rewarped[:,1], name = \"Re-Warped\",marker=dict(color=\"purple\")))\n",
    "fig.show()"
   ],
   "metadata": {
    "collapsed": false,
    "ExecuteTime": {
     "start_time": "2023-05-17T10:14:08.764164Z",
     "end_time": "2023-05-17T10:14:09.172683Z"
    }
   }
  },
  {
   "cell_type": "code",
   "execution_count": 140,
   "outputs": [],
   "source": [
    "# Visualize DTW\n",
    "fig = go.Figure(data=go.Heatmap(\n",
    "                   z=DTW,\n",
    "                   x=[i for i in range(len(ref))],\n",
    "                   y=[i for i in range(len(qry))],\n",
    "                   colorscale='Viridis'))\n",
    "fig.show()"
   ],
   "metadata": {
    "collapsed": false,
    "ExecuteTime": {
     "start_time": "2023-05-17T09:21:53.836657Z",
     "end_time": "2023-05-17T09:21:54.291349Z"
    }
   }
  },
  {
   "cell_type": "code",
   "execution_count": 165,
   "outputs": [
    {
     "name": "stdout",
     "output_type": "stream",
     "text": [
      "Shift: 1.56; Avg: 3.02\n",
      "Shift: 2.08; Avg: 2.65\n",
      "Shift: 2.52; Avg: 2.60\n",
      "Shift: 5.52; Avg: 3.77\n",
      "Shift: 5.84; Avg: 4.60\n",
      "Shift: 2.16; Avg: 3.62\n",
      "Shift: 2.16; Avg: 3.04\n",
      "Shift: 1.56; Avg: 2.45\n",
      "Shift: 5.56; Avg: 3.69\n",
      "Shift: 0.28; Avg: 2.33\n",
      "Shift: 5.28; Avg: 3.51\n",
      "Shift: 2.20; Avg: 2.98\n",
      "Shift: 5.20; Avg: 3.87\n",
      "Shift: 2.24; Avg: 3.22\n",
      "Shift: 1.60; Avg: 2.57\n"
     ]
    }
   ],
   "source": [
    "for item in shift_record:\n",
    "    print(f\"Shift: {item[0]:.2f}; Avg: {item[1]:.2f}\")"
   ],
   "metadata": {
    "collapsed": false,
    "ExecuteTime": {
     "start_time": "2023-05-17T09:38:47.993015Z",
     "end_time": "2023-05-17T09:38:48.102914Z"
    }
   }
  },
  {
   "cell_type": "code",
   "execution_count": null,
   "outputs": [],
   "source": [
    "# Estimate avg shift using cross correlation\n",
    "e"
   ],
   "metadata": {
    "collapsed": false
   }
  },
  {
   "cell_type": "code",
   "execution_count": null,
   "outputs": [],
   "source": [],
   "metadata": {
    "collapsed": false
   }
  }
 ],
 "metadata": {
  "kernelspec": {
   "display_name": "Python 3",
   "language": "python",
   "name": "python3"
  },
  "language_info": {
   "codemirror_mode": {
    "name": "ipython",
    "version": 2
   },
   "file_extension": ".py",
   "mimetype": "text/x-python",
   "name": "python",
   "nbconvert_exporter": "python",
   "pygments_lexer": "ipython2",
   "version": "2.7.6"
  }
 },
 "nbformat": 4,
 "nbformat_minor": 0
}
