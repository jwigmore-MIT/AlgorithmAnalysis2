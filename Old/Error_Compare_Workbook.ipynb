{
 "cells": [
  {
   "cell_type": "code",
   "execution_count": 238,
   "metadata": {
    "collapsed": true,
    "ExecuteTime": {
     "start_time": "2023-05-16T17:03:49.385320Z",
     "end_time": "2023-05-16T17:03:49.698612Z"
    }
   },
   "outputs": [
    {
     "name": "stdout",
     "output_type": "stream",
     "text": [
      "The autoreload extension is already loaded. To reload it, use:\n",
      "  %reload_ext autoreload\n"
     ]
    }
   ],
   "source": [
    "from Error_Compare import *\n",
    "%load_ext autoreload\n",
    "%autoreload 2"
   ]
  },
  {
   "cell_type": "code",
   "execution_count": 249,
   "outputs": [
    {
     "name": "stdout",
     "output_type": "stream",
     "text": [
      "VT lag: 4\n",
      "Activity:  effad897-2991-4c2c-9a6a-f85a111d0e3d\n",
      "Shift:  {'VT': -4}\n",
      "Error Type:  Percent\n",
      "Lower Threshold:  0.25\n",
      "Upper Threshold:  inf\n",
      "--------------------\n",
      "Error Fraction:  {'VT': 0.39192003331945025}\n",
      "No pickled data found in activity data directory. Cleaning data...\n",
      "cleaned_data folder already exists at data/dataset\\cleaned_data\n",
      "VT lag: 4\n",
      "Activity:  effad897-2991-4c2c-9a6a-f85a111d0e3d\n",
      "Shift:  {'VT': -4}\n",
      "Error Type:  Percent\n",
      "Lower Threshold:  0.25\n",
      "Upper Threshold:  inf\n",
      "--------------------\n",
      "Error Fraction:  {'VT': 0.39192003331945025}\n"
     ]
    }
   ],
   "source": [
    "activity_dir = \"data/dataset/effad897-2991-4c2c-9a6a-f85a111d0e3d\"\n",
    "min_time = 60\n",
    "max_time = np.inf\n",
    "# Settings\n",
    "error_type = \"Percent\"\n",
    "lower_threshold = 0.25\n",
    "upper_threshold = np.inf\n",
    "# error_type = \"Absolute\" #\n",
    "# lower_threshold = 20\n",
    "# upper_threshold = np.inf\n",
    "live_shift = \"cross_correlation\"\n",
    "#live_shift = 30\n",
    "\n",
    "activity = os.path.split(activity_dir)[-1]\n",
    "clean_dfs = load_data(activity_dir, has_uncleaned = False)\n",
    "\n",
    "key_metrics = [\"breathTime\", \"VT\"]#, \"VT\", \"RRAvg\", \"instBR\"]\n",
    "\n",
    "\n",
    "# Load Data\n",
    "raw_chest = clean_dfs[\"raw_slow_df\"][[\"time\",\"c\",]]\n",
    "\n",
    "live_b3_df = clean_dfs[\"live_b3_df\"][key_metrics]\n",
    "pp_b3_df = clean_dfs[\"aws_b3_df\"][key_metrics]\n",
    "\n",
    "# Only look at a subset of the data\n",
    "raw_chest = raw_chest[(raw_chest[\"time\"] > min_time) & (raw_chest[\"time\"] < max_time)]\n",
    "live_b3_df = live_b3_df[(live_b3_df[\"breathTime\"] > min_time) & (live_b3_df[\"breathTime\"] < max_time)]\n",
    "pp_b3_df = pp_b3_df[(pp_b3_df[\"breathTime\"] > min_time) & (pp_b3_df[\"breathTime\"] < max_time)]\n",
    "\n",
    "# Clean Data\n",
    "pp_df, pp_cleaning_demo = run_cleaning_process(pp_b3_df[key_metrics], demo = True)\n",
    "live_df = run_cleaning_process(live_b3_df[key_metrics], demo = False)\n",
    "\n",
    "if live_shift == \"cross_correlation\":\n",
    "    lags = {}\n",
    "    for metric in key_metrics:\n",
    "        if metric == \"breathTime\":\n",
    "            continue\n",
    "        lag, corr = get_corr_lag(live_df, pp_df, metric, plot = False)\n",
    "        print(f\"{metric} lag: {lag}\")\n",
    "        lags[metric] = -lag\n",
    "else:\n",
    "    lags = {metric:-live_shift for metric in key_metrics}\n",
    "\n",
    "all_error_signals, all_time_in_error, all_error_indices, all_error_fraction, all_error_durations, live_df_sh = perform_error_analysis(live_df, pp_df, key_metrics, lags = lags, error_type=error_type, lower_threshold=lower_threshold, upper_threshold=upper_threshold)\n",
    "# Summary\n",
    "print(\"Activity: \", activity)\n",
    "print(\"Shift: \", lags)\n",
    "print(\"Error Type: \", error_type)\n",
    "print(\"Lower Threshold: \", lower_threshold)\n",
    "print(\"Upper Threshold: \", upper_threshold)\n",
    "print(\"-\"*20)\n",
    "print(\"Error Fraction: \", all_error_fraction)\n",
    "\n",
    "\n",
    "\n"
   ],
   "metadata": {
    "collapsed": false,
    "ExecuteTime": {
     "start_time": "2023-05-16T17:11:53.396377Z",
     "end_time": "2023-05-16T17:11:59.043743Z"
    }
   }
  },
  {
   "cell_type": "code",
   "execution_count": 250,
   "outputs": [],
   "source": [
    "# Visualize Error\n",
    "fig = plot_metrics_compare(raw_chest, live_df_sh, pp_df, errors_indices=all_error_indices, show = False)\n",
    "fig.show()"
   ],
   "metadata": {
    "collapsed": false,
    "ExecuteTime": {
     "start_time": "2023-05-16T17:11:59.053806Z",
     "end_time": "2023-05-16T17:12:00.342872Z"
    }
   }
  },
  {
   "cell_type": "code",
   "execution_count": 250,
   "outputs": [],
   "source": [],
   "metadata": {
    "collapsed": false,
    "ExecuteTime": {
     "start_time": "2023-05-16T17:12:00.344927Z",
     "end_time": "2023-05-16T17:12:00.359453Z"
    }
   }
  }
 ],
 "metadata": {
  "kernelspec": {
   "display_name": "Python 3",
   "language": "python",
   "name": "python3"
  },
  "language_info": {
   "codemirror_mode": {
    "name": "ipython",
    "version": 2
   },
   "file_extension": ".py",
   "mimetype": "text/x-python",
   "name": "python",
   "nbconvert_exporter": "python",
   "pygments_lexer": "ipython2",
   "version": "2.7.6"
  }
 },
 "nbformat": 4,
 "nbformat_minor": 0
}
