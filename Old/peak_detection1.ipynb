{
 "cells": [
  {
   "cell_type": "markdown",
   "source": [
    "# Summary\n",
    "Inputs: Standard activity data directory (uncleaned -> cleaned) + C algorithm output\n",
    "Outputs: Plot of raw chest data with peaks and valleys from C algorithm and PP algorithm"
   ],
   "metadata": {
    "collapsed": false
   }
  },
  {
   "cell_type": "code",
   "execution_count": 110,
   "outputs": [
    {
     "name": "stdout",
     "output_type": "stream",
     "text": [
      "The autoreload extension is already loaded. To reload it, use:\n",
      "  %reload_ext autoreload\n"
     ]
    }
   ],
   "source": [
    "# Imports\n",
    "import os\n",
    "import pandas as pd\n",
    "import numpy as np\n",
    "import plotly.io as pio\n",
    "pio.renderers.default = \"jupyterlab\"\n",
    "from plotly.subplots import make_subplots\n",
    "import plotly.graph_objects as go\n",
    "\n",
    "from interfaces.postprocessing import BR_rVE_RTformat_wrapper_peak_detection as pp_peak_detection\n",
    "import analysis.data_importing as imp  # Custom importing module\n",
    "import analysis.plotting as pl  # Custom plotting module\n",
    "import interfaces.postprocessing as pif  # post-processing interface\n",
    "import scipy.signal\n",
    "import warnings\n",
    "\n",
    "import external.custom_post.custom_post_copy as cpc\n",
    "\n",
    "warnings.simplefilter(action='ignore', category=FutureWarning)\n",
    "\n",
    "%load_ext autoreload\n",
    "%autoreload 2"
   ],
   "metadata": {
    "collapsed": false,
    "ExecuteTime": {
     "start_time": "2023-05-04T14:17:11.474681Z",
     "end_time": "2023-05-04T14:17:11.678320Z"
    }
   }
  },
  {
   "cell_type": "code",
   "execution_count": 139,
   "outputs": [
    {
     "name": "stdout",
     "output_type": "stream",
     "text": [
      "Created cleaned_data folder at data/c220e0e4-d30d-4ead-858a-1545b91bc362\\cleaned_data\n"
     ]
    }
   ],
   "source": [
    "# Data Cleaning Block\n",
    "activity_data_dir = \"data/c220e0e4-d30d-4ead-858a-1545b91bc362\"\n",
    "uncleaned_data_dir = os.path.join(activity_data_dir, \"uncleaned_data\")\n",
    "cleaned_data_dir = os.path.join(activity_data_dir, \"cleaned_data\")\n",
    "imp.clean_all_data(uncleaned_data_dir)\n",
    "clean_dfs = imp.load_cleaned_data(cleaned_data_dir)\n",
    "raw_slow_df = clean_dfs[\"raw_slow_df\"]\n",
    "pp_df = clean_dfs[\"aws_b3_df\"]"
   ],
   "metadata": {
    "collapsed": false,
    "ExecuteTime": {
     "start_time": "2023-05-04T17:49:33.445332Z",
     "end_time": "2023-05-04T17:49:51.405237Z"
    }
   }
  },
  {
   "cell_type": "code",
   "execution_count": 112,
   "outputs": [],
   "source": [
    "# Get outputs from C algorithm\n",
    "c_df = pd.read_csv(os.path.join(activity_data_dir, \"Offline_C_2023-04-25_Normal_Activity_Raw.csv\"))\n",
    "c_df = c_df.loc[:1007,:] # Brian_Chemel's offline C algorithm output contains extra appended rows\n"
   ],
   "metadata": {
    "collapsed": false,
    "ExecuteTime": {
     "start_time": "2023-05-04T14:17:15.937615Z",
     "end_time": "2023-05-04T14:17:16.066724Z"
    }
   }
  },
  {
   "cell_type": "code",
   "execution_count": 113,
   "outputs": [],
   "source": [
    "# Subtract constant delay from timesteps\n",
    "filter_length = 10\n",
    "sample_frequency = 25\n",
    "delay = filter_length / (2 * sample_frequency)\n",
    "\n",
    "# Subtract delay from C algorithm output, ensure time is not negative\n",
    "c_df[\"PeakTS\"] = (c_df[\"PeakTS\"] - delay).clip(lower = 0).round(2)\n",
    "c_df[\"ValleyTS\"] = (c_df[\"ValleyTS\"] - delay).clip(lower = 0).round(2)\n"
   ],
   "metadata": {
    "collapsed": false,
    "ExecuteTime": {
     "start_time": "2023-05-04T14:17:16.066724Z",
     "end_time": "2023-05-04T14:17:16.191733Z"
    }
   }
  },
  {
   "cell_type": "code",
   "execution_count": 113,
   "outputs": [],
   "source": [],
   "metadata": {
    "collapsed": false,
    "ExecuteTime": {
     "start_time": "2023-05-04T14:17:16.191733Z",
     "end_time": "2023-05-04T14:17:16.207360Z"
    }
   }
  },
  {
   "cell_type": "code",
   "execution_count": 142,
   "outputs": [],
   "source": [
    "# Get raw chest data\n",
    "raw_chest = pd.DataFrame(raw_slow_df[\"c\"]).set_index(raw_slow_df[\"time\"])"
   ],
   "metadata": {
    "collapsed": false,
    "ExecuteTime": {
     "start_time": "2023-05-04T17:50:44.717794Z",
     "end_time": "2023-05-04T17:50:44.831826Z"
    }
   }
  },
  {
   "cell_type": "code",
   "execution_count": 115,
   "outputs": [],
   "source": [
    "# Get value of raw chest at timestamp of c_df[\"ValleyTS\"]\n",
    "c_df[\"ValleyVal\"] = raw_chest.loc[c_df[\"ValleyTS\"]][\"c\"].values\n",
    "# Get value of raw chest at timestamp of c_df[\"PeakTS\"]\n",
    "c_df[\"PeakVal\"] = raw_chest.loc[c_df[\"PeakTS\"]][\"c\"].values"
   ],
   "metadata": {
    "collapsed": false,
    "ExecuteTime": {
     "start_time": "2023-05-04T14:17:16.332359Z",
     "end_time": "2023-05-04T14:17:16.457358Z"
    }
   }
  },
  {
   "cell_type": "code",
   "execution_count": 116,
   "outputs": [],
   "source": [
    "# For plotting purposes, create a dictionary of colors for each algorithm\n",
    "color_dict = {\n",
    "    \"raw\": \"#1f77b4\",\n",
    "    \"pp\": \"#d62728\",\n",
    "    \"c\": \"#2ca02c\",\n",
    "    \"err\": \"#ff7f0e\"\n",
    "\n",
    "}"
   ],
   "metadata": {
    "collapsed": false,
    "ExecuteTime": {
     "start_time": "2023-05-04T14:17:16.457358Z",
     "end_time": "2023-05-04T14:17:16.582350Z"
    }
   }
  },
  {
   "cell_type": "code",
   "execution_count": 143,
   "outputs": [],
   "source": [
    "# Create raw chest trace\n",
    "raw_chest_trace = go.Scatter(\n",
    "    x = raw_chest.index,\n",
    "    y = raw_chest[\"c\"],\n",
    "    mode = \"lines\",\n",
    "    name = \"Raw Chest\",\n",
    "    legendgroup= 1,\n",
    "    line = {\"color\" : color_dict[\"raw\"]}\n",
    ")"
   ],
   "metadata": {
    "collapsed": false,
    "ExecuteTime": {
     "start_time": "2023-05-04T17:50:48.790403Z",
     "end_time": "2023-05-04T17:50:48.896124Z"
    }
   }
  },
  {
   "cell_type": "code",
   "execution_count": 118,
   "outputs": [],
   "source": [
    "# Create peak traces (markers - no lines) from C algorithm\n",
    "peak_val_c_trace = go.Scatter(\n",
    "    x = c_df[\"PeakTS\"],\n",
    "    y = c_df[\"PeakVal\"],\n",
    "    mode = \"markers\",\n",
    "    marker_symbol = \"triangle-up\",\n",
    "    marker_size = 15,\n",
    "    marker_color = color_dict[\"c\"],\n",
    "    marker_line_width = 2,\n",
    "    marker_line_color = \"black\",\n",
    "    legendgroup= 1,\n",
    "    name = \"Peak Val (C)\",\n",
    "    customdata= c_df.index,\n",
    "    hovertemplate = \"Peak Val (C): %{y} <br> Peak Time: %{x} <br> Index: %{customdata}\"\n",
    ")\n",
    "# add the index of the peak to hover info\n",
    "\n",
    "# fig2 = go.Figure()\n",
    "# fig2.add_trace(raw_chest_trace)\n",
    "# fig2.add_trace(peak_val_c_trace)\n",
    "# fig2.show(renderer = \"browser\")"
   ],
   "metadata": {
    "collapsed": false,
    "ExecuteTime": {
     "start_time": "2023-05-04T14:17:16.711043Z",
     "end_time": "2023-05-04T14:17:16.820459Z"
    }
   }
  },
  {
   "cell_type": "code",
   "execution_count": 119,
   "outputs": [],
   "source": [
    "# Create valley traces (markers - no lines) from C algorithm\n",
    "valley_val_c_trace = go.Scatter(\n",
    "    x = c_df[\"ValleyTS\"],\n",
    "    y = c_df[\"ValleyVal\"],\n",
    "    mode = \"markers\",\n",
    "    marker_symbol = \"triangle-down\",\n",
    "    marker_size = 15,\n",
    "    marker_color = color_dict[\"c\"],\n",
    "    marker_line_width = 2,\n",
    "    marker_line_color = \"black\",\n",
    "    legendgroup= 1,\n",
    "    name = \"Valley Val (C)\",\n",
    "    customdata= c_df.index,\n",
    "    hovertemplate = \"Valley Val (C): %{y} <br> Valley Time: %{x} <br> Index: %{customdata}\"\n",
    ")\n"
   ],
   "metadata": {
    "collapsed": false,
    "ExecuteTime": {
     "start_time": "2023-05-04T14:17:16.820459Z",
     "end_time": "2023-05-04T14:17:16.946546Z"
    }
   }
  },
  {
   "cell_type": "code",
   "execution_count": 140,
   "outputs": [],
   "source": [
    "## Run post processing peak detection algorithm on raw chest data\n",
    "pp_pd_df = pp_peak_detection(uncleaned_data_dir) # pp_peak_detection is a wrapper function that calls actual functions within pp algorithm"
   ],
   "metadata": {
    "collapsed": false,
    "ExecuteTime": {
     "start_time": "2023-05-04T17:50:27.310780Z",
     "end_time": "2023-05-04T17:50:33.130815Z"
    }
   }
  },
  {
   "cell_type": "code",
   "execution_count": 144,
   "outputs": [],
   "source": [
    "# Get peak and valley values from raw\n",
    "pp_pd_df[\"PeakVal\"] = raw_chest.loc[pp_pd_df[\"PeakTS\"]][\"c\"].values\n",
    "pp_pd_df[\"ValleyVal\"] = raw_chest.loc[pp_pd_df[\"ValleyTS\"]][\"c\"].values"
   ],
   "metadata": {
    "collapsed": false,
    "ExecuteTime": {
     "start_time": "2023-05-04T17:50:52.455715Z",
     "end_time": "2023-05-04T17:50:52.577663Z"
    }
   }
  },
  {
   "cell_type": "code",
   "execution_count": 145,
   "outputs": [],
   "source": [
    "# Create peak traces (markers - no lines) from PP algorithm\n",
    "peak_val_pp_trace = go.Scatter(\n",
    "    x = pp_pd_df[\"PeakTS\"],\n",
    "    y = pp_pd_df[\"PeakVal\"],\n",
    "    mode = \"markers\",\n",
    "    marker_symbol = \"triangle-up\",\n",
    "    marker_size = 15,\n",
    "    marker_color = color_dict[\"pp\"],\n",
    "    marker_line_width = 2,\n",
    "    marker_line_color = \"black\",\n",
    "    name = \"Peak Val (PP)\",\n",
    "    legendgroup= 1,\n",
    "    customdata= pp_pd_df.index,\n",
    "    hovertemplate = \"Peak Val (PP): %{y} <br> Peak Time: %{x} <br> Index: %{customdata}\"\n",
    ")"
   ],
   "metadata": {
    "collapsed": false,
    "ExecuteTime": {
     "start_time": "2023-05-04T17:51:02.717750Z",
     "end_time": "2023-05-04T17:51:02.841354Z"
    }
   }
  },
  {
   "cell_type": "code",
   "execution_count": 146,
   "outputs": [],
   "source": [
    "# Create valley traces (markers - no lines) from PP algorithm\n",
    "valley_val_pp_trace = go.Scatter(\n",
    "    x = pp_pd_df[\"ValleyTS\"],\n",
    "    y = pp_pd_df[\"ValleyVal\"],\n",
    "    mode = \"markers\",\n",
    "    marker_symbol = \"triangle-down\",\n",
    "    marker_size = 15,\n",
    "    marker_color = color_dict[\"pp\"],\n",
    "    marker_line_width = 2,\n",
    "    marker_line_color = \"black\",\n",
    "    legendgroup= 1,\n",
    "    name = \"Valley Val (PP)\",\n",
    "    customdata= pp_pd_df.index,\n",
    "    hovertemplate = \"Valley Val (PP): %{y} <br> Valley Time: %{x} <br> Index: %{customdata}\"\n",
    ")\n"
   ],
   "metadata": {
    "collapsed": false,
    "ExecuteTime": {
     "start_time": "2023-05-04T17:51:05.751284Z",
     "end_time": "2023-05-04T17:51:05.857410Z"
    }
   }
  },
  {
   "cell_type": "code",
   "execution_count": 147,
   "outputs": [],
   "source": [
    "# Create the post-processing VT trace\n",
    "VT_pp_trace = go.Scatter(\n",
    "    x = pp_df[\"breathTime\"],\n",
    "    y = pp_df[\"VT\"],\n",
    "    mode = \"lines\",\n",
    "    name = \"VT (PP)\",\n",
    "    line = {\"color\" : color_dict[\"pp\"]},\n",
    "    legendgroup = 2\n",
    ")\n",
    "# Create the C VT trace\n",
    "VT_c_trace = go.Scatter(\n",
    "    x = c_df[\"PeakTS\"],\n",
    "    y = c_df[\"VT\"],\n",
    "    mode = \"lines\",\n",
    "    name = \"VT (C)\",\n",
    "    line = {\"color\" : color_dict[\"c\"]},\n",
    "    legendgroup = 2\n",
    ")\n",
    "# Plot VT traces\n",
    "# fig2 = go.Figure()\n",
    "# fig2.add_trace(VT_pp_trace)\n",
    "# fig2.add_trace(VT_c_trace)\n",
    "# fig2.show(renderer = \"browser\")"
   ],
   "metadata": {
    "collapsed": false,
    "ExecuteTime": {
     "start_time": "2023-05-04T17:51:10.965804Z",
     "end_time": "2023-05-04T17:51:11.075823Z"
    }
   }
  },
  {
   "cell_type": "code",
   "execution_count": 149,
   "outputs": [],
   "source": [
    "# Make the Peak detection plot collection\n",
    "# make subplots\n",
    "fig3 = make_subplots(rows=3, cols=1, shared_xaxes=True, vertical_spacing=0.02)\n",
    "# Add title\n",
    "fig3.update_layout(title_text=\"Peak Detection (Top) and VT (Bottom)\")\n",
    "fig3.add_trace(raw_chest_trace, row=1, col=1, )\n",
    "fig3.add_trace(raw_chest_trace, row=2, col=1, )\n",
    "fig3.add_trace(peak_val_c_trace, row=2, col=1)\n",
    "fig3.add_trace(valley_val_c_trace, row=2, col=1)\n",
    "fig3.add_trace(peak_val_pp_trace, row=2, col=1)\n",
    "fig3.add_trace(valley_val_pp_trace, row=2, col=1)\n",
    "# add subplot title\n",
    "fig3.update_yaxes(title_text=\"Raw Chest Magnitude\", row=1, col=1)\n",
    "\n",
    "fig3.add_trace(VT_c_trace, row=3, col=1)\n",
    "fig3.add_trace(VT_pp_trace, row=3, col=1)\n",
    "fig3.update_yaxes(title_text=\"VT\", row=3, col=1)\n",
    "fig3.update_xaxes(title_text=\"Time[s]\", row=3, col=1)\n",
    "\n",
    "fig3.update_layout(height=500*2,\n",
    "                    legend_tracegroupgap=450,\n",
    "                    )\n",
    "\n",
    "\n",
    "fig3.show(renderer = \"browser\")\n",
    "pl.figures_to_html([fig3], \"PeakDetection_VT.html\", show = False)"
   ],
   "metadata": {
    "collapsed": false,
    "ExecuteTime": {
     "start_time": "2023-05-04T17:52:38.538969Z",
     "end_time": "2023-05-04T17:52:42.106847Z"
    }
   }
  },
  {
   "cell_type": "markdown",
   "source": [
    "## Identifying Error Regions\n",
    "There are differences in the detected peaks between the two algorithms, but what is the impact on the Minute Volume calculuation\n"
   ],
   "metadata": {
    "collapsed": false
   }
  },
  {
   "cell_type": "code",
   "execution_count": 126,
   "outputs": [],
   "source": [
    "# Plot VE from both algorithms\n",
    "\n",
    "## C VE\n",
    "VE_c_trace = go.Scatter(\n",
    "    x = c_df[\"PeakTS\"],\n",
    "    y = c_df[\"VE\"],\n",
    "    mode = \"lines\",\n",
    "    name = \"VE (C)\",\n",
    "    line = {\"color\" : color_dict[\"c\"]},\n",
    ")\n",
    "## PP VE\n",
    "VE_pp_trace = go.Scatter(\n",
    "    x = pp_df[\"breathTime\"],\n",
    "    y = pp_df[\"VE\"],\n",
    "    mode = \"lines\",\n",
    "    name = \"VE (PP)\",\n",
    "    line = {\"color\" : color_dict[\"pp\"]},\n",
    ")\n",
    "# Plot VE traces\n",
    "# fig4 = go.Figure()\n",
    "# fig4.add_trace(VE_c_trace)\n",
    "# fig4.add_trace(VE_pp_trace)\n",
    "# fig4.show(renderer = \"browser\")\n"
   ],
   "metadata": {
    "collapsed": false,
    "ExecuteTime": {
     "start_time": "2023-05-04T14:17:20.079933Z",
     "end_time": "2023-05-04T14:17:20.232933Z"
    }
   }
  },
  {
   "cell_type": "markdown",
   "source": [
    "## Get error signal between VE's"
   ],
   "metadata": {
    "collapsed": false
   }
  },
  {
   "cell_type": "code",
   "execution_count": 127,
   "outputs": [],
   "source": [
    "## First interpolate each time-series to the same time base\n",
    "VE_pp = pd.DataFrame(pp_df[\"VE\"]).set_axis(pp_df[\"breathTime\"])\n",
    "VE_c = pd.DataFrame(c_df[\"VE\"]).set_axis(c_df[\"PeakTS\"])\n",
    "VE = VE_pp.join(VE_c, how=\"outer\", rsuffix=\"_c\", lsuffix=\"_pp\")\n",
    "VE_interp = VE.interpolate(method=\"index\")\n",
    "d = pd.DataFrame(np.arange(max(VE_interp.index)), index=np.arange(max(VE_interp.index)))\n",
    "VE_sec = VE_interp.join(d, how=\"outer\")\n",
    "# VT_j_int_sec # Uncomment to view\n",
    "VE_sec_int = VE_sec.interpolate(method=\"index\").fillna(value=0).drop(columns=[0])\n",
    "\n",
    "VE_c_sec_trace = go.Scatter(\n",
    "    x = VE_sec_int.index,\n",
    "    y = VE_sec_int[\"VE_c\"],\n",
    "    mode = \"lines\",\n",
    "    name = \"VE (C)\",\n",
    "    line = {\"color\" : color_dict[\"c\"]},\n",
    ")\n",
    "\n",
    "VE_pp_sec_trace = go.Scatter(\n",
    "    x = VE_sec_int.index,\n",
    "    y = VE_sec_int[\"VE_pp\"],\n",
    "    mode = \"lines\",\n",
    "    name = \"VE (PP)\",\n",
    "    line = {\"color\" : color_dict[\"pp\"]},\n",
    ")\n",
    "\n",
    "# Plot VE and VE_sec traces\n",
    "# fig5 = go.Figure()\n",
    "# fig5.add_trace(VE_c_trace)\n",
    "# fig5.add_trace(VE_pp_trace)\n",
    "# fig5.add_trace(VE_c_sec_trace)\n",
    "# fig5.add_trace(VE_pp_sec_trace)\n",
    "# fig5.show(renderer = \"browser\")"
   ],
   "metadata": {
    "collapsed": false,
    "ExecuteTime": {
     "start_time": "2023-05-04T14:17:20.216929Z",
     "end_time": "2023-05-04T14:17:20.449930Z"
    }
   }
  },
  {
   "cell_type": "code",
   "execution_count": 128,
   "outputs": [],
   "source": [
    "## Compute error in the VE Sec signals\n",
    "VE_sec_int[\"VE_err\"] = (VE_sec_int[\"VE_c\"] - VE_sec_int[\"VE_pp\"])/VE_sec_int[\"VE_pp\"]\n",
    "VE_err_trace = go.Scatter(\n",
    "    x = VE_sec_int.index,\n",
    "    y = VE_sec_int[\"VE_err\"],\n",
    "    mode = \"lines\",\n",
    "    name = \"VE Error\",\n",
    "    line = {\"color\" : color_dict[\"err\"]},\n",
    ")\n"
   ],
   "metadata": {
    "collapsed": false,
    "ExecuteTime": {
     "start_time": "2023-05-04T14:17:20.437930Z",
     "end_time": "2023-05-04T14:17:20.571929Z"
    }
   }
  },
  {
   "cell_type": "code",
   "execution_count": 129,
   "outputs": [],
   "source": [
    "# Create plot collection of VE and Errors\n",
    "fig6 = make_subplots(rows=2, cols=1, shared_xaxes=True, vertical_spacing=0.02,\n",
    "                     subplot_titles=(\"VE (Top) and VE Error (Bottom)\"))\n",
    "# Add title\n",
    "fig6.update_layout(title_text=\"VE (Top) and VE Error (Bottom)\")\n",
    "fig6.add_trace(VE_c_sec_trace, row=1, col=1, )\n",
    "fig6.add_trace(VE_pp_sec_trace, row=1, col=1)\n",
    "fig6.add_trace(VE_err_trace, row=2, col=1)\n",
    "# add subplot title\n",
    "fig6.update_yaxes(title_text=\"VE\", row=1, col=1)\n",
    "fig6.update_yaxes(title_text=\"VE Error\", row=2, col=1)\n",
    "fig6.update_xaxes(title_text=\"Time[s]\", row=2, col=1)\n",
    "# space the legends\n",
    "fig6.update_layout(height=500*2,\n",
    "                    legend_tracegroupgap=450,\n",
    "                    )\n",
    "\n",
    "# show fig6\n",
    "fig6.show(renderer = \"browser\")"
   ],
   "metadata": {
    "collapsed": false,
    "ExecuteTime": {
     "start_time": "2023-05-04T14:17:20.575930Z",
     "end_time": "2023-05-04T14:17:21.299936Z"
    }
   }
  },
  {
   "cell_type": "code",
   "execution_count": 130,
   "outputs": [],
   "source": [
    "## Shade the back of the VE plot according to the error\n",
    "# Create a new trace for the error region\n",
    "VE_err_region_trace = go.Scatter(\n",
    "    x = VE_sec_int.index,\n",
    "    y = VE_sec_int[\"VE_c\"],\n",
    "    mode = \"lines\",\n",
    "    name = \"VE (C)\",\n",
    "    line = {\"color\" : color_dict[\"c\"]},\n",
    "    fill = \"tonexty\",\n",
    "    fillcolor = color_dict[\"err\"],\n",
    ")\n",
    "# Create a new trace for the error region\n",
    "VE_err_region_trace2 = go.Scatter(\n",
    "    x = VE_sec_int.index,\n",
    "    y = VE_sec_int[\"VE_pp\"],\n",
    "    mode = \"lines\",\n",
    "    name = \"VE (PP)\",\n",
    "    line = {\"color\" : color_dict[\"pp\"]},\n",
    "    fill = \"tonexty\",\n",
    "    fillcolor = color_dict[\"err\"],\n",
    ")"
   ],
   "metadata": {
    "collapsed": false,
    "ExecuteTime": {
     "start_time": "2023-05-04T14:17:21.302931Z",
     "end_time": "2023-05-04T14:17:21.447936Z"
    }
   }
  },
  {
   "cell_type": "code",
   "execution_count": 131,
   "outputs": [],
   "source": [
    "if False:\n",
    "    # Create plot collection of VE andErrors\n",
    "    fig7 = make_subplots(rows=2, cols=1, shared_xaxes=True, vertical_spacing=0.02)\n",
    "    # Add title\n",
    "    fig7.update_layout(title_text=\"VE (Top) and VE Error (Bottom)\")\n",
    "    fig7.add_trace(VE_c_sec_trace, row=1, col=1, )\n",
    "    fig7.add_trace(VE_pp_sec_trace, row=1, col=1)\n",
    "    fig7.add_trace(VE_err_trace, row=2, col=1)\n",
    "    fig7.add_trace(VE_err_region_trace, row=1, col=1)\n",
    "    fig7.add_trace(VE_err_region_trace2, row=1, col=1)\n",
    "    # add subplot title\n",
    "    fig7.update_yaxes(title_text=\"VE\", row=1, col=1)\n",
    "    fig7.update_yaxes(title_text=\"VE Error\", row=2, col=1)\n",
    "    fig7.update_xaxes(title_text=\"Time[s]\", row=2, col=1)\n",
    "    # space the legends\n",
    "    fig7.update_layout(height=500*2,\n",
    "                        legend_tracegroupgap=450,\n",
    "                        )\n",
    "\n",
    "    # show fig7\n",
    "    fig7.show(renderer = \"browser\")\n"
   ],
   "metadata": {
    "collapsed": false,
    "ExecuteTime": {
     "start_time": "2023-05-04T14:17:21.452935Z",
     "end_time": "2023-05-04T14:17:21.584930Z"
    }
   }
  },
  {
   "cell_type": "markdown",
   "source": [
    "# Peak Detection and VE Error"
   ],
   "metadata": {
    "collapsed": false
   }
  },
  {
   "cell_type": "code",
   "execution_count": 132,
   "outputs": [],
   "source": [
    "# Make the Peak detection plot collection\n",
    "# make subplots\n",
    "fig8 = make_subplots(rows=2, cols=1, shared_xaxes=True, vertical_spacing=0.02,\n",
    "                     subplot_titles=[\"Raw chest with peak detection\", \"VE Error\"])\n",
    "# Add title\n",
    "fig8.update_layout(title_text=\"Peak Detection vs VE Error\")\n",
    "fig8.add_trace(raw_chest_trace, row=1, col=1, )\n",
    "fig8.add_trace(peak_val_c_trace, row=1, col=1)\n",
    "fig8.add_trace(valley_val_c_trace, row=1, col=1)\n",
    "fig8.add_trace(peak_val_pp_trace, row=1, col=1)\n",
    "fig8.add_trace(valley_val_pp_trace, row=1, col=1)\n",
    "# add subplot title\n",
    "fig8.update_yaxes(title_text=\"Raw Chest Magnitude\", row=1, col=1)\n",
    "\n",
    "fig8.add_trace(VE_err_trace, row=2, col=1)\n",
    "fig8.update_yaxes(title_text=\"VE Error\", row=2, col=1)\n",
    "fig8.update_xaxes(title_text=\"Time[s]\", row=2, col=1)\n",
    "\n",
    "fig8.update_layout(height=500*2,\n",
    "                    legend_tracegroupgap=450,\n",
    "                    )\n",
    "\n",
    "\n",
    "fig8.show(renderer = \"browser\")\n"
   ],
   "metadata": {
    "collapsed": false,
    "ExecuteTime": {
     "start_time": "2023-05-04T14:17:21.586931Z",
     "end_time": "2023-05-04T14:17:22.408128Z"
    }
   }
  },
  {
   "cell_type": "markdown",
   "source": [
    "# Breathing Rate Comparison"
   ],
   "metadata": {
    "collapsed": false
   }
  },
  {
   "cell_type": "code",
   "execution_count": 133,
   "outputs": [],
   "source": [
    "# Plot instant breathing rate and average breathing rate\n",
    "\n",
    "instBR_c_trace = go.Scatter(\n",
    "    x = c_df[\"PeakTS\"],\n",
    "    y = c_df[\"InstBR\"],\n",
    "    mode = \"lines\",\n",
    "    name = \"Instant BR (C)\",\n",
    "    line = {\"color\" : color_dict[\"c\"]},\n",
    ")\n",
    "AvgBr_c_trace = go.Scatter(\n",
    "    x = c_df[\"PeakTS\"],\n",
    "    y = c_df[\"AvgBR\"],\n",
    "    mode = \"lines\",\n",
    "    name = \"Avg BR (C)\",\n",
    "    line = {\"color\" : color_dict[\"c\"]},\n",
    ")\n",
    "\n",
    "instBR_pp_trace = go.Scatter(\n",
    "    x = pp_df[\"breathTime\"],\n",
    "    y = pp_df[\"instBR\"],\n",
    "    mode = \"lines\",\n",
    "    name = \"Instant BR (PP)\",\n",
    "    line = {\"color\" : color_dict[\"pp\"]},\n",
    ")\n",
    "\n",
    "RRAvg_pp_trace = go.Scatter(\n",
    "    x = pp_df[\"breathTime\"],\n",
    "    y = pp_df[\"RRAvg\"],\n",
    "    mode = \"lines\",\n",
    "    name = \"RR Avg (PP)\",\n",
    "    line = {\"color\" : color_dict[\"pp\"]},\n",
    ")\n",
    "\n",
    "# plot traces\n",
    "fig9 = make_subplots(rows=2, cols=1, shared_xaxes=True, vertical_spacing=0.02, subplot_titles=(\"Instant BR\", \"Avg BR\"))\n",
    "# Add title\n",
    "fig9.update_layout(title_text=\"Breathing Rate Comparison\")\n",
    "fig9.add_trace(instBR_c_trace, row=1, col=1, )\n",
    "fig9.add_trace(instBR_pp_trace, row=1, col=1)\n",
    "fig9.add_trace(AvgBr_c_trace, row=2, col=1)\n",
    "fig9.add_trace(RRAvg_pp_trace, row=2, col=1)\n",
    "\n",
    "# add subplot title\n",
    "fig9.update_yaxes(title_text=\"Instant BR\", row=1, col=1)\n",
    "fig9.update_yaxes(title_text=\"Avg BR\", row=2, col=1)\n",
    "\n",
    "fig9.update_xaxes(title_text=\"Time[s]\", row=2, col=1)\n",
    "\n",
    "fig9.update_layout(height=500*2,\n",
    "                    legend_tracegroupgap=450,\n",
    "                    )\n",
    "\n",
    "fig9.show(renderer = \"browser\")\n"
   ],
   "metadata": {
    "collapsed": false,
    "ExecuteTime": {
     "start_time": "2023-05-04T14:17:22.408128Z",
     "end_time": "2023-05-04T14:17:22.859132Z"
    }
   }
  },
  {
   "cell_type": "code",
   "execution_count": 134,
   "outputs": [],
   "source": [
    "# Plot the intant and average breathing rate together\n",
    "fig10 = make_subplots(rows = 2, cols=1, shared_xaxes=True, vertical_spacing=0.02,\n",
    "                      subplot_titles=(\"C Algorithm\", \"PP Algorithm\"))\n",
    "fig10.update_layout(title_text=\"Instant vs Average Breathing Rate\")\n",
    "\n",
    "AvgBr_c_trace_dash = go.Scatter(\n",
    "    x = c_df[\"PeakTS\"],\n",
    "    y = c_df[\"AvgBR\"],\n",
    "    mode = \"lines\",\n",
    "    name = \"Avg BR (C)\",\n",
    "    line = {\"color\" : color_dict[\"c\"], \"dash\" : \"dash\"},\n",
    ")\n",
    "RRAvg_pp_trace_dash = go.Scatter(\n",
    "    x = pp_df[\"breathTime\"],\n",
    "    y = pp_df[\"RRAvg\"],\n",
    "    mode = \"lines\",\n",
    "    name = \"RR Avg (PP)\",\n",
    "    line = {\"color\" : color_dict[\"pp\"], \"dash\" : \"dash\"},\n",
    ")\n",
    "fig10.add_trace(instBR_c_trace, row=1, col=1)\n",
    "fig10.add_trace(AvgBr_c_trace_dash, row=1, col=1)\n",
    "fig10.add_trace(instBR_pp_trace, row=2, col=1)\n",
    "fig10.add_trace(RRAvg_pp_trace_dash, row=2, col=1)\n",
    "\n",
    "fig10.update_yaxes(title_text=\"C BR\", row=1, col=1)\n",
    "fig10.update_yaxes(title_text=\"PP BR\", row=2, col=1)\n",
    "\n",
    "fig10.update_xaxes(title_text=\"Time[s]\", row=2, col=1)\n",
    "\n",
    "fig10.show(renderer = \"browser\")\n"
   ],
   "metadata": {
    "collapsed": false,
    "ExecuteTime": {
     "start_time": "2023-05-04T14:17:22.868127Z",
     "end_time": "2023-05-04T14:17:23.626133Z"
    }
   }
  },
  {
   "cell_type": "code",
   "execution_count": 135,
   "outputs": [],
   "source": [
    "# Alignment of metrics based on cross-correlation\n",
    "def cross_correlate(series1, series2):\n",
    "    sig1 = series1.dropna()\n",
    "    sig2 = series2.dropna()\n",
    "    corr = scipy.signal.correlate(sig1, sig2)\n",
    "    lags = scipy.signal.correlation_lags(len(sig1), len(sig2))\n",
    "\n",
    "    return corr / corr.max(), lags\n",
    "\n",
    "\n",
    "def cross_corr_align(df1, df2, ycol1, ycol2, xcol1, xcol2):\n",
    "    \"\"\"\n",
    "    This function takes in two dataframes and aligns them based on the cross-correlation\n",
    "    between two columns. The function returns the lag value and the aligned dataframe.\n",
    "    \"\"\"\n",
    "    from copy import deepcopy\n",
    "    # First we need to join and interpolate the two series\n",
    "    df1 = pd.DataFrame(df1[ycol1].set_axis(df1[xcol1]))\n",
    "    df2 = pd.DataFrame(df2[ycol2].set_axis(df2[xcol2]))\n",
    "    df = df1.join(df2, how=\"outer\", rsuffix=\"_1\", lsuffix=\"_2\")\n",
    "    df_interp = df.interpolate(method=\"index\")\n",
    "    sec_df = pd.DataFrame(np.arange(max(df_interp.index)), index=np.arange(max(df_interp.index)))\n",
    "    df_sec = df_interp.join(sec_df, how=\"outer\")\n",
    "    df_sec = df_sec.interpolate(method=\"index\").fillna(value =0).drop(columns=[0])\n",
    "\n",
    "    # Now we can compute the cross correlation\n",
    "    ycol_1 = ycol1 + \"_1\"\n",
    "    ycol_2 = ycol2 + \"_2\"\n",
    "    corr, lags = cross_correlate(df_sec[ycol_1], df_sec[ycol_2])\n",
    "    opt_lag = lags[np.argmax(corr)]\n",
    "\n",
    "    # Copy df sec\n",
    "    df_sec_shift = deepcopy(df_sec)\n",
    "    # Shift the second column by the optimal lag\n",
    "    df_sec_shift[df_sec.columns[0]] = df_sec_shift[df_sec.columns[0]].shift(opt_lag)\n",
    "\n",
    "    return df_sec_shift, opt_lag, df_sec\n"
   ],
   "metadata": {
    "collapsed": false,
    "ExecuteTime": {
     "start_time": "2023-05-04T14:17:23.646129Z",
     "end_time": "2023-05-04T14:17:23.839131Z"
    }
   }
  },
  {
   "cell_type": "code",
   "execution_count": 136,
   "outputs": [],
   "source": [
    "if False:\n",
    "    # Test cross_corr_align function\n",
    "    df_sec_shift, opt_lag, df_sec = cross_corr_align(c_df, pp_df, \"VT\", \"VT\", \"PeakTS\", \"breathTime\")\n",
    "\n",
    "    color_map = {df_sec.columns[0]: \"lightseagreen\", df_sec.columns[1]: \"darkorange\"}\n",
    "\n",
    "    # plot df_sec_shift and df_sec\n",
    "    fig11 = make_subplots(rows=2, cols=1, shared_xaxes=True, vertical_spacing=0.02)\n",
    "    # Add title\n",
    "    fig11.update_layout(title_text=f\"Shifted - {opt_lag}  (Top), Unshifted (Bottom)\")\n",
    "    fig11.add_trace(go.Scatter(\n",
    "        x = df_sec_shift.index,\n",
    "        y = df_sec_shift[df_sec_shift.columns[0]],\n",
    "        mode = \"lines\",\n",
    "        name = df_sec_shift.columns[0],\n",
    "        line={\"color\": color_map[df_sec_shift.columns[0]]},\n",
    "    ), row=1, col=1)\n",
    "\n",
    "    fig11.add_trace(go.Scatter(\n",
    "        x = df_sec_shift.index,\n",
    "        y = df_sec_shift[df_sec_shift.columns[1]],\n",
    "        mode = \"lines\",\n",
    "        name = df_sec_shift.columns[1],\n",
    "        line={\"color\": color_map[df_sec_shift.columns[1]]},\n",
    "    ), row=1, col=1)\n",
    "\n",
    "    fig11.add_trace(go.Scatter(\n",
    "        x = df_sec.index,\n",
    "        y = df_sec[df_sec.columns[0]],\n",
    "        mode = \"lines\",\n",
    "        name = df_sec.columns[0],\n",
    "        line={\"color\": color_map[df_sec.columns[0]]},\n",
    "    ), row=2, col=1)\n",
    "\n",
    "    fig11.add_trace(go.Scatter(\n",
    "        x = df_sec.index,\n",
    "        y = df_sec[df_sec.columns[1]],\n",
    "        mode = \"lines\",\n",
    "        name = df_sec.columns[1],\n",
    "        line={\"color\": color_map[df_sec.columns[1]]},\n",
    "    ), row=2, col=1)\n",
    "\n",
    "    fig11.show(renderer = \"browser\")\n"
   ],
   "metadata": {
    "collapsed": false,
    "ExecuteTime": {
     "start_time": "2023-05-04T14:17:23.859131Z",
     "end_time": "2023-05-04T14:17:24.029135Z"
    }
   }
  },
  {
   "cell_type": "code",
   "execution_count": 136,
   "outputs": [],
   "source": [],
   "metadata": {
    "collapsed": false,
    "ExecuteTime": {
     "start_time": "2023-05-04T14:17:24.036133Z",
     "end_time": "2023-05-04T14:17:24.042131Z"
    }
   }
  }
 ],
 "metadata": {
  "kernelspec": {
   "display_name": "Python 3",
   "language": "python",
   "name": "python3"
  },
  "language_info": {
   "codemirror_mode": {
    "name": "ipython",
    "version": 2
   },
   "file_extension": ".py",
   "mimetype": "text/x-python",
   "name": "python",
   "nbconvert_exporter": "python",
   "pygments_lexer": "ipython2",
   "version": "2.7.6"
  }
 },
 "nbformat": 4,
 "nbformat_minor": 0
}
