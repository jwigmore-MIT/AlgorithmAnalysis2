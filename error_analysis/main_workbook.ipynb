{
 "cells": [
  {
   "cell_type": "code",
   "execution_count": 15,
   "metadata": {
    "collapsed": true,
    "ExecuteTime": {
     "start_time": "2023-06-08T10:14:52.125356Z",
     "end_time": "2023-06-08T10:14:52.221511Z"
    }
   },
   "outputs": [
    {
     "name": "stdout",
     "output_type": "stream",
     "text": [
      "The autoreload extension is already loaded. To reload it, use:\n",
      "  %reload_ext autoreload\n"
     ]
    }
   ],
   "source": [
    "from main_functions import method1_error_analysis, plot_all_signals\n",
    "from data_retrieval import load_data2\n",
    "import os\n",
    "import numpy as np\n",
    "%load_ext autoreload\n",
    "%autoreload 2"
   ]
  },
  {
   "cell_type": "markdown",
   "source": [],
   "metadata": {
    "collapsed": false
   }
  },
  {
   "cell_type": "code",
   "execution_count": 16,
   "outputs": [],
   "source": [
    "# Data directory specification and selection\n",
    "dataset_dir = \"dataset/\"\n",
    "datasets = {\n",
    "            \"c220e0e4-d30d-4ead-858a-1545b91bc362\": \"\",\n",
    "            \"2b8f256d-7063-410c-b66d-3bdfb7d140c5\": \"\",\n",
    "            \"fa99ac972245361cf4256225cae4a2c0b80ff333\": \"\",\n",
    "            \"0fc29afc-f68e-46dc-9959-45605fdd81b6\": \"running, low error\",\n",
    "            \"c69c123e-69f8-4d5e-ada5-50464b966c68\": \"[FLAG] biking, has large live to pp PosRel Error (VT)\",\n",
    "            \"89bfdf55-afc1-401d-9053-5b6dfcd6f659\": \"[FLAG] biking, pp has a long period (900-1200s) where it does not detect any breaths but live does\",\n",
    "            \"22ba1d89-7cd4-44d6-8469-f3458e687f57\": \"[FLAG] standup-paddleboard , some long periods where chest sensor is very poor \",\n",
    "            \"8e14ba67-921c-4d47-803c-03b571d03c51\": \"running, no flag\",\n",
    "            #\"9d335bfc-791b-49b5-8b4b-d85eb40a10ba\": \"bike (threshold test)\", # TODO: This and next fail to load live because they are missing live metric data\n",
    "            #\"47c6d323-3d5e-4a35-89f6-e6b828549c85\": \"biking\",\n",
    "            \"ae1e9af2-6e79-422f-b068-822aa696a7b9\": \"biking\",\n",
    "            \"17ca40a1-d862-46ff-9fea-591c88b61c7a\": \"running\",\n",
    "            }\n",
    "# Get last element of the key as the dataset name\n",
    "dataset = list(datasets.keys())[1]"
   ],
   "metadata": {
    "collapsed": false,
    "ExecuteTime": {
     "start_time": "2023-06-08T10:14:52.221511Z",
     "end_time": "2023-06-08T10:14:52.332734Z"
    }
   }
  },
  {
   "cell_type": "code",
   "execution_count": 17,
   "outputs": [],
   "source": [
    "\n",
    "\n",
    "activity_dir = dataset_dir + dataset\n",
    "key_metrics = [\"breathTime\", \"VT\", \"instBR\", \"VE\"]\n",
    "\n",
    "# Settings for whether to use the json or csv for the live\n",
    "live_csv = False\n",
    "live_json = not live_csv\n",
    "pp_csv = True\n",
    "live_df_name = \"live_b3_df\" if live_json else \"c_df\"\n",
    "\n",
    "min_time = 120 # the minimum time (s) to\n",
    "max_time = np.infty # if negative (-t), will set max_time = max_index - t\n",
    "live_shift = -6\n",
    "\n",
    "error_window = 3 # lower bound error window\n",
    "error_threshold = 0.5\n",
    "RAT_error_window = 20\n",
    "RAT_error_threshold = 0.25"
   ],
   "metadata": {
    "collapsed": false,
    "ExecuteTime": {
     "start_time": "2023-06-08T10:14:52.332734Z",
     "end_time": "2023-06-08T10:14:52.442144Z"
    }
   }
  },
  {
   "cell_type": "code",
   "execution_count": 17,
   "outputs": [],
   "source": [],
   "metadata": {
    "collapsed": false,
    "ExecuteTime": {
     "start_time": "2023-06-08T10:14:52.442144Z",
     "end_time": "2023-06-08T10:14:52.457764Z"
    }
   }
  },
  {
   "cell_type": "code",
   "execution_count": 18,
   "outputs": [
    {
     "name": "stdout",
     "output_type": "stream",
     "text": [
      "cleaned_data folder already exists at dataset\\cleaned_data\n"
     ]
    }
   ],
   "source": [
    "# Data loading\n",
    "activity = os.path.split(activity_dir)[-1]\n",
    "clean_dfs = load_data2(activity_dir, live_json, live_csv, pp_csv)\n",
    "raw_chest = clean_dfs[\"raw_slow_df\"][[\"time\",\"c\",]]\n",
    "if max_time < 0:\n",
    "    max_time = raw_chest[\"time\"].max() + max_time\n",
    "\n",
    "raw_chest = raw_chest[(raw_chest[\"time\"] > min_time) & (raw_chest[\"time\"] < max_time)]\n",
    "live_b3_df = clean_dfs[live_df_name][key_metrics]\n",
    "pp_b3_df = clean_dfs[\"aws_b3_df\"][key_metrics]\n",
    "# Select subset of data based on min_time and max_time\n"
   ],
   "metadata": {
    "collapsed": false,
    "ExecuteTime": {
     "start_time": "2023-06-08T10:14:52.473362Z",
     "end_time": "2023-06-08T10:14:55.297221Z"
    }
   }
  },
  {
   "cell_type": "code",
   "execution_count": 19,
   "outputs": [],
   "source": [
    "# VT Method 1 Error analysis\n",
    "VT_results = method1_error_analysis(live_b3_df, pp_b3_df, \"VT\",\n",
    "                                    return_all = True,\n",
    "                                    live_shift=live_shift,\n",
    "                                    min_time = min_time,\n",
    "                                    max_time = max_time,\n",
    "                                    error_window = error_window,\n",
    "                                    error_threshold = error_threshold,\n",
    "                                    RAT_error_window = RAT_error_window,\n",
    "                                    RAT_error_threshold = RAT_error_threshold)"
   ],
   "metadata": {
    "collapsed": false,
    "ExecuteTime": {
     "start_time": "2023-06-08T10:14:55.297221Z",
     "end_time": "2023-06-08T10:14:55.531597Z"
    }
   }
  },
  {
   "cell_type": "code",
   "execution_count": 20,
   "outputs": [],
   "source": [
    "plot_all_signals(raw_chest, VT_results, \"VT\", dataset)"
   ],
   "metadata": {
    "collapsed": false,
    "ExecuteTime": {
     "start_time": "2023-06-08T10:14:55.515992Z",
     "end_time": "2023-06-08T10:14:56.082807Z"
    }
   }
  },
  {
   "cell_type": "code",
   "execution_count": 21,
   "outputs": [],
   "source": [
    "# VT Method 1 Error analysis\n",
    "instBR_results = method1_error_analysis(live_b3_df, pp_b3_df, \"instBR\",\n",
    "                                    return_all = True,\n",
    "                                    live_shift=live_shift,\n",
    "                                    min_time = min_time,\n",
    "                                    max_time = max_time,\n",
    "                                    error_window = error_window,\n",
    "                                    error_threshold = error_threshold,\n",
    "                                    RAT_error_window = RAT_error_window,\n",
    "                                    RAT_error_threshold = RAT_error_threshold)"
   ],
   "metadata": {
    "collapsed": false,
    "ExecuteTime": {
     "start_time": "2023-06-08T10:14:56.086809Z",
     "end_time": "2023-06-08T10:14:56.330810Z"
    }
   }
  },
  {
   "cell_type": "code",
   "execution_count": 22,
   "outputs": [],
   "source": [
    "plot_all_signals(raw_chest, instBR_results, \"instBR\", dataset)"
   ],
   "metadata": {
    "collapsed": false,
    "ExecuteTime": {
     "start_time": "2023-06-08T10:14:56.332808Z",
     "end_time": "2023-06-08T10:14:56.996808Z"
    }
   }
  },
  {
   "cell_type": "code",
   "execution_count": 23,
   "outputs": [],
   "source": [
    "VE_results = method1_error_analysis(live_b3_df, pp_b3_df, \"VE\",\n",
    "                                    return_all = True,\n",
    "                                    live_shift=live_shift,\n",
    "                                    min_time = min_time,\n",
    "                                    max_time = max_time,\n",
    "                                    error_window = error_window,\n",
    "                                    error_threshold = error_threshold,\n",
    "                                    RAT_error_window = RAT_error_window,\n",
    "                                    RAT_error_threshold = RAT_error_threshold)\n"
   ],
   "metadata": {
    "collapsed": false,
    "ExecuteTime": {
     "start_time": "2023-06-08T10:14:57.003806Z",
     "end_time": "2023-06-08T10:14:57.293813Z"
    }
   }
  },
  {
   "cell_type": "code",
   "execution_count": 24,
   "outputs": [],
   "source": [
    "plot_all_signals(raw_chest, VE_results, \"VE\", dataset)"
   ],
   "metadata": {
    "collapsed": false,
    "ExecuteTime": {
     "start_time": "2023-06-08T10:14:57.294810Z",
     "end_time": "2023-06-08T10:14:57.998808Z"
    }
   }
  }
 ],
 "metadata": {
  "kernelspec": {
   "display_name": "Python 3",
   "language": "python",
   "name": "python3"
  },
  "language_info": {
   "codemirror_mode": {
    "name": "ipython",
    "version": 2
   },
   "file_extension": ".py",
   "mimetype": "text/x-python",
   "name": "python",
   "nbconvert_exporter": "python",
   "pygments_lexer": "ipython2",
   "version": "2.7.6"
  }
 },
 "nbformat": 4,
 "nbformat_minor": 0
}
